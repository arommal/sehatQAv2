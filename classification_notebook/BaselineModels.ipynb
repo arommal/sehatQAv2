{
 "cells": [
  {
   "cell_type": "code",
   "execution_count": 4,
   "id": "16788032-b7f5-4718-a42a-5d7e35efac04",
   "metadata": {
    "tags": []
   },
   "outputs": [],
   "source": [
    "import string\n",
    "import re\n",
    "import numpy as np\n",
    "import pandas as pd\n",
    "from collections import Counter\n",
    "import itertools\n",
    "from time import time\n",
    "import pickle\n",
    "\n",
    "import matplotlib.pyplot as plt\n",
    "import seaborn as sns\n",
    "\n",
    "import gensim\n",
    "from gensim.models import fasttext, FastText\n",
    "from gensim.models import KeyedVectors, Word2Vec\n",
    "from gensim.test.utils import get_tmpfile\n",
    "\n",
    "import tensorflow as tf\n",
    "from tensorflow.keras import initializers, regularizers, constraints, optimizers, layers\n",
    "from tensorflow.keras.utils import plot_model\n",
    "from tensorflow.keras.models import Model, Sequential, load_model\n",
    "from tensorflow.keras.callbacks import EarlyStopping, ModelCheckpoint\n",
    "from tensorflow.keras.layers import Layer, Input, Embedding, LSTM, Dense, Activation, Bidirectional, Dropout, Conv1D, GlobalMaxPool1D, MaxPooling1D, BatchNormalization, GRU, Attention, Flatten\n",
    "from tensorflow.keras.preprocessing import text, sequence\n",
    "from tensorflow.keras.preprocessing.sequence import pad_sequences\n",
    "from tensorflow.keras.preprocessing.text import Tokenizer\n",
    "from tensorflow.keras.layers import multiply, concatenate\n",
    "from tensorflow.keras.optimizers import Adam\n",
    "from tensorflow.keras.regularizers import l2\n",
    "import tensorflow.keras.backend as K\n",
    "from transformers import BertTokenizer, AutoModel\n",
    "\n",
    "import swifter\n",
    "import nltk\n",
    "from nltk.corpus import stopwords\n",
    "from tensorflow_addons.metrics import HammingLoss\n",
    "\n",
    "import sklearn\n",
    "import skmultilearn\n",
    "from sklearn.pipeline import Pipeline\n",
    "from sklearn.metrics.pairwise import cosine_similarity\n",
    "from sklearn.multiclass import OneVsRestClassifier\n",
    "from sklearn.neighbors import KNeighborsClassifier\n",
    "from sklearn.model_selection import train_test_split\n",
    "from sklearn.feature_extraction.text import TfidfVectorizer\n",
    "from sklearn.naive_bayes import MultinomialNB, GaussianNB\n",
    "from sklearn.svm import LinearSVC\n",
    "from sklearn.linear_model import LogisticRegression\n",
    "from sklearn.metrics import roc_auc_score, accuracy_score, roc_curve, confusion_matrix, multilabel_confusion_matrix, classification_report, hamming_loss\n",
    "from skmultilearn.model_selection import iterative_train_test_split\n",
    "from skmultilearn.problem_transform import BinaryRelevance, ClassifierChain"
   ]
  },
  {
   "cell_type": "markdown",
   "id": "d77047f6-72bb-49a1-97ab-597269f3d759",
   "metadata": {},
   "source": [
    "# Load Data"
   ]
  },
  {
   "cell_type": "code",
   "execution_count": 6,
   "id": "24118dc4-0726-4766-a974-78ea350d0f5b",
   "metadata": {},
   "outputs": [
    {
     "data": {
      "text/html": [
       "<div>\n",
       "<style scoped>\n",
       "    .dataframe tbody tr th:only-of-type {\n",
       "        vertical-align: middle;\n",
       "    }\n",
       "\n",
       "    .dataframe tbody tr th {\n",
       "        vertical-align: top;\n",
       "    }\n",
       "\n",
       "    .dataframe thead th {\n",
       "        text-align: right;\n",
       "    }\n",
       "</style>\n",
       "<table border=\"1\" class=\"dataframe\">\n",
       "  <thead>\n",
       "    <tr style=\"text-align: right;\">\n",
       "      <th></th>\n",
       "      <th>user</th>\n",
       "      <th>title</th>\n",
       "      <th>question</th>\n",
       "      <th>answer</th>\n",
       "      <th>topics</th>\n",
       "      <th>topics_num</th>\n",
       "      <th>labelmap</th>\n",
       "      <th>labels_num</th>\n",
       "      <th>title_clean</th>\n",
       "      <th>question_clean</th>\n",
       "      <th>title_clean_fixtypo</th>\n",
       "      <th>question_clean_fixtypo</th>\n",
       "      <th>text_clean</th>\n",
       "      <th>text_clean_fixtypo</th>\n",
       "    </tr>\n",
       "  </thead>\n",
       "  <tbody>\n",
       "    <tr>\n",
       "      <th>0</th>\n",
       "      <td>subertty</td>\n",
       "      <td>Cara mengatasi gatal, bintik bernanah warna pu...</td>\n",
       "      <td>Dok, saya mengalami penyakit kulit di wajah aw...</td>\n",
       "      <td>Alo, terimakasih sudah bertanya di alodokter.c...</td>\n",
       "      <td>kulit gatal wajah</td>\n",
       "      <td>3</td>\n",
       "      <td>[0, 0, 0, 0, 0, 0, 0, 1, 0, 0]</td>\n",
       "      <td>1</td>\n",
       "      <td>cara atas gatal bintik nanah warna putih rasa ...</td>\n",
       "      <td>alam sakit kulit wajah awalny gatal gatal trus...</td>\n",
       "      <td>cara atas gatal bintik nanah warna putih rasa ...</td>\n",
       "      <td>alam sakit kulit wajah awalnya gatal gatal tru...</td>\n",
       "      <td>cara atas gatal bintik nanah warna putih rasa ...</td>\n",
       "      <td>cara atas gatal bintik nanah warna putih rasa ...</td>\n",
       "    </tr>\n",
       "    <tr>\n",
       "      <th>1</th>\n",
       "      <td>Mflkh</td>\n",
       "      <td>Obat untuk Bekas Jerawat membuat Kulit Mengeri...</td>\n",
       "      <td>Saya seorang mahasiswi yg belum mengikuti kuli...</td>\n",
       "      <td>Halo Mflkh. Terimakasih atas pertanyaannya. Ob...</td>\n",
       "      <td>kulit wajah</td>\n",
       "      <td>2</td>\n",
       "      <td>[0, 0, 0, 0, 0, 0, 0, 1, 0, 0]</td>\n",
       "      <td>1</td>\n",
       "      <td>obat bekas jerawat buat kulit kering perih</td>\n",
       "      <td>orang mahasiswi ikut kuliah sama sekali sering...</td>\n",
       "      <td>obat bekas jerawat buat kulit kering perih</td>\n",
       "      <td>orang mahasiswi ikut kuliah sama sekali sering...</td>\n",
       "      <td>obat bekas jerawat buat kulit kering perih ora...</td>\n",
       "      <td>obat bekas jerawat buat kulit kering perih ora...</td>\n",
       "    </tr>\n",
       "    <tr>\n",
       "      <th>2</th>\n",
       "      <td>Andreanputraalvaro</td>\n",
       "      <td>Benjolan daging di dalam kulit pipi</td>\n",
       "      <td>Hallo dok, Saya mempunyai masalah masalah pada...</td>\n",
       "      <td>Halo Andreanputraalvaro....... Terimakasih ata...</td>\n",
       "      <td>benjolan wajah</td>\n",
       "      <td>2</td>\n",
       "      <td>[0, 0, 0, 0, 0, 0, 1, 0, 0, 0]</td>\n",
       "      <td>1</td>\n",
       "      <td>benjol daging kulit pipi</td>\n",
       "      <td>punya masalah masalah kulit pipi macam benjol ...</td>\n",
       "      <td>benjol daging kulit pipi</td>\n",
       "      <td>punya masalah masalah kulit pipi macam benjol ...</td>\n",
       "      <td>benjol daging kulit pipi punya masalah masalah...</td>\n",
       "      <td>benjol daging kulit pipi punya masalah masalah...</td>\n",
       "    </tr>\n",
       "    <tr>\n",
       "      <th>3</th>\n",
       "      <td>Indah Ayu</td>\n",
       "      <td>Penanganan untuk kulit wajah kering</td>\n",
       "      <td>Assalamualaikum, dok beberapa hari ini kulit m...</td>\n",
       "      <td>Halo Indah,  Saya memahami kekhawatiran Anda. ...</td>\n",
       "      <td>kulit wajah</td>\n",
       "      <td>2</td>\n",
       "      <td>[0, 0, 0, 0, 0, 0, 0, 1, 0, 0]</td>\n",
       "      <td>1</td>\n",
       "      <td>tangan kulit wajah kering</td>\n",
       "      <td>beberapa hari kulit muka kering daerah pipi da...</td>\n",
       "      <td>tangan kulit wajah kering</td>\n",
       "      <td>beberapa hari kulit muka kering daerah pipi da...</td>\n",
       "      <td>tangan kulit wajah kering beberapa hari kulit ...</td>\n",
       "      <td>tangan kulit wajah kering beberapa hari kulit ...</td>\n",
       "    </tr>\n",
       "    <tr>\n",
       "      <th>4</th>\n",
       "      <td>Risna Nurwinda</td>\n",
       "      <td>Solusi pengobatan luka di wajah akibat krim pe...</td>\n",
       "      <td>assalamualaikum dok, saya risna umur saya 19 t...</td>\n",
       "      <td>Halo Risna....... Terimakasih atas pertanyaan ...</td>\n",
       "      <td>alergi wajah</td>\n",
       "      <td>2</td>\n",
       "      <td>[0, 0, 0, 0, 0, 0, 0, 0, 1, 0]</td>\n",
       "      <td>1</td>\n",
       "      <td>solusi obat luka wajah akibat krim putih wajah</td>\n",
       "      <td>risna umur tanya gimana cara ngobatin luka waj...</td>\n",
       "      <td>solusi obat luka wajah akibat krim putih wajah</td>\n",
       "      <td>risna umur tanya gimana cara gobain luka wajah...</td>\n",
       "      <td>solusi obat luka wajah akibat krim putih wajah...</td>\n",
       "      <td>solusi obat luka wajah akibat krim putih wajah...</td>\n",
       "    </tr>\n",
       "    <tr>\n",
       "      <th>...</th>\n",
       "      <td>...</td>\n",
       "      <td>...</td>\n",
       "      <td>...</td>\n",
       "      <td>...</td>\n",
       "      <td>...</td>\n",
       "      <td>...</td>\n",
       "      <td>...</td>\n",
       "      <td>...</td>\n",
       "      <td>...</td>\n",
       "      <td>...</td>\n",
       "      <td>...</td>\n",
       "      <td>...</td>\n",
       "      <td>...</td>\n",
       "      <td>...</td>\n",
       "    </tr>\n",
       "    <tr>\n",
       "      <th>102282</th>\n",
       "      <td>Marini Septi Rosiana W</td>\n",
       "      <td>Mekanisme kerja obat N-acetylcysisteine.</td>\n",
       "      <td>Dok saya mau bertanya. bagaimana mekanisme ker...</td>\n",
       "      <td>Alo Marini ! Terima kasih atas pertanyaannya d...</td>\n",
       "      <td>obat acetylcysteine</td>\n",
       "      <td>2</td>\n",
       "      <td>[0, 0, 1, 0, 0, 0, 0, 0, 0, 0]</td>\n",
       "      <td>1</td>\n",
       "      <td>mekanisme kerja obat acetylcysisteine</td>\n",
       "      <td>tanya bagaimana mekanisme kerja obat acetylsis...</td>\n",
       "      <td>mekanisme kerja obat acetylcysisteine</td>\n",
       "      <td>tanya bagaimana mekanisme kerja obat acetylsis...</td>\n",
       "      <td>mekanisme kerja obat acetylcysisteine tanya ba...</td>\n",
       "      <td>mekanisme kerja obat acetylcysisteine tanya ba...</td>\n",
       "    </tr>\n",
       "    <tr>\n",
       "      <th>102283</th>\n",
       "      <td>Aeniie Jr.</td>\n",
       "      <td>Efek samping obat pada pasien sakit paru-paru</td>\n",
       "      <td>Selamat malam dok, saya mau bertanya..Bapak sa...</td>\n",
       "      <td>Selamat siang, terimakasih atas pertanyaannya ...</td>\n",
       "      <td>obat abses-paru</td>\n",
       "      <td>2</td>\n",
       "      <td>[0, 0, 1, 0, 0, 0, 0, 0, 0, 0]</td>\n",
       "      <td>1</td>\n",
       "      <td>efek samping obat pasien sakit paru paru</td>\n",
       "      <td>malam tanya bapak hbis masuk rumah sakit fonis...</td>\n",
       "      <td>efek samping obat pasien sakit paru paru</td>\n",
       "      <td>malam tanya bapak huis masuk rumah sakit bonis...</td>\n",
       "      <td>efek samping obat pasien sakit paru paru malam...</td>\n",
       "      <td>efek samping obat pasien sakit paru paru malam...</td>\n",
       "    </tr>\n",
       "    <tr>\n",
       "      <th>102284</th>\n",
       "      <td>Suna</td>\n",
       "      <td>Pemberian obat untuk anak yang sakit gigi, gus...</td>\n",
       "      <td>Dok saya mau tanya anak saya sakit gigi gusi b...</td>\n",
       "      <td>Alo, terimakasih atas pertanyaannya. Abses gig...</td>\n",
       "      <td>sakit-gigi obat abses-gigi</td>\n",
       "      <td>3</td>\n",
       "      <td>[0, 0, 1, 0, 0, 0, 0, 0, 0, 0]</td>\n",
       "      <td>1</td>\n",
       "      <td>beri obat anak sakit gigi gusi bengkak abses gigi</td>\n",
       "      <td>tanya anak sakit gigi gusi bengkak abses parah...</td>\n",
       "      <td>beri obat anak sakit gigi gusi bengkak abses gigi</td>\n",
       "      <td>tanya anak sakit gigi gusi bengkak abses parah...</td>\n",
       "      <td>beri obat anak sakit gigi gusi bengkak abses g...</td>\n",
       "      <td>beri obat anak sakit gigi gusi bengkak abses g...</td>\n",
       "    </tr>\n",
       "    <tr>\n",
       "      <th>102285</th>\n",
       "      <td>Sienna</td>\n",
       "      <td>Obat yang dapat digunakan untuk mengatasi abse...</td>\n",
       "      <td>Dok, sblumnya gigi depan saya ngilu dan bengka...</td>\n",
       "      <td>Alo, Obat yang Anda sebutkan mengandung  kaliu...</td>\n",
       "      <td>obat abses-gigi</td>\n",
       "      <td>2</td>\n",
       "      <td>[0, 0, 1, 0, 0, 0, 0, 0, 0, 0]</td>\n",
       "      <td>1</td>\n",
       "      <td>obat atas abses gigi pecah keluar nanah</td>\n",
       "      <td>sblumnya gigi depan ngilu bengkak gitu anjur k...</td>\n",
       "      <td>obat atas abses gigi pecah keluar nanah</td>\n",
       "      <td>selamnya gigi depan ngilu bengkak gitu anjor k...</td>\n",
       "      <td>obat atas abses gigi pecah keluar nanah sblumn...</td>\n",
       "      <td>obat atas abses gigi pecah keluar nanah selamn...</td>\n",
       "    </tr>\n",
       "    <tr>\n",
       "      <th>102286</th>\n",
       "      <td>Muhammad Fikrano</td>\n",
       "      <td>Cara mengatasi abses pada gusi sudah seminggu</td>\n",
       "      <td>Dok, saya pria 23 tahun.. seminggu lalu saya m...</td>\n",
       "      <td>Selamat pagi, terima kasih telah bertanya di A...</td>\n",
       "      <td>obat abses-gigi</td>\n",
       "      <td>2</td>\n",
       "      <td>[0, 0, 1, 0, 0, 0, 0, 0, 0, 0]</td>\n",
       "      <td>1</td>\n",
       "      <td>cara atas abses gusi minggu</td>\n",
       "      <td>pria tahun minggu lalu alam abses gusi pipi be...</td>\n",
       "      <td>cara atas abses gusi minggu</td>\n",
       "      <td>pria tahun minggu lalu alam abses gusi pipi be...</td>\n",
       "      <td>cara atas abses gusi minggu pria tahun minggu ...</td>\n",
       "      <td>cara atas abses gusi minggu pria tahun minggu ...</td>\n",
       "    </tr>\n",
       "  </tbody>\n",
       "</table>\n",
       "<p>102287 rows × 14 columns</p>\n",
       "</div>"
      ],
      "text/plain": [
       "                          user  \\\n",
       "0                    subertty    \n",
       "1                        Mflkh   \n",
       "2           Andreanputraalvaro   \n",
       "3                    Indah Ayu   \n",
       "4               Risna Nurwinda   \n",
       "...                        ...   \n",
       "102282  Marini Septi Rosiana W   \n",
       "102283              Aeniie Jr.   \n",
       "102284                   Suna    \n",
       "102285                 Sienna    \n",
       "102286        Muhammad Fikrano   \n",
       "\n",
       "                                                    title  \\\n",
       "0       Cara mengatasi gatal, bintik bernanah warna pu...   \n",
       "1       Obat untuk Bekas Jerawat membuat Kulit Mengeri...   \n",
       "2                     Benjolan daging di dalam kulit pipi   \n",
       "3                     Penanganan untuk kulit wajah kering   \n",
       "4       Solusi pengobatan luka di wajah akibat krim pe...   \n",
       "...                                                   ...   \n",
       "102282           Mekanisme kerja obat N-acetylcysisteine.   \n",
       "102283      Efek samping obat pada pasien sakit paru-paru   \n",
       "102284  Pemberian obat untuk anak yang sakit gigi, gus...   \n",
       "102285  Obat yang dapat digunakan untuk mengatasi abse...   \n",
       "102286      Cara mengatasi abses pada gusi sudah seminggu   \n",
       "\n",
       "                                                 question  \\\n",
       "0       Dok, saya mengalami penyakit kulit di wajah aw...   \n",
       "1       Saya seorang mahasiswi yg belum mengikuti kuli...   \n",
       "2       Hallo dok, Saya mempunyai masalah masalah pada...   \n",
       "3       Assalamualaikum, dok beberapa hari ini kulit m...   \n",
       "4       assalamualaikum dok, saya risna umur saya 19 t...   \n",
       "...                                                   ...   \n",
       "102282  Dok saya mau bertanya. bagaimana mekanisme ker...   \n",
       "102283  Selamat malam dok, saya mau bertanya..Bapak sa...   \n",
       "102284  Dok saya mau tanya anak saya sakit gigi gusi b...   \n",
       "102285  Dok, sblumnya gigi depan saya ngilu dan bengka...   \n",
       "102286  Dok, saya pria 23 tahun.. seminggu lalu saya m...   \n",
       "\n",
       "                                                   answer  \\\n",
       "0       Alo, terimakasih sudah bertanya di alodokter.c...   \n",
       "1       Halo Mflkh. Terimakasih atas pertanyaannya. Ob...   \n",
       "2       Halo Andreanputraalvaro....... Terimakasih ata...   \n",
       "3       Halo Indah,  Saya memahami kekhawatiran Anda. ...   \n",
       "4       Halo Risna....... Terimakasih atas pertanyaan ...   \n",
       "...                                                   ...   \n",
       "102282  Alo Marini ! Terima kasih atas pertanyaannya d...   \n",
       "102283  Selamat siang, terimakasih atas pertanyaannya ...   \n",
       "102284  Alo, terimakasih atas pertanyaannya. Abses gig...   \n",
       "102285  Alo, Obat yang Anda sebutkan mengandung  kaliu...   \n",
       "102286  Selamat pagi, terima kasih telah bertanya di A...   \n",
       "\n",
       "                            topics  topics_num  \\\n",
       "0                kulit gatal wajah           3   \n",
       "1                      kulit wajah           2   \n",
       "2                   benjolan wajah           2   \n",
       "3                      kulit wajah           2   \n",
       "4                     alergi wajah           2   \n",
       "...                            ...         ...   \n",
       "102282         obat acetylcysteine           2   \n",
       "102283             obat abses-paru           2   \n",
       "102284  sakit-gigi obat abses-gigi           3   \n",
       "102285             obat abses-gigi           2   \n",
       "102286             obat abses-gigi           2   \n",
       "\n",
       "                              labelmap  labels_num  \\\n",
       "0       [0, 0, 0, 0, 0, 0, 0, 1, 0, 0]           1   \n",
       "1       [0, 0, 0, 0, 0, 0, 0, 1, 0, 0]           1   \n",
       "2       [0, 0, 0, 0, 0, 0, 1, 0, 0, 0]           1   \n",
       "3       [0, 0, 0, 0, 0, 0, 0, 1, 0, 0]           1   \n",
       "4       [0, 0, 0, 0, 0, 0, 0, 0, 1, 0]           1   \n",
       "...                                ...         ...   \n",
       "102282  [0, 0, 1, 0, 0, 0, 0, 0, 0, 0]           1   \n",
       "102283  [0, 0, 1, 0, 0, 0, 0, 0, 0, 0]           1   \n",
       "102284  [0, 0, 1, 0, 0, 0, 0, 0, 0, 0]           1   \n",
       "102285  [0, 0, 1, 0, 0, 0, 0, 0, 0, 0]           1   \n",
       "102286  [0, 0, 1, 0, 0, 0, 0, 0, 0, 0]           1   \n",
       "\n",
       "                                              title_clean  \\\n",
       "0       cara atas gatal bintik nanah warna putih rasa ...   \n",
       "1              obat bekas jerawat buat kulit kering perih   \n",
       "2                                benjol daging kulit pipi   \n",
       "3                               tangan kulit wajah kering   \n",
       "4          solusi obat luka wajah akibat krim putih wajah   \n",
       "...                                                   ...   \n",
       "102282              mekanisme kerja obat acetylcysisteine   \n",
       "102283           efek samping obat pasien sakit paru paru   \n",
       "102284  beri obat anak sakit gigi gusi bengkak abses gigi   \n",
       "102285            obat atas abses gigi pecah keluar nanah   \n",
       "102286                        cara atas abses gusi minggu   \n",
       "\n",
       "                                           question_clean  \\\n",
       "0       alam sakit kulit wajah awalny gatal gatal trus...   \n",
       "1       orang mahasiswi ikut kuliah sama sekali sering...   \n",
       "2       punya masalah masalah kulit pipi macam benjol ...   \n",
       "3       beberapa hari kulit muka kering daerah pipi da...   \n",
       "4       risna umur tanya gimana cara ngobatin luka waj...   \n",
       "...                                                   ...   \n",
       "102282  tanya bagaimana mekanisme kerja obat acetylsis...   \n",
       "102283  malam tanya bapak hbis masuk rumah sakit fonis...   \n",
       "102284  tanya anak sakit gigi gusi bengkak abses parah...   \n",
       "102285  sblumnya gigi depan ngilu bengkak gitu anjur k...   \n",
       "102286  pria tahun minggu lalu alam abses gusi pipi be...   \n",
       "\n",
       "                                      title_clean_fixtypo  \\\n",
       "0       cara atas gatal bintik nanah warna putih rasa ...   \n",
       "1              obat bekas jerawat buat kulit kering perih   \n",
       "2                                benjol daging kulit pipi   \n",
       "3                               tangan kulit wajah kering   \n",
       "4          solusi obat luka wajah akibat krim putih wajah   \n",
       "...                                                   ...   \n",
       "102282              mekanisme kerja obat acetylcysisteine   \n",
       "102283           efek samping obat pasien sakit paru paru   \n",
       "102284  beri obat anak sakit gigi gusi bengkak abses gigi   \n",
       "102285            obat atas abses gigi pecah keluar nanah   \n",
       "102286                        cara atas abses gusi minggu   \n",
       "\n",
       "                                   question_clean_fixtypo  \\\n",
       "0       alam sakit kulit wajah awalnya gatal gatal tru...   \n",
       "1       orang mahasiswi ikut kuliah sama sekali sering...   \n",
       "2       punya masalah masalah kulit pipi macam benjol ...   \n",
       "3       beberapa hari kulit muka kering daerah pipi da...   \n",
       "4       risna umur tanya gimana cara gobain luka wajah...   \n",
       "...                                                   ...   \n",
       "102282  tanya bagaimana mekanisme kerja obat acetylsis...   \n",
       "102283  malam tanya bapak huis masuk rumah sakit bonis...   \n",
       "102284  tanya anak sakit gigi gusi bengkak abses parah...   \n",
       "102285  selamnya gigi depan ngilu bengkak gitu anjor k...   \n",
       "102286  pria tahun minggu lalu alam abses gusi pipi be...   \n",
       "\n",
       "                                               text_clean  \\\n",
       "0       cara atas gatal bintik nanah warna putih rasa ...   \n",
       "1       obat bekas jerawat buat kulit kering perih ora...   \n",
       "2       benjol daging kulit pipi punya masalah masalah...   \n",
       "3       tangan kulit wajah kering beberapa hari kulit ...   \n",
       "4       solusi obat luka wajah akibat krim putih wajah...   \n",
       "...                                                   ...   \n",
       "102282  mekanisme kerja obat acetylcysisteine tanya ba...   \n",
       "102283  efek samping obat pasien sakit paru paru malam...   \n",
       "102284  beri obat anak sakit gigi gusi bengkak abses g...   \n",
       "102285  obat atas abses gigi pecah keluar nanah sblumn...   \n",
       "102286  cara atas abses gusi minggu pria tahun minggu ...   \n",
       "\n",
       "                                       text_clean_fixtypo  \n",
       "0       cara atas gatal bintik nanah warna putih rasa ...  \n",
       "1       obat bekas jerawat buat kulit kering perih ora...  \n",
       "2       benjol daging kulit pipi punya masalah masalah...  \n",
       "3       tangan kulit wajah kering beberapa hari kulit ...  \n",
       "4       solusi obat luka wajah akibat krim putih wajah...  \n",
       "...                                                   ...  \n",
       "102282  mekanisme kerja obat acetylcysisteine tanya ba...  \n",
       "102283  efek samping obat pasien sakit paru paru malam...  \n",
       "102284  beri obat anak sakit gigi gusi bengkak abses g...  \n",
       "102285  obat atas abses gigi pecah keluar nanah selamn...  \n",
       "102286  cara atas abses gusi minggu pria tahun minggu ...  \n",
       "\n",
       "[102287 rows x 14 columns]"
      ]
     },
     "execution_count": 6,
     "metadata": {},
     "output_type": "execute_result"
    }
   ],
   "source": [
    "df = pd.read_pickle(\"alodokter_final_selected_5.pkl\")\n",
    "df = df.reset_index()\n",
    "df = df.iloc[:, 1:]\n",
    "df['labelmap'] = df['labelmap'].apply(lambda x: np.array(x))\n",
    "df"
   ]
  },
  {
   "cell_type": "code",
   "execution_count": 59,
   "id": "fcf42dd9-d7d5-47a6-a36c-eb436046d01c",
   "metadata": {},
   "outputs": [],
   "source": [
    "labels2 = []\n",
    "\n",
    "for _, record in df.iterrows():\n",
    "    labels2 += record.topics.split(\" \")\n",
    "    \n",
    "labels2_counter = Counter(labels2)\n",
    "labels2_name = [i[0] for i in labels2_counter.most_common(10)]\n",
    "labels2_freq = [i[1] for i in labels2_counter.most_common(10)]"
   ]
  },
  {
   "cell_type": "code",
   "execution_count": 60,
   "id": "5c669b0b-5d1d-4c9e-a950-0e1809719b4b",
   "metadata": {},
   "outputs": [
    {
     "data": {
      "image/png": "[encoded data removed]",
      "text/plain": [
       "<Figure size 432x288 with 1 Axes>"
      ]
     },
     "metadata": {
      "needs_background": "light"
     },
     "output_type": "display_data"
    }
   ],
   "source": [
    "f, ax = plt.subplots()\n",
    "\n",
    "plt.barh(labels2_name, labels2_freq)\n",
    "plt.xlabel(\"Frekuensi\")\n",
    "plt.ylabel(\"Topik\")\n",
    "# plt.title('Frequency of Top 10 Topics in Selected & Cleaned Dataset')\n",
    "\n",
    "plt.show()"
   ]
  },
  {
   "cell_type": "code",
   "execution_count": 7,
   "id": "99764f4f-67a2-4974-942c-19afce193f9f",
   "metadata": {},
   "outputs": [
    {
     "data": {
      "text/html": [
       "<div>\n",
       "<style scoped>\n",
       "    .dataframe tbody tr th:only-of-type {\n",
       "        vertical-align: middle;\n",
       "    }\n",
       "\n",
       "    .dataframe tbody tr th {\n",
       "        vertical-align: top;\n",
       "    }\n",
       "\n",
       "    .dataframe thead th {\n",
       "        text-align: right;\n",
       "    }\n",
       "</style>\n",
       "<table border=\"1\" class=\"dataframe\">\n",
       "  <thead>\n",
       "    <tr style=\"text-align: right;\">\n",
       "      <th></th>\n",
       "      <th>index</th>\n",
       "      <th>label</th>\n",
       "    </tr>\n",
       "  </thead>\n",
       "  <tbody>\n",
       "    <tr>\n",
       "      <th>0</th>\n",
       "      <td>0</td>\n",
       "      <td>menstruasi</td>\n",
       "    </tr>\n",
       "    <tr>\n",
       "      <th>1</th>\n",
       "      <td>1</td>\n",
       "      <td>kehamilan</td>\n",
       "    </tr>\n",
       "    <tr>\n",
       "      <th>2</th>\n",
       "      <td>2</td>\n",
       "      <td>obat</td>\n",
       "    </tr>\n",
       "    <tr>\n",
       "      <th>3</th>\n",
       "      <td>3</td>\n",
       "      <td>asam-lambung</td>\n",
       "    </tr>\n",
       "    <tr>\n",
       "      <th>4</th>\n",
       "      <td>4</td>\n",
       "      <td>bayi</td>\n",
       "    </tr>\n",
       "    <tr>\n",
       "      <th>5</th>\n",
       "      <td>5</td>\n",
       "      <td>sakit-kepala</td>\n",
       "    </tr>\n",
       "    <tr>\n",
       "      <th>6</th>\n",
       "      <td>6</td>\n",
       "      <td>benjolan</td>\n",
       "    </tr>\n",
       "    <tr>\n",
       "      <th>7</th>\n",
       "      <td>7</td>\n",
       "      <td>kulit</td>\n",
       "    </tr>\n",
       "    <tr>\n",
       "      <th>8</th>\n",
       "      <td>8</td>\n",
       "      <td>alergi</td>\n",
       "    </tr>\n",
       "    <tr>\n",
       "      <th>9</th>\n",
       "      <td>9</td>\n",
       "      <td>kontrasepsi</td>\n",
       "    </tr>\n",
       "  </tbody>\n",
       "</table>\n",
       "</div>"
      ],
      "text/plain": [
       "   index         label\n",
       "0      0    menstruasi\n",
       "1      1     kehamilan\n",
       "2      2          obat\n",
       "3      3  asam-lambung\n",
       "4      4          bayi\n",
       "5      5  sakit-kepala\n",
       "6      6      benjolan\n",
       "7      7         kulit\n",
       "8      8        alergi\n",
       "9      9   kontrasepsi"
      ]
     },
     "execution_count": 7,
     "metadata": {},
     "output_type": "execute_result"
    }
   ],
   "source": [
    "df_labels = pd.read_csv(\"labels.csv\")\n",
    "df_labels"
   ]
  },
  {
   "cell_type": "code",
   "execution_count": 9,
   "id": "b11c70d5-dffd-46e5-bff1-fc951a891d75",
   "metadata": {},
   "outputs": [],
   "source": [
    "one_hot_labels = pd.DataFrame(df.labelmap.values.tolist(), columns=['menstruasi', 'kehamilan','obat','asam-lambung','bayi','sakit-kepala','benjolan','kulit','alergi','kontrasepsi'])\n",
    "formatted_data = pd.concat([df, one_hot_labels], axis=1)"
   ]
  },
  {
   "cell_type": "code",
   "execution_count": 8,
   "id": "4e1aefb3-52dc-45e0-93d7-9000b63992eb",
   "metadata": {},
   "outputs": [
    {
     "data": {
      "text/plain": [
       "array(['menstruasi', 'kehamilan', 'obat', 'asam-lambung', 'bayi',\n",
       "       'sakit-kepala', 'benjolan', 'kulit', 'alergi', 'kontrasepsi'],\n",
       "      dtype=object)"
      ]
     },
     "execution_count": 8,
     "metadata": {},
     "output_type": "execute_result"
    }
   ],
   "source": [
    "labels = df_labels['label'].values\n",
    "labels"
   ]
  },
  {
   "cell_type": "code",
   "execution_count": 10,
   "id": "1c29d998-fe18-41cf-a557-89071cc651e1",
   "metadata": {},
   "outputs": [
    {
     "name": "stdout",
     "output_type": "stream",
     "text": [
      "4.0\n"
     ]
    }
   ],
   "source": [
    "import pickle \n",
    "print(pickle.format_version)"
   ]
  },
  {
   "cell_type": "markdown",
   "id": "9df0412d-5356-4438-ac32-e8d1dd778a0a",
   "metadata": {
    "tags": []
   },
   "source": [
    "# Pretrained Embeddings"
   ]
  },
  {
   "cell_type": "markdown",
   "id": "b4cd0722-e80a-46ce-83d4-5f43d1ae4cbe",
   "metadata": {
    "tags": []
   },
   "source": [
    "## FastText"
   ]
  },
  {
   "cell_type": "code",
   "execution_count": 11,
   "id": "84904e41-314c-4e50-a196-227ebf39f349",
   "metadata": {},
   "outputs": [],
   "source": [
    "embedding_path = \"cc.id.300.bin/cc.id.300.bin\"\n",
    "ft = fasttext.load_facebook_model(embedding_path)\n",
    "# ft.wv.save('fasttext_gensim.model')"
   ]
  },
  {
   "cell_type": "markdown",
   "id": "569f7320-cdcd-4ddf-961b-80d8890634eb",
   "metadata": {},
   "source": [
    "## Word2Vec"
   ]
  },
  {
   "cell_type": "code",
   "execution_count": 12,
   "id": "0233dcea-103b-4a46-8da9-7e9a3d12e7ca",
   "metadata": {},
   "outputs": [
    {
     "data": {
      "text/plain": [
       "331792"
      ]
     },
     "execution_count": 12,
     "metadata": {},
     "output_type": "execute_result"
    }
   ],
   "source": [
    "id_w2v = KeyedVectors.load(\"id-word2vec\", mmap='r')\n",
    "len(id_w2v)"
   ]
  },
  {
   "cell_type": "markdown",
   "id": "b614175e-7603-4f41-9c3d-f603a4f0c917",
   "metadata": {
    "tags": []
   },
   "source": [
    "# Train and Test Dataframe"
   ]
  },
  {
   "cell_type": "markdown",
   "id": "5ec99bf9-6fe1-4870-94cd-5e17b4ec21f8",
   "metadata": {
    "tags": []
   },
   "source": [
    "## Declare"
   ]
  },
  {
   "cell_type": "code",
   "execution_count": 27,
   "id": "bb08d23e-53bf-4c74-a513-b4b894b78fb6",
   "metadata": {},
   "outputs": [
    {
     "name": "stdout",
     "output_type": "stream",
     "text": [
      "Found 41091 unique tokens.\n"
     ]
    }
   ],
   "source": [
    "# Tokenize 'text_clean' column\n",
    "# tokenizer = Tokenizer()\n",
    "# tokenizer.fit_on_texts(formatted_data['text_clean_fixtypo'])\n",
    "\n",
    "with open('tokenizer_text_fixtypo.pickle', 'rb') as handle:\n",
    "    tokenizer = pickle.load(handle)\n",
    "\n",
    "word_index = tokenizer.word_index\n",
    "print('Found %s unique tokens.' % len(word_index))\n",
    "\n",
    "# max_length = max([len(seq) for seq in sequences])\n",
    "max_length = 300"
   ]
  },
  {
   "cell_type": "code",
   "execution_count": 15,
   "id": "d1ed578e-21df-4958-ad57-e43aa4e95ca5",
   "metadata": {},
   "outputs": [],
   "source": [
    "train_df = pd.read_pickle(\"alodokter_train_text.pkl\")\n",
    "train_df = train_df.reset_index()\n",
    "train_df = train_df.iloc[:, 1:]\n",
    "train_df['label'] = train_df['label'].apply(lambda x: np.array(x))\n",
    "\n",
    "test_df = pd.read_pickle(\"alodokter_test_text.pkl\")\n",
    "test_df = test_df.reset_index()\n",
    "test_df = test_df.iloc[:, 1:]\n",
    "test_df['label'] = test_df['label'].apply(lambda x: np.array(x))"
   ]
  },
  {
   "cell_type": "code",
   "execution_count": 18,
   "id": "956fa8fb-38d9-4787-be60-bcbde584abf7",
   "metadata": {},
   "outputs": [],
   "source": [
    "train_df['text_clean'] = train_df['text_clean'].apply(lambda xs: ''.join(str(x) for x in xs))\n",
    "test_df['text_clean'] = test_df['text_clean'].apply(lambda xs: ''.join(str(x) for x in xs))"
   ]
  },
  {
   "cell_type": "code",
   "execution_count": 21,
   "id": "4fa71a93-1175-4abd-aa5a-24b4e48d73ef",
   "metadata": {},
   "outputs": [],
   "source": [
    "train_one_hot = pd.DataFrame(train_df.label.values.tolist(), columns=['menstruasi', 'kehamilan','obat','asam-lambung','bayi','sakit-kepala','benjolan','kulit','alergi','kontrasepsi'])\n",
    "test_one_hot = pd.DataFrame(test_df.label.values.tolist(), columns=['menstruasi', 'kehamilan','obat','asam-lambung','bayi','sakit-kepala','benjolan','kulit','alergi','kontrasepsi'])"
   ]
  },
  {
   "cell_type": "code",
   "execution_count": 22,
   "id": "5e3ace96-ce6c-458d-a486-8cb5d8875e0e",
   "metadata": {},
   "outputs": [],
   "source": [
    "train_df = pd.concat([train_df, train_one_hot], axis=1)\n",
    "test_df = pd.concat([test_df, test_one_hot], axis=1)"
   ]
  },
  {
   "cell_type": "code",
   "execution_count": 23,
   "id": "19b1e858-7bb8-465b-abd1-ba0c8e080bb9",
   "metadata": {},
   "outputs": [],
   "source": [
    "X_train = train_df[['text_clean']].values\n",
    "X_test = test_df[['text_clean']].values\n",
    "\n",
    "y_train = train_df[['menstruasi', 'kehamilan','obat','asam-lambung','bayi','sakit-kepala','benjolan','kulit','alergi','kontrasepsi']].values\n",
    "y_test = test_df[['menstruasi', 'kehamilan','obat','asam-lambung','bayi','sakit-kepala','benjolan','kulit','alergi','kontrasepsi']].values"
   ]
  },
  {
   "cell_type": "markdown",
   "id": "40ca70a8-56f0-48f0-9c52-d17cebba2e2f",
   "metadata": {},
   "source": [
    "### Format declared"
   ]
  },
  {
   "cell_type": "code",
   "execution_count": 28,
   "id": "d1c7b0f1-6d5b-4aec-9473-31203a19b34f",
   "metadata": {},
   "outputs": [],
   "source": [
    "# Vectorize text\n",
    "train_sequences = tokenizer.texts_to_sequences(np.concatenate(X_train))\n",
    "test_sequences = tokenizer.texts_to_sequences(np.concatenate(X_test))\n",
    "\n",
    "# Create padded sequences for vectorized text\n",
    "train_padded_sequences = pad_sequences(train_sequences, maxlen=max_length, padding='post')\n",
    "test_padded_sequences = pad_sequences(test_sequences, maxlen=max_length, padding='post')"
   ]
  },
  {
   "cell_type": "code",
   "execution_count": 29,
   "id": "7449c2db-030a-4e82-9929-c30eda296a15",
   "metadata": {},
   "outputs": [],
   "source": [
    "X_train = train_padded_sequences\n",
    "X_test = test_padded_sequences"
   ]
  },
  {
   "cell_type": "markdown",
   "id": "5465293d-bc90-4b69-a9a7-72d2bb26c579",
   "metadata": {
    "tags": []
   },
   "source": [
    "## Load"
   ]
  },
  {
   "cell_type": "code",
   "execution_count": 37,
   "id": "28cc56f5-7ce1-4c5a-b7f1-8bac8a858d2e",
   "metadata": {},
   "outputs": [
    {
     "data": {
      "text/html": [
       "<div>\n",
       "<style scoped>\n",
       "    .dataframe tbody tr th:only-of-type {\n",
       "        vertical-align: middle;\n",
       "    }\n",
       "\n",
       "    .dataframe tbody tr th {\n",
       "        vertical-align: top;\n",
       "    }\n",
       "\n",
       "    .dataframe thead th {\n",
       "        text-align: right;\n",
       "    }\n",
       "</style>\n",
       "<table border=\"1\" class=\"dataframe\">\n",
       "  <thead>\n",
       "    <tr style=\"text-align: right;\">\n",
       "      <th></th>\n",
       "      <th>text_clean</th>\n",
       "      <th>label</th>\n",
       "    </tr>\n",
       "  </thead>\n",
       "  <tbody>\n",
       "    <tr>\n",
       "      <th>0</th>\n",
       "      <td>hitung hari beri dosis zinc bayi diare bagaima...</td>\n",
       "      <td>[0, 0, 0, 0, 1, 0, 0, 0, 0, 0]</td>\n",
       "    </tr>\n",
       "    <tr>\n",
       "      <th>1</th>\n",
       "      <td>dosis obat aktif ipratropium bromide salbutamo...</td>\n",
       "      <td>[0, 0, 1, 0, 0, 0, 0, 0, 0, 0]</td>\n",
       "    </tr>\n",
       "    <tr>\n",
       "      <th>2</th>\n",
       "      <td>dampak cincin bahan dasar timah hadap sehat tu...</td>\n",
       "      <td>[0, 0, 0, 0, 0, 0, 0, 1, 0, 0]</td>\n",
       "    </tr>\n",
       "    <tr>\n",
       "      <th>3</th>\n",
       "      <td>dosis cara obat nebulasi mohon saran berapa do...</td>\n",
       "      <td>[0, 0, 1, 0, 0, 0, 0, 0, 0, 0]</td>\n",
       "    </tr>\n",
       "    <tr>\n",
       "      <th>4</th>\n",
       "      <td>efek samping campur body lotion tanya baik mem...</td>\n",
       "      <td>[0, 0, 0, 0, 0, 0, 0, 0, 1, 0]</td>\n",
       "    </tr>\n",
       "    <tr>\n",
       "      <th>...</th>\n",
       "      <td>...</td>\n",
       "      <td>...</td>\n",
       "    </tr>\n",
       "    <tr>\n",
       "      <th>66192</th>\n",
       "      <td>bahaya salah dosis obat antivirus tanya bahaya...</td>\n",
       "      <td>[0, 0, 1, 0, 0, 0, 0, 0, 0, 0]</td>\n",
       "    </tr>\n",
       "    <tr>\n",
       "      <th>66193</th>\n",
       "      <td>bolehkah obat acyclovir konsumsi seblum makan ...</td>\n",
       "      <td>[0, 0, 1, 0, 0, 0, 0, 0, 0, 0]</td>\n",
       "    </tr>\n",
       "    <tr>\n",
       "      <th>66194</th>\n",
       "      <td>torch program hamil salam sept lalu gugur hami...</td>\n",
       "      <td>[0, 0, 1, 0, 0, 0, 0, 0, 0, 0]</td>\n",
       "    </tr>\n",
       "    <tr>\n",
       "      <th>66195</th>\n",
       "      <td>beri obat anak sakit gigi gusi bengkak abses g...</td>\n",
       "      <td>[0, 0, 1, 0, 0, 0, 0, 0, 0, 0]</td>\n",
       "    </tr>\n",
       "    <tr>\n",
       "      <th>66196</th>\n",
       "      <td>cara atas abses gusi minggu pria tahun minggu ...</td>\n",
       "      <td>[0, 0, 1, 0, 0, 0, 0, 0, 0, 0]</td>\n",
       "    </tr>\n",
       "  </tbody>\n",
       "</table>\n",
       "<p>66197 rows × 2 columns</p>\n",
       "</div>"
      ],
      "text/plain": [
       "                                              text_clean  \\\n",
       "0      hitung hari beri dosis zinc bayi diare bagaima...   \n",
       "1      dosis obat aktif ipratropium bromide salbutamo...   \n",
       "2      dampak cincin bahan dasar timah hadap sehat tu...   \n",
       "3      dosis cara obat nebulasi mohon saran berapa do...   \n",
       "4      efek samping campur body lotion tanya baik mem...   \n",
       "...                                                  ...   \n",
       "66192  bahaya salah dosis obat antivirus tanya bahaya...   \n",
       "66193  bolehkah obat acyclovir konsumsi seblum makan ...   \n",
       "66194  torch program hamil salam sept lalu gugur hami...   \n",
       "66195  beri obat anak sakit gigi gusi bengkak abses g...   \n",
       "66196  cara atas abses gusi minggu pria tahun minggu ...   \n",
       "\n",
       "                                label  \n",
       "0      [0, 0, 0, 0, 1, 0, 0, 0, 0, 0]  \n",
       "1      [0, 0, 1, 0, 0, 0, 0, 0, 0, 0]  \n",
       "2      [0, 0, 0, 0, 0, 0, 0, 1, 0, 0]  \n",
       "3      [0, 0, 1, 0, 0, 0, 0, 0, 0, 0]  \n",
       "4      [0, 0, 0, 0, 0, 0, 0, 0, 1, 0]  \n",
       "...                               ...  \n",
       "66192  [0, 0, 1, 0, 0, 0, 0, 0, 0, 0]  \n",
       "66193  [0, 0, 1, 0, 0, 0, 0, 0, 0, 0]  \n",
       "66194  [0, 0, 1, 0, 0, 0, 0, 0, 0, 0]  \n",
       "66195  [0, 0, 1, 0, 0, 0, 0, 0, 0, 0]  \n",
       "66196  [0, 0, 1, 0, 0, 0, 0, 0, 0, 0]  \n",
       "\n",
       "[66197 rows x 2 columns]"
      ]
     },
     "execution_count": 37,
     "metadata": {},
     "output_type": "execute_result"
    }
   ],
   "source": [
    "train_df = pd.read_pickle(\"alodokter_train.pkl\")\n",
    "train_df = train_df.reset_index()\n",
    "train_df = train_df.iloc[:, 1:]\n",
    "train_df['label'] = train_df['label'].apply(lambda x: np.array(x))\n",
    "train_df"
   ]
  },
  {
   "cell_type": "code",
   "execution_count": 38,
   "id": "cf442f50-178a-4f28-a72a-09e593f3dcc4",
   "metadata": {},
   "outputs": [
    {
     "data": {
      "text/html": [
       "<div>\n",
       "<style scoped>\n",
       "    .dataframe tbody tr th:only-of-type {\n",
       "        vertical-align: middle;\n",
       "    }\n",
       "\n",
       "    .dataframe tbody tr th {\n",
       "        vertical-align: top;\n",
       "    }\n",
       "\n",
       "    .dataframe thead th {\n",
       "        text-align: right;\n",
       "    }\n",
       "</style>\n",
       "<table border=\"1\" class=\"dataframe\">\n",
       "  <thead>\n",
       "    <tr style=\"text-align: right;\">\n",
       "      <th></th>\n",
       "      <th>text_clean</th>\n",
       "      <th>label</th>\n",
       "    </tr>\n",
       "  </thead>\n",
       "  <tbody>\n",
       "    <tr>\n",
       "      <th>0</th>\n",
       "      <td>konsumsi zinc derita asam lambung punya riwaya...</td>\n",
       "      <td>[0, 0, 0, 1, 0, 0, 0, 0, 0, 0]</td>\n",
       "    </tr>\n",
       "    <tr>\n",
       "      <th>1</th>\n",
       "      <td>lidah mati rasa kumur sabun cair slmt salah ku...</td>\n",
       "      <td>[0, 0, 0, 0, 0, 0, 0, 0, 1, 0]</td>\n",
       "    </tr>\n",
       "    <tr>\n",
       "      <th>2</th>\n",
       "      <td>beda obat tradisional obat kimia tanya bagaima...</td>\n",
       "      <td>[0, 0, 1, 0, 0, 0, 0, 0, 0, 0]</td>\n",
       "    </tr>\n",
       "    <tr>\n",
       "      <th>3</th>\n",
       "      <td>aman kalung buat batu germanium klinis kena ka...</td>\n",
       "      <td>[0, 0, 0, 0, 0, 0, 0, 1, 0, 0]</td>\n",
       "    </tr>\n",
       "    <tr>\n",
       "      <th>4</th>\n",
       "      <td>dampak konsumsi jenis obat cara sama cara halu...</td>\n",
       "      <td>[0, 0, 1, 0, 0, 0, 0, 0, 0, 0]</td>\n",
       "    </tr>\n",
       "    <tr>\n",
       "      <th>...</th>\n",
       "      <td>...</td>\n",
       "      <td>...</td>\n",
       "    </tr>\n",
       "    <tr>\n",
       "      <th>28375</th>\n",
       "      <td>pasca pasang ring jantung pasang ring jantung ...</td>\n",
       "      <td>[0, 0, 0, 1, 0, 0, 0, 0, 0, 0]</td>\n",
       "    </tr>\n",
       "    <tr>\n",
       "      <th>28376</th>\n",
       "      <td>sakit dada belah kiri atas sakit dada belah ki...</td>\n",
       "      <td>[0, 0, 0, 1, 0, 0, 0, 0, 0, 0]</td>\n",
       "    </tr>\n",
       "    <tr>\n",
       "      <th>28377</th>\n",
       "      <td>nyeri rusuk dekat jantung sore tanya nyeri car...</td>\n",
       "      <td>[0, 0, 0, 1, 0, 0, 0, 0, 0, 0]</td>\n",
       "    </tr>\n",
       "    <tr>\n",
       "      <th>28378</th>\n",
       "      <td>sakit dada gerak rasa sakit dada gerak dada te...</td>\n",
       "      <td>[0, 0, 0, 1, 0, 0, 0, 0, 0, 0]</td>\n",
       "    </tr>\n",
       "    <tr>\n",
       "      <th>28379</th>\n",
       "      <td>bintik kecil gatal vagina muncul menstruasi an...</td>\n",
       "      <td>[1, 0, 0, 0, 0, 0, 0, 0, 1, 0]</td>\n",
       "    </tr>\n",
       "  </tbody>\n",
       "</table>\n",
       "<p>28380 rows × 2 columns</p>\n",
       "</div>"
      ],
      "text/plain": [
       "                                              text_clean  \\\n",
       "0      konsumsi zinc derita asam lambung punya riwaya...   \n",
       "1      lidah mati rasa kumur sabun cair slmt salah ku...   \n",
       "2      beda obat tradisional obat kimia tanya bagaima...   \n",
       "3      aman kalung buat batu germanium klinis kena ka...   \n",
       "4      dampak konsumsi jenis obat cara sama cara halu...   \n",
       "...                                                  ...   \n",
       "28375  pasca pasang ring jantung pasang ring jantung ...   \n",
       "28376  sakit dada belah kiri atas sakit dada belah ki...   \n",
       "28377  nyeri rusuk dekat jantung sore tanya nyeri car...   \n",
       "28378  sakit dada gerak rasa sakit dada gerak dada te...   \n",
       "28379  bintik kecil gatal vagina muncul menstruasi an...   \n",
       "\n",
       "                                label  \n",
       "0      [0, 0, 0, 1, 0, 0, 0, 0, 0, 0]  \n",
       "1      [0, 0, 0, 0, 0, 0, 0, 0, 1, 0]  \n",
       "2      [0, 0, 1, 0, 0, 0, 0, 0, 0, 0]  \n",
       "3      [0, 0, 0, 0, 0, 0, 0, 1, 0, 0]  \n",
       "4      [0, 0, 1, 0, 0, 0, 0, 0, 0, 0]  \n",
       "...                               ...  \n",
       "28375  [0, 0, 0, 1, 0, 0, 0, 0, 0, 0]  \n",
       "28376  [0, 0, 0, 1, 0, 0, 0, 0, 0, 0]  \n",
       "28377  [0, 0, 0, 1, 0, 0, 0, 0, 0, 0]  \n",
       "28378  [0, 0, 0, 1, 0, 0, 0, 0, 0, 0]  \n",
       "28379  [1, 0, 0, 0, 0, 0, 0, 0, 1, 0]  \n",
       "\n",
       "[28380 rows x 2 columns]"
      ]
     },
     "execution_count": 38,
     "metadata": {},
     "output_type": "execute_result"
    }
   ],
   "source": [
    "test_df = pd.read_pickle(\"alodokter_test.pkl\")\n",
    "test_df = test_df.reset_index()\n",
    "test_df = test_df.iloc[:, 1:]\n",
    "test_df['label'] = test_df['label'].apply(lambda x: np.array(x))\n",
    "test_df"
   ]
  },
  {
   "cell_type": "markdown",
   "id": "768f0a97-3ec4-4c3f-aeee-9e64195fd492",
   "metadata": {
    "jp-MarkdownHeadingCollapsed": true,
    "tags": []
   },
   "source": [
    "### Format loaded train & test data"
   ]
  },
  {
   "cell_type": "code",
   "execution_count": 43,
   "id": "17bdce6c-445f-49df-a3a7-6391e1f1e55a",
   "metadata": {
    "tags": []
   },
   "outputs": [],
   "source": [
    "train_one_hot_labels = pd.DataFrame(train_df.label.values.tolist(), columns=['menstruasi', 'kehamilan','obat','asam-lambung','bayi','sakit-kepala','benjolan','kulit','alergi','kontrasepsi'])\n",
    "test_one_hot_labels = pd.DataFrame(test_df.label.values.tolist(), columns=['menstruasi', 'kehamilan','obat','asam-lambung','bayi','sakit-kepala','benjolan','kulit','alergi','kontrasepsi'])"
   ]
  },
  {
   "cell_type": "code",
   "execution_count": 44,
   "id": "d458d4c6-4d5d-4fcb-afee-bd87b3b81433",
   "metadata": {},
   "outputs": [],
   "source": [
    "train_df = pd.concat([train_df, train_one_hot_labels], axis=1)\n",
    "test_df = pd.concat([test_df, test_one_hot_labels], axis=1)"
   ]
  },
  {
   "cell_type": "code",
   "execution_count": 45,
   "id": "7efd742c-1742-4215-8d44-162c8ac09b90",
   "metadata": {},
   "outputs": [],
   "source": [
    "## Split X and y\n",
    "# from skmultilearn.model_selection import iterative_train_test_split\n",
    "# X_train, y_train, X_test, y_test = iterative_train_test_split(formatted_data[['text_clean']].values, formatted_data[['menstruasi', 'kehamilan','obat','asam-lambung','bayi','sakit-kepala','benjolan','kulit','alergi','kontrasepsi']].values, test_size=0.3)\n",
    "\n",
    "X_train = train_df[['text_clean']].values\n",
    "y_train = train_df[['menstruasi', 'kehamilan','obat','asam-lambung','bayi','sakit-kepala','benjolan','kulit','alergi','kontrasepsi']].values\n",
    "X_test = test_df[['text_clean']].values\n",
    "y_test = test_df[['menstruasi', 'kehamilan','obat','asam-lambung','bayi','sakit-kepala','benjolan','kulit','alergi','kontrasepsi']].values"
   ]
  },
  {
   "cell_type": "markdown",
   "id": "93ef3681-87e9-4873-8e3a-2e9ac0ea1ae6",
   "metadata": {
    "tags": []
   },
   "source": [
    "# TF-IDF"
   ]
  },
  {
   "cell_type": "code",
   "execution_count": 32,
   "id": "d3f7cd42-a7a7-4219-80f2-f8ff8f39268b",
   "metadata": {},
   "outputs": [
    {
     "data": {
      "text/html": [
       "<style>#sk-container-id-1 {color: black;background-color: white;}#sk-container-id-1 pre{padding: 0;}#sk-container-id-1 div.sk-toggleable {background-color: white;}#sk-container-id-1 label.sk-toggleable__label {cursor: pointer;display: block;width: 100%;margin-bottom: 0;padding: 0.3em;box-sizing: border-box;text-align: center;}#sk-container-id-1 label.sk-toggleable__label-arrow:before {content: \"▸\";float: left;margin-right: 0.25em;color: #696969;}#sk-container-id-1 label.sk-toggleable__label-arrow:hover:before {color: black;}#sk-container-id-1 div.sk-estimator:hover label.sk-toggleable__label-arrow:before {color: black;}#sk-container-id-1 div.sk-toggleable__content {max-height: 0;max-width: 0;overflow: hidden;text-align: left;background-color: #f0f8ff;}#sk-container-id-1 div.sk-toggleable__content pre {margin: 0.2em;color: black;border-radius: 0.25em;background-color: #f0f8ff;}#sk-container-id-1 input.sk-toggleable__control:checked~div.sk-toggleable__content {max-height: 200px;max-width: 100%;overflow: auto;}#sk-container-id-1 input.sk-toggleable__control:checked~label.sk-toggleable__label-arrow:before {content: \"▾\";}#sk-container-id-1 div.sk-estimator input.sk-toggleable__control:checked~label.sk-toggleable__label {background-color: #d4ebff;}#sk-container-id-1 div.sk-label input.sk-toggleable__control:checked~label.sk-toggleable__label {background-color: #d4ebff;}#sk-container-id-1 input.sk-hidden--visually {border: 0;clip: rect(1px 1px 1px 1px);clip: rect(1px, 1px, 1px, 1px);height: 1px;margin: -1px;overflow: hidden;padding: 0;position: absolute;width: 1px;}#sk-container-id-1 div.sk-estimator {font-family: monospace;background-color: #f0f8ff;border: 1px dotted black;border-radius: 0.25em;box-sizing: border-box;margin-bottom: 0.5em;}#sk-container-id-1 div.sk-estimator:hover {background-color: #d4ebff;}#sk-container-id-1 div.sk-parallel-item::after {content: \"\";width: 100%;border-bottom: 1px solid gray;flex-grow: 1;}#sk-container-id-1 div.sk-label:hover label.sk-toggleable__label {background-color: #d4ebff;}#sk-container-id-1 div.sk-serial::before {content: \"\";position: absolute;border-left: 1px solid gray;box-sizing: border-box;top: 0;bottom: 0;left: 50%;z-index: 0;}#sk-container-id-1 div.sk-serial {display: flex;flex-direction: column;align-items: center;background-color: white;padding-right: 0.2em;padding-left: 0.2em;position: relative;}#sk-container-id-1 div.sk-item {position: relative;z-index: 1;}#sk-container-id-1 div.sk-parallel {display: flex;align-items: stretch;justify-content: center;background-color: white;position: relative;}#sk-container-id-1 div.sk-item::before, #sk-container-id-1 div.sk-parallel-item::before {content: \"\";position: absolute;border-left: 1px solid gray;box-sizing: border-box;top: 0;bottom: 0;left: 50%;z-index: -1;}#sk-container-id-1 div.sk-parallel-item {display: flex;flex-direction: column;z-index: 1;position: relative;background-color: white;}#sk-container-id-1 div.sk-parallel-item:first-child::after {align-self: flex-end;width: 50%;}#sk-container-id-1 div.sk-parallel-item:last-child::after {align-self: flex-start;width: 50%;}#sk-container-id-1 div.sk-parallel-item:only-child::after {width: 0;}#sk-container-id-1 div.sk-dashed-wrapped {border: 1px dashed gray;margin: 0 0.4em 0.5em 0.4em;box-sizing: border-box;padding-bottom: 0.4em;background-color: white;}#sk-container-id-1 div.sk-label label {font-family: monospace;font-weight: bold;display: inline-block;line-height: 1.2em;}#sk-container-id-1 div.sk-label-container {text-align: center;}#sk-container-id-1 div.sk-container {/* jupyter's `normalize.less` sets `[hidden] { display: none; }` but bootstrap.min.css set `[hidden] { display: none !important; }` so we also need the `!important` here to be able to override the default hidden behavior on the sphinx rendered scikit-learn.org. See: https://github.com/scikit-learn/scikit-learn/issues/21755 */display: inline-block !important;position: relative;}#sk-container-id-1 div.sk-text-repr-fallback {display: none;}</style><div id=\"sk-container-id-1\" class=\"sk-top-container\"><div class=\"sk-text-repr-fallback\"><pre>TfidfVectorizer(max_features=300)</pre><b>In a Jupyter environment, please rerun this cell to show the HTML representation or trust the notebook. <br />On GitHub, the HTML representation is unable to render, please try loading this page with nbviewer.org.</b></div><div class=\"sk-container\" hidden><div class=\"sk-item\"><div class=\"sk-estimator sk-toggleable\"><input class=\"sk-toggleable__control sk-hidden--visually\" id=\"sk-estimator-id-1\" type=\"checkbox\" checked><label for=\"sk-estimator-id-1\" class=\"sk-toggleable__label sk-toggleable__label-arrow\">TfidfVectorizer</label><div class=\"sk-toggleable__content\"><pre>TfidfVectorizer(max_features=300)</pre></div></div></div></div></div>"
      ],
      "text/plain": [
       "TfidfVectorizer(max_features=300)"
      ]
     },
     "execution_count": 32,
     "metadata": {},
     "output_type": "execute_result"
    }
   ],
   "source": [
    "tfidf_vect = TfidfVectorizer(max_features=300, analyzer='word')\n",
    "tfidf_vect.fit(formatted_data['text_clean_fixtypo'])"
   ]
  },
  {
   "cell_type": "code",
   "execution_count": 37,
   "id": "db4d710e-259b-4f9b-a802-b6b5966c820c",
   "metadata": {},
   "outputs": [],
   "source": [
    "X_train_tfidf = tfidf_vect.transform(np.concatenate(X_train))\n",
    "X_test_tfidf = tfidf_vect.transform(np.concatenate(X_test))"
   ]
  },
  {
   "cell_type": "code",
   "execution_count": 58,
   "id": "ffd2df28-c732-4ee9-baa9-0e3d0ce7ee1c",
   "metadata": {},
   "outputs": [
    {
     "data": {
      "text/plain": [
       "<1x300 sparse matrix of type '<class 'numpy.float64'>'\n",
       "\twith 7 stored elements in Compressed Sparse Row format>"
      ]
     },
     "execution_count": 58,
     "metadata": {},
     "output_type": "execute_result"
    }
   ],
   "source": [
    "X_train_tfidf[0][0]"
   ]
  },
  {
   "cell_type": "markdown",
   "id": "54b3529c-956a-48a2-9efa-5cdb8e79e2a7",
   "metadata": {
    "tags": []
   },
   "source": [
    "# Similarity"
   ]
  },
  {
   "cell_type": "markdown",
   "id": "d392f710-30ba-4584-ba21-76445a8ed8c0",
   "metadata": {
    "jp-MarkdownHeadingCollapsed": true,
    "tags": []
   },
   "source": [
    "## BERT\n",
    "https://towardsdatascience.com/bert-for-measuring-text-similarity-eec91c6bf9e1"
   ]
  },
  {
   "cell_type": "code",
   "execution_count": 15,
   "id": "2f5980d1-7d69-47b7-8ed0-3a744657a49c",
   "metadata": {},
   "outputs": [
    {
     "data": {
      "application/vnd.jupyter.widget-view+json": {
       "model_id": "3bf2024cec274879b75028883c0b4f41",
       "version_major": 2,
       "version_minor": 0
      },
      "text/plain": [
       "Downloading:   0%|          | 0.00/224k [00:00<?, ?B/s]"
      ]
     },
     "metadata": {},
     "output_type": "display_data"
    },
    {
     "data": {
      "application/vnd.jupyter.widget-view+json": {
       "model_id": "e0278af2f9e74554b2c7b1bfe025cd15",
       "version_major": 2,
       "version_minor": 0
      },
      "text/plain": [
       "Downloading:   0%|          | 0.00/112 [00:00<?, ?B/s]"
      ]
     },
     "metadata": {},
     "output_type": "display_data"
    },
    {
     "data": {
      "application/vnd.jupyter.widget-view+json": {
       "model_id": "e4527e60edd744b791c256c7b6815d19",
       "version_major": 2,
       "version_minor": 0
      },
      "text/plain": [
       "Downloading:   0%|          | 0.00/2.00 [00:00<?, ?B/s]"
      ]
     },
     "metadata": {},
     "output_type": "display_data"
    },
    {
     "data": {
      "application/vnd.jupyter.widget-view+json": {
       "model_id": "0adeea55ff7b47a4944d48b1c950f5c4",
       "version_major": 2,
       "version_minor": 0
      },
      "text/plain": [
       "Downloading:   0%|          | 0.00/1.50k [00:00<?, ?B/s]"
      ]
     },
     "metadata": {},
     "output_type": "display_data"
    },
    {
     "data": {
      "application/vnd.jupyter.widget-view+json": {
       "model_id": "1fe228d395024f2787410a311702e688",
       "version_major": 2,
       "version_minor": 0
      },
      "text/plain": [
       "Downloading:   0%|          | 0.00/475M [00:00<?, ?B/s]"
      ]
     },
     "metadata": {},
     "output_type": "display_data"
    }
   ],
   "source": [
    "tokenizer = BertTokenizer.from_pretrained(\"indobenchmark/indobert-base-p1\")\n",
    "model = AutoModel.from_pretrained(\"indobenchmark/indobert-base-p1\")"
   ]
  },
  {
   "cell_type": "code",
   "execution_count": 18,
   "id": "e16ff3a6-a63a-49c3-94a9-b094d1ba482e",
   "metadata": {},
   "outputs": [],
   "source": [
    "sentences = [\n",
    "    \"Apakah penggunaan pengharum ruangan aman saat sedang hamil?\",\n",
    "    \"Hallo dok, saya sedang hamil pertama 5 minggu. apakah spray pengharum ruangan berbahaya untuk ibu hamil? bagaimana dengan yg berbentuk padat?\",\n",
    "    \"Pada ibu hamil,  menghirup zat kimia pada pengharum ruangan umumnya tidak akan berdampak buruk bagi janin jika zat kimia yang dikandung pada pengharum tidak termasuk kategori zat kimia yang berbahaya.\"\n",
    "]\n",
    "\n",
    "tokens = {'input_ids': [], 'attention_mask': []}"
   ]
  },
  {
   "cell_type": "code",
   "execution_count": 19,
   "id": "4f57d2ce-ecb4-4857-b4de-00117c067b2b",
   "metadata": {},
   "outputs": [],
   "source": [
    "for sentence in sentences:\n",
    "    new_tokens = tokenizer.encode_plus(sentence, max_length=300, truncation=True, padding='max_length', return_tensors='pt')\n",
    "    tokens['input_ids'].append(new_tokens['input_ids'][0])\n",
    "    tokens['attention_mask'].append(new_tokens['attention_mask'][0])\n",
    "\n",
    "tokens['input_ids'] = torch.stack(tokens['input_ids'])\n",
    "tokens['attention_mask'] = torch.stack(tokens['attention_mask'])"
   ]
  },
  {
   "cell_type": "code",
   "execution_count": 20,
   "id": "1e1a09ef-86a4-46c8-a8f4-77289283a45d",
   "metadata": {},
   "outputs": [
    {
     "data": {
      "text/plain": [
       "odict_keys(['last_hidden_state', 'pooler_output'])"
      ]
     },
     "execution_count": 20,
     "metadata": {},
     "output_type": "execute_result"
    }
   ],
   "source": [
    "outputs = model(**tokens)\n",
    "outputs.keys()"
   ]
  },
  {
   "cell_type": "code",
   "execution_count": 21,
   "id": "fcc31699-fe50-438e-a5da-d3bc07823f53",
   "metadata": {},
   "outputs": [
    {
     "data": {
      "text/plain": [
       "BaseModelOutputWithPoolingAndCrossAttentions(last_hidden_state=tensor([[[ 1.0949,  1.7669,  0.4267,  ..., -0.0986, -0.4097, -0.4406],\n",
       "         [ 1.2401, -0.1196, -0.5885,  ..., -0.8969, -1.3507,  0.9605],\n",
       "         [ 1.2548,  0.0757, -0.3044,  ...,  0.5177,  0.2041,  0.7379],\n",
       "         ...,\n",
       "         [ 0.9186,  0.0944,  0.7207,  ...,  1.6161, -0.7001,  0.5215],\n",
       "         [ 0.7083,  0.7066,  1.0241,  ...,  1.8716, -0.8626,  0.5686],\n",
       "         [ 0.8171,  0.9980,  0.4813,  ...,  1.8599, -0.6993,  0.4396]],\n",
       "\n",
       "        [[ 1.6307,  2.4593,  0.4220,  ..., -0.4518, -0.5253,  0.7145],\n",
       "         [ 1.3774,  0.3732,  0.3189,  ...,  0.2296, -1.7003,  1.4176],\n",
       "         [ 0.5916,  1.4308,  0.1908,  ..., -1.7347, -1.0567,  0.8568],\n",
       "         ...,\n",
       "         [ 1.2565,  1.9991, -1.0787,  ...,  0.3172,  0.3515,  0.7427],\n",
       "         [ 2.0784,  2.3264,  0.9163,  ...,  1.0030, -0.2987,  0.7510],\n",
       "         [ 2.3860,  2.3045,  0.9439,  ...,  0.9180, -0.4992,  0.6267]],\n",
       "\n",
       "        [[ 0.6255,  2.3116,  0.5537,  ..., -0.4201,  0.0029, -0.3798],\n",
       "         [ 1.0287,  0.0354, -1.5324,  ...,  0.6718, -0.0409, -1.2863],\n",
       "         [-1.2468,  1.2362,  0.1243,  ...,  0.1819, -0.8168, -0.8973],\n",
       "         ...,\n",
       "         [ 0.6742,  1.1751, -0.6350,  ...,  2.3957,  0.7030,  0.6203],\n",
       "         [ 0.9047,  1.5135,  0.5995,  ...,  2.2751,  0.3252,  0.5637],\n",
       "         [ 0.9703,  1.1365,  0.2762,  ...,  2.2770,  0.2071,  0.3915]]],\n",
       "       grad_fn=<NativeLayerNormBackward0>), pooler_output=tensor([[-0.7584, -0.6949,  0.8833,  ..., -0.5006, -0.3773,  0.8521],\n",
       "        [-0.8208, -0.8069,  0.6686,  ..., -0.3772, -0.2338,  0.6809],\n",
       "        [-0.8063, -0.8802,  0.5180,  ..., -0.4661, -0.3788,  0.6518]],\n",
       "       grad_fn=<TanhBackward0>), hidden_states=None, past_key_values=None, attentions=None, cross_attentions=None)"
      ]
     },
     "execution_count": 21,
     "metadata": {},
     "output_type": "execute_result"
    }
   ],
   "source": [
    "outputs"
   ]
  },
  {
   "cell_type": "code",
   "execution_count": 22,
   "id": "30940a81-d6d7-455c-92fd-caa8c8a93c66",
   "metadata": {},
   "outputs": [
    {
     "data": {
      "text/plain": [
       "tensor([[[ 1.0949,  1.7669,  0.4267,  ..., -0.0986, -0.4097, -0.4406],\n",
       "         [ 1.2401, -0.1196, -0.5885,  ..., -0.8969, -1.3507,  0.9605],\n",
       "         [ 1.2548,  0.0757, -0.3044,  ...,  0.5177,  0.2041,  0.7379],\n",
       "         ...,\n",
       "         [ 0.9186,  0.0944,  0.7207,  ...,  1.6161, -0.7001,  0.5215],\n",
       "         [ 0.7083,  0.7066,  1.0241,  ...,  1.8716, -0.8626,  0.5686],\n",
       "         [ 0.8171,  0.9980,  0.4813,  ...,  1.8599, -0.6993,  0.4396]],\n",
       "\n",
       "        [[ 1.6307,  2.4593,  0.4220,  ..., -0.4518, -0.5253,  0.7145],\n",
       "         [ 1.3774,  0.3732,  0.3189,  ...,  0.2296, -1.7003,  1.4176],\n",
       "         [ 0.5916,  1.4308,  0.1908,  ..., -1.7347, -1.0567,  0.8568],\n",
       "         ...,\n",
       "         [ 1.2565,  1.9991, -1.0787,  ...,  0.3172,  0.3515,  0.7427],\n",
       "         [ 2.0784,  2.3264,  0.9163,  ...,  1.0030, -0.2987,  0.7510],\n",
       "         [ 2.3860,  2.3045,  0.9439,  ...,  0.9180, -0.4992,  0.6267]],\n",
       "\n",
       "        [[ 0.6255,  2.3116,  0.5537,  ..., -0.4201,  0.0029, -0.3798],\n",
       "         [ 1.0287,  0.0354, -1.5324,  ...,  0.6718, -0.0409, -1.2863],\n",
       "         [-1.2468,  1.2362,  0.1243,  ...,  0.1819, -0.8168, -0.8973],\n",
       "         ...,\n",
       "         [ 0.6742,  1.1751, -0.6350,  ...,  2.3957,  0.7030,  0.6203],\n",
       "         [ 0.9047,  1.5135,  0.5995,  ...,  2.2751,  0.3252,  0.5637],\n",
       "         [ 0.9703,  1.1365,  0.2762,  ...,  2.2770,  0.2071,  0.3915]]],\n",
       "       grad_fn=<NativeLayerNormBackward0>)"
      ]
     },
     "execution_count": 22,
     "metadata": {},
     "output_type": "execute_result"
    }
   ],
   "source": [
    "embeddings = outputs.last_hidden_state\n",
    "embeddings"
   ]
  },
  {
   "cell_type": "code",
   "execution_count": 24,
   "id": "9fd0ddec-1e8a-48dc-918d-a1996d062df4",
   "metadata": {},
   "outputs": [
    {
     "data": {
      "text/plain": [
       "torch.Size([3, 300, 768])"
      ]
     },
     "execution_count": 24,
     "metadata": {},
     "output_type": "execute_result"
    }
   ],
   "source": [
    "embeddings.shape"
   ]
  },
  {
   "cell_type": "code",
   "execution_count": 26,
   "id": "fcdbb38a-be13-4250-86fb-64ee540250e2",
   "metadata": {},
   "outputs": [
    {
     "data": {
      "text/plain": [
       "torch.Size([3, 300])"
      ]
     },
     "execution_count": 26,
     "metadata": {},
     "output_type": "execute_result"
    }
   ],
   "source": [
    "attention_mask = tokens['attention_mask']\n",
    "attention_mask.shape"
   ]
  },
  {
   "cell_type": "code",
   "execution_count": 27,
   "id": "a85b1328-0f6f-4a0b-93e5-04d346cf5ff3",
   "metadata": {},
   "outputs": [
    {
     "data": {
      "text/plain": [
       "torch.Size([3, 300, 768])"
      ]
     },
     "execution_count": 27,
     "metadata": {},
     "output_type": "execute_result"
    }
   ],
   "source": [
    "mask = attention_mask.unsqueeze(-1).expand(embeddings.size()).float()\n",
    "mask.shape"
   ]
  },
  {
   "cell_type": "code",
   "execution_count": 28,
   "id": "ae6d6071-d764-4439-8474-a5130857bb14",
   "metadata": {},
   "outputs": [
    {
     "data": {
      "text/plain": [
       "tensor([[[1., 1., 1.,  ..., 1., 1., 1.],\n",
       "         [1., 1., 1.,  ..., 1., 1., 1.],\n",
       "         [1., 1., 1.,  ..., 1., 1., 1.],\n",
       "         ...,\n",
       "         [0., 0., 0.,  ..., 0., 0., 0.],\n",
       "         [0., 0., 0.,  ..., 0., 0., 0.],\n",
       "         [0., 0., 0.,  ..., 0., 0., 0.]],\n",
       "\n",
       "        [[1., 1., 1.,  ..., 1., 1., 1.],\n",
       "         [1., 1., 1.,  ..., 1., 1., 1.],\n",
       "         [1., 1., 1.,  ..., 1., 1., 1.],\n",
       "         ...,\n",
       "         [0., 0., 0.,  ..., 0., 0., 0.],\n",
       "         [0., 0., 0.,  ..., 0., 0., 0.],\n",
       "         [0., 0., 0.,  ..., 0., 0., 0.]],\n",
       "\n",
       "        [[1., 1., 1.,  ..., 1., 1., 1.],\n",
       "         [1., 1., 1.,  ..., 1., 1., 1.],\n",
       "         [1., 1., 1.,  ..., 1., 1., 1.],\n",
       "         ...,\n",
       "         [0., 0., 0.,  ..., 0., 0., 0.],\n",
       "         [0., 0., 0.,  ..., 0., 0., 0.],\n",
       "         [0., 0., 0.,  ..., 0., 0., 0.]]])"
      ]
     },
     "execution_count": 28,
     "metadata": {},
     "output_type": "execute_result"
    }
   ],
   "source": [
    "mask"
   ]
  },
  {
   "cell_type": "code",
   "execution_count": 29,
   "id": "37e85e63-3fb0-4453-9506-bfaf9a5fda43",
   "metadata": {},
   "outputs": [
    {
     "data": {
      "text/plain": [
       "torch.Size([3, 300, 768])"
      ]
     },
     "execution_count": 29,
     "metadata": {},
     "output_type": "execute_result"
    }
   ],
   "source": [
    "masked_embeddings = embeddings * mask\n",
    "masked_embeddings.shape"
   ]
  },
  {
   "cell_type": "code",
   "execution_count": 30,
   "id": "61119882-ddf9-4fbd-8a0b-c2fd3cf8fcba",
   "metadata": {},
   "outputs": [
    {
     "data": {
      "text/plain": [
       "tensor([[[ 1.0949,  1.7669,  0.4267,  ..., -0.0986, -0.4097, -0.4406],\n",
       "         [ 1.2401, -0.1196, -0.5885,  ..., -0.8969, -1.3507,  0.9605],\n",
       "         [ 1.2548,  0.0757, -0.3044,  ...,  0.5177,  0.2041,  0.7379],\n",
       "         ...,\n",
       "         [ 0.0000,  0.0000,  0.0000,  ...,  0.0000, -0.0000,  0.0000],\n",
       "         [ 0.0000,  0.0000,  0.0000,  ...,  0.0000, -0.0000,  0.0000],\n",
       "         [ 0.0000,  0.0000,  0.0000,  ...,  0.0000, -0.0000,  0.0000]],\n",
       "\n",
       "        [[ 1.6307,  2.4593,  0.4220,  ..., -0.4518, -0.5253,  0.7145],\n",
       "         [ 1.3774,  0.3732,  0.3189,  ...,  0.2296, -1.7003,  1.4176],\n",
       "         [ 0.5916,  1.4308,  0.1908,  ..., -1.7347, -1.0567,  0.8568],\n",
       "         ...,\n",
       "         [ 0.0000,  0.0000, -0.0000,  ...,  0.0000,  0.0000,  0.0000],\n",
       "         [ 0.0000,  0.0000,  0.0000,  ...,  0.0000, -0.0000,  0.0000],\n",
       "         [ 0.0000,  0.0000,  0.0000,  ...,  0.0000, -0.0000,  0.0000]],\n",
       "\n",
       "        [[ 0.6255,  2.3116,  0.5537,  ..., -0.4201,  0.0029, -0.3798],\n",
       "         [ 1.0287,  0.0354, -1.5324,  ...,  0.6718, -0.0409, -1.2863],\n",
       "         [-1.2468,  1.2362,  0.1243,  ...,  0.1819, -0.8168, -0.8973],\n",
       "         ...,\n",
       "         [ 0.0000,  0.0000, -0.0000,  ...,  0.0000,  0.0000,  0.0000],\n",
       "         [ 0.0000,  0.0000,  0.0000,  ...,  0.0000,  0.0000,  0.0000],\n",
       "         [ 0.0000,  0.0000,  0.0000,  ...,  0.0000,  0.0000,  0.0000]]],\n",
       "       grad_fn=<MulBackward0>)"
      ]
     },
     "execution_count": 30,
     "metadata": {},
     "output_type": "execute_result"
    }
   ],
   "source": [
    "masked_embeddings"
   ]
  },
  {
   "cell_type": "code",
   "execution_count": 31,
   "id": "983e21b4-195d-4f38-8896-e1618a2defe7",
   "metadata": {},
   "outputs": [
    {
     "data": {
      "text/plain": [
       "torch.Size([3, 768])"
      ]
     },
     "execution_count": 31,
     "metadata": {},
     "output_type": "execute_result"
    }
   ],
   "source": [
    "summed = torch.sum(masked_embeddings, 1)\n",
    "summed.shape"
   ]
  },
  {
   "cell_type": "code",
   "execution_count": 32,
   "id": "33d8fa0d-523a-4910-a1e4-1ebdc7232ff8",
   "metadata": {},
   "outputs": [
    {
     "data": {
      "text/plain": [
       "torch.Size([3, 768])"
      ]
     },
     "execution_count": 32,
     "metadata": {},
     "output_type": "execute_result"
    }
   ],
   "source": [
    "summed_mask = torch.clamp(mask.sum(1), min=1e-9)\n",
    "summed_mask.shape"
   ]
  },
  {
   "cell_type": "code",
   "execution_count": 33,
   "id": "62627abe-1986-48ef-9aa5-acb463c94098",
   "metadata": {},
   "outputs": [
    {
     "data": {
      "text/plain": [
       "tensor([[ 0.3762,  0.6097, -0.4639,  ...,  0.6115, -0.1983,  0.2468],\n",
       "        [ 0.8959,  0.8238,  0.1419,  ...,  0.0320, -0.7549,  0.7890],\n",
       "        [-0.0134,  0.5441, -0.3975,  ...,  0.7102, -0.5355, -0.2773]],\n",
       "       grad_fn=<DivBackward0>)"
      ]
     },
     "execution_count": 33,
     "metadata": {},
     "output_type": "execute_result"
    }
   ],
   "source": [
    "mean_pooled = summed/summed_mask\n",
    "mean_pooled"
   ]
  },
  {
   "cell_type": "code",
   "execution_count": 34,
   "id": "d877bcd4-b3c1-49fc-be25-6dad8986128d",
   "metadata": {},
   "outputs": [
    {
     "data": {
      "text/plain": [
       "array([[0.7314513 , 0.63201934]], dtype=float32)"
      ]
     },
     "execution_count": 34,
     "metadata": {},
     "output_type": "execute_result"
    }
   ],
   "source": [
    "mean_pooled = mean_pooled.detach().numpy()\n",
    "\n",
    "cosine_similarity(\n",
    "    [mean_pooled[0]],\n",
    "    mean_pooled[1:]\n",
    ")"
   ]
  },
  {
   "cell_type": "markdown",
   "id": "24d00a8c-0fe7-496c-a818-25a129610920",
   "metadata": {
    "jp-MarkdownHeadingCollapsed": true,
    "tags": []
   },
   "source": [
    "## TFIDF"
   ]
  },
  {
   "cell_type": "code",
   "execution_count": 42,
   "id": "8a32d5c6-0b92-48b4-93dc-961a3d6a0be7",
   "metadata": {},
   "outputs": [
    {
     "name": "stderr",
     "output_type": "stream",
     "text": [
      "[nltk_data] Downloading package stopwords to C:\\Users\\Tugas\n",
      "[nltk_data]     Akhir\\AppData\\Roaming\\nltk_data...\n",
      "[nltk_data]   Unzipping corpora\\stopwords.zip.\n"
     ]
    },
    {
     "data": {
      "text/plain": [
       "True"
      ]
     },
     "execution_count": 42,
     "metadata": {},
     "output_type": "execute_result"
    }
   ],
   "source": [
    "nltk.download('stopwords')"
   ]
  },
  {
   "cell_type": "code",
   "execution_count": 43,
   "id": "1f697edf-a7a3-4366-a1b4-3aa32505c287",
   "metadata": {},
   "outputs": [
    {
     "name": "stderr",
     "output_type": "stream",
     "text": [
      "C:\\Users\\Tugas Akhir\\anaconda3\\envs\\MLenv\\lib\\site-packages\\sklearn\\feature_extraction\\text.py:404: UserWarning: Your stop_words may be inconsistent with your preprocessing. Tokenizing the stop words generated tokens ['baiknya', 'berkali', 'kali', 'kurangnya', 'mata', 'olah', 'sekurang', 'setidak', 'tama', 'tidaknya'] not in stop_words.\n",
      "  warnings.warn(\n"
     ]
    }
   ],
   "source": [
    "indo = stopwords.words('indonesian')\n",
    "tfidf_vectorizer = TfidfVectorizer(stop_words=indo)\n",
    "tfidf_matrix = tfidf_vectorizer.fit_transform(df['text_clean'])"
   ]
  },
  {
   "cell_type": "code",
   "execution_count": null,
   "id": "79bb66fc-b39b-44ec-8af6-80226e5dc3ce",
   "metadata": {},
   "outputs": [],
   "source": [
    "cos = "
   ]
  },
  {
   "cell_type": "code",
   "execution_count": null,
   "id": "3d2c90e9-a4c7-4c13-a0e7-4311d4321d87",
   "metadata": {},
   "outputs": [],
   "source": []
  },
  {
   "cell_type": "markdown",
   "id": "b5609cb9-8198-4cc3-9af3-131ead3eadb0",
   "metadata": {
    "tags": []
   },
   "source": [
    "# ML Classification"
   ]
  },
  {
   "cell_type": "markdown",
   "id": "ebe8a526-44d0-4ea2-829f-39eb308d1c34",
   "metadata": {
    "tags": []
   },
   "source": [
    "## Multinomial Naive Bayes"
   ]
  },
  {
   "cell_type": "code",
   "execution_count": 30,
   "id": "26b54473-5867-41f5-8297-6f5bb2687676",
   "metadata": {},
   "outputs": [],
   "source": [
    "NB_model = OneVsRestClassifier(MultinomialNB(fit_prior=True, class_prior=None))"
   ]
  },
  {
   "cell_type": "code",
   "execution_count": 38,
   "id": "9f6cdc85-378a-4170-ac5d-3cf3aa9f7d40",
   "metadata": {},
   "outputs": [
    {
     "name": "stdout",
     "output_type": "stream",
     "text": [
      "confusion matrix:  [[[23556  1336]\n",
      "  [ 1326  4469]]\n",
      "\n",
      " [[23516   882]\n",
      "  [ 2418  3871]]\n",
      "\n",
      " [[27356   144]\n",
      "  [ 2192   995]]\n",
      "\n",
      " [[27361   216]\n",
      "  [ 1036  2074]]\n",
      "\n",
      " [[27419   102]\n",
      "  [ 1206  1960]]\n",
      "\n",
      " [[28420    84]\n",
      "  [  963  1220]]\n",
      "\n",
      " [[28500    93]\n",
      "  [  699  1395]]\n",
      "\n",
      " [[27272   817]\n",
      "  [ 1363  1235]]\n",
      "\n",
      " [[27644   542]\n",
      "  [ 1487  1014]]\n",
      "\n",
      " [[28298   126]\n",
      "  [ 1547   716]]]\n"
     ]
    }
   ],
   "source": [
    "NB_model.fit(X_train_tfidf, y_train)\n",
    "# compute the testing accuracy\n",
    "NB_predictions = NB_model.predict(X_test_tfidf)\n",
    "pred_proba = NB_model.predict_proba(X_test_tfidf)\n",
    "print(\"confusion matrix: \", multilabel_confusion_matrix(y_test, NB_predictions))"
   ]
  },
  {
   "cell_type": "code",
   "execution_count": 40,
   "id": "9c8daf67-ce42-4a2a-a67e-18f315776da6",
   "metadata": {},
   "outputs": [
    {
     "name": "stdout",
     "output_type": "stream",
     "text": [
      "              precision    recall  f1-score   support\n",
      "\n",
      "  menstruasi       0.77      0.77      0.77      5795\n",
      "   kehamilan       0.81      0.62      0.70      6289\n",
      "        obat       0.87      0.31      0.46      3187\n",
      "asam-lambung       0.91      0.67      0.77      3110\n",
      "        bayi       0.95      0.62      0.75      3166\n",
      "sakit-kepala       0.94      0.56      0.70      2183\n",
      "    benjolan       0.94      0.67      0.78      2094\n",
      "       kulit       0.60      0.48      0.53      2598\n",
      "      alergi       0.65      0.41      0.50      2501\n",
      " kontrasepsi       0.85      0.32      0.46      2263\n",
      "\n",
      "   micro avg       0.81      0.57      0.67     33186\n",
      "   macro avg       0.83      0.54      0.64     33186\n",
      "weighted avg       0.82      0.57      0.66     33186\n",
      " samples avg       0.56      0.58      0.56     33186\n",
      "\n"
     ]
    },
    {
     "name": "stderr",
     "output_type": "stream",
     "text": [
      "C:\\Users\\Tugas Akhir\\anaconda3\\envs\\MLenv\\lib\\site-packages\\sklearn\\metrics\\_classification.py:1327: UndefinedMetricWarning: Precision and F-score are ill-defined and being set to 0.0 in samples with no predicted labels. Use `zero_division` parameter to control this behavior.\n",
      "  _warn_prf(average, modifier, msg_start, len(result))\n"
     ]
    }
   ],
   "source": [
    "print(classification_report(y_test, NB_predictions, target_names=labels))"
   ]
  },
  {
   "cell_type": "code",
   "execution_count": 41,
   "id": "75b33800-5f97-4a74-8952-fd3622f249ed",
   "metadata": {},
   "outputs": [
    {
     "name": "stdout",
     "output_type": "stream",
     "text": [
      "Subset Accuracy: 0.4816697624401212\n",
      "Hamming Loss: 0.06054355264444227\n"
     ]
    }
   ],
   "source": [
    "print(\"Subset Accuracy: \" + str(accuracy_score(y_test, NB_predictions)))\n",
    "print(\"Hamming Loss: \" + str(hamming_loss(y_test, NB_predictions)))"
   ]
  },
  {
   "cell_type": "markdown",
   "id": "d2e38e31-0341-4791-9633-03198c9e4e93",
   "metadata": {
    "tags": []
   },
   "source": [
    "## Gaussian Naive Bayes"
   ]
  },
  {
   "cell_type": "code",
   "execution_count": 42,
   "id": "3f8aed9b-7f4e-4283-889f-d6e6f4acf799",
   "metadata": {},
   "outputs": [
    {
     "name": "stdout",
     "output_type": "stream",
     "text": [
      "confusion matrix:  [[[19709  5183]\n",
      "  [  488  5307]]\n",
      "\n",
      " [[18123  6275]\n",
      "  [  803  5486]]\n",
      "\n",
      " [[21550  5950]\n",
      "  [  574  2613]]\n",
      "\n",
      " [[23160  4417]\n",
      "  [  198  2912]]\n",
      "\n",
      " [[21918  5603]\n",
      "  [  169  2997]]\n",
      "\n",
      " [[23337  5167]\n",
      "  [  181  2002]]\n",
      "\n",
      " [[23483  5110]\n",
      "  [  137  1957]]\n",
      "\n",
      " [[21608  6481]\n",
      "  [  198  2400]]\n",
      "\n",
      " [[20814  7372]\n",
      "  [  243  2258]]\n",
      "\n",
      " [[20343  8081]\n",
      "  [  208  2055]]]\n"
     ]
    }
   ],
   "source": [
    "from skmultilearn.problem_transform import BinaryRelevance\n",
    "GaussianNB_model = BinaryRelevance(GaussianNB())\n",
    "GaussianNB_model.fit(X_train_tfidf, y_train)\n",
    "GaussianNB_predictions = GaussianNB_model.predict(X_test_tfidf)\n",
    "print(\"confusion matrix: \", multilabel_confusion_matrix(y_test, GaussianNB_predictions))"
   ]
  },
  {
   "cell_type": "code",
   "execution_count": 44,
   "id": "ed08d5d2-45fa-42c8-960f-934ab97434a1",
   "metadata": {},
   "outputs": [
    {
     "name": "stdout",
     "output_type": "stream",
     "text": [
      "              precision    recall  f1-score   support\n",
      "\n",
      "  menstruasi       0.51      0.92      0.65      5795\n",
      "   kehamilan       0.47      0.87      0.61      6289\n",
      "        obat       0.31      0.82      0.44      3187\n",
      "asam-lambung       0.40      0.94      0.56      3110\n",
      "        bayi       0.35      0.95      0.51      3166\n",
      "sakit-kepala       0.28      0.92      0.43      2183\n",
      "    benjolan       0.28      0.93      0.43      2094\n",
      "       kulit       0.27      0.92      0.42      2598\n",
      "      alergi       0.23      0.90      0.37      2501\n",
      " kontrasepsi       0.20      0.91      0.33      2263\n",
      "\n",
      "   micro avg       0.33      0.90      0.49     33186\n",
      "   macro avg       0.33      0.91      0.47     33186\n",
      "weighted avg       0.37      0.90      0.51     33186\n",
      " samples avg       0.39      0.91      0.52     33186\n",
      "\n"
     ]
    },
    {
     "name": "stderr",
     "output_type": "stream",
     "text": [
      "C:\\Users\\Tugas Akhir\\anaconda3\\envs\\MLenv\\lib\\site-packages\\sklearn\\metrics\\_classification.py:1327: UndefinedMetricWarning: Precision and F-score are ill-defined and being set to 0.0 in samples with no predicted labels. Use `zero_division` parameter to control this behavior.\n",
      "  _warn_prf(average, modifier, msg_start, len(result))\n"
     ]
    }
   ],
   "source": [
    "print(classification_report(y_test, GaussianNB_predictions, target_names=labels))"
   ]
  },
  {
   "cell_type": "code",
   "execution_count": 45,
   "id": "763f7db7-3dda-4587-a099-5de8706fe1fa",
   "metadata": {},
   "outputs": [
    {
     "name": "stdout",
     "output_type": "stream",
     "text": [
      "Subset Accuracy: 0.09264509401375175\n",
      "Hamming Loss: 0.20477074982891777\n"
     ]
    }
   ],
   "source": [
    "print(\"Subset Accuracy: \" + str(accuracy_score(y_test, GaussianNB_predictions)))\n",
    "print(\"Hamming Loss: \" + str(hamming_loss(y_test, GaussianNB_predictions)))"
   ]
  },
  {
   "cell_type": "markdown",
   "id": "b059fb5c-9f0f-4464-91c9-c6f979845ecd",
   "metadata": {
    "tags": []
   },
   "source": [
    "## SVM"
   ]
  },
  {
   "cell_type": "code",
   "execution_count": 46,
   "id": "0bea2b4b-d676-4c43-843d-45662b263fe1",
   "metadata": {},
   "outputs": [
    {
     "name": "stdout",
     "output_type": "stream",
     "text": [
      "confusion matrix:  [[[24098   794]\n",
      "  [  759  5036]]\n",
      "\n",
      " [[23665   733]\n",
      "  [  994  5295]]\n",
      "\n",
      " [[27007   493]\n",
      "  [ 1082  2105]]\n",
      "\n",
      " [[27233   344]\n",
      "  [  490  2620]]\n",
      "\n",
      " [[27304   217]\n",
      "  [  245  2921]]\n",
      "\n",
      " [[28324   180]\n",
      "  [  291  1892]]\n",
      "\n",
      " [[28441   152]\n",
      "  [  279  1815]]\n",
      "\n",
      " [[27517   572]\n",
      "  [ 1198  1400]]\n",
      "\n",
      " [[27711   475]\n",
      "  [ 1212  1289]]\n",
      "\n",
      " [[28119   305]\n",
      "  [  984  1279]]]\n"
     ]
    }
   ],
   "source": [
    "SVM_model = OneVsRestClassifier(LinearSVC(), n_jobs=1)\n",
    "SVM_model.fit(X_train_tfidf, y_train)\n",
    "# compute the testing accuracy\n",
    "SVM_predictions = SVM_model.predict(X_test_tfidf)\n",
    "print(\"confusion matrix: \", multilabel_confusion_matrix(y_test, SVM_predictions))"
   ]
  },
  {
   "cell_type": "code",
   "execution_count": 47,
   "id": "44499a05-a17d-4c28-bae5-92fc7fc56653",
   "metadata": {},
   "outputs": [
    {
     "name": "stdout",
     "output_type": "stream",
     "text": [
      "              precision    recall  f1-score   support\n",
      "\n",
      "  menstruasi       0.86      0.87      0.87      5795\n",
      "   kehamilan       0.88      0.84      0.86      6289\n",
      "        obat       0.81      0.66      0.73      3187\n",
      "asam-lambung       0.88      0.84      0.86      3110\n",
      "        bayi       0.93      0.92      0.93      3166\n",
      "sakit-kepala       0.91      0.87      0.89      2183\n",
      "    benjolan       0.92      0.87      0.89      2094\n",
      "       kulit       0.71      0.54      0.61      2598\n",
      "      alergi       0.73      0.52      0.60      2501\n",
      " kontrasepsi       0.81      0.57      0.66      2263\n",
      "\n",
      "   micro avg       0.86      0.77      0.81     33186\n",
      "   macro avg       0.85      0.75      0.79     33186\n",
      "weighted avg       0.85      0.77      0.81     33186\n",
      " samples avg       0.79      0.79      0.78     33186\n",
      "\n"
     ]
    },
    {
     "name": "stderr",
     "output_type": "stream",
     "text": [
      "C:\\Users\\Tugas Akhir\\anaconda3\\envs\\MLenv\\lib\\site-packages\\sklearn\\metrics\\_classification.py:1327: UndefinedMetricWarning: Precision and F-score are ill-defined and being set to 0.0 in samples with no predicted labels. Use `zero_division` parameter to control this behavior.\n",
      "  _warn_prf(average, modifier, msg_start, len(result))\n"
     ]
    }
   ],
   "source": [
    "print(classification_report(y_test, SVM_predictions, target_names=labels))"
   ]
  },
  {
   "cell_type": "code",
   "execution_count": 48,
   "id": "f63e00f3-ecf0-428c-9449-1506c1955962",
   "metadata": {},
   "outputs": [
    {
     "name": "stdout",
     "output_type": "stream",
     "text": [
      "Subset Accuracy: 0.7077589858897905\n",
      "Hamming Loss: 0.03844950630560172\n"
     ]
    }
   ],
   "source": [
    "print(\"Subset Accuracy: \" + str(accuracy_score(y_test, SVM_predictions)))\n",
    "print(\"Hamming Loss: \" + str(hamming_loss(y_test, SVM_predictions)))"
   ]
  },
  {
   "cell_type": "markdown",
   "id": "9feab5d1-5dc0-4b4d-94b8-463e78191241",
   "metadata": {
    "tags": []
   },
   "source": [
    "## Logistic Regression"
   ]
  },
  {
   "cell_type": "code",
   "execution_count": 49,
   "id": "fd87abe4-409b-4803-bcd9-2ddb2a352eb3",
   "metadata": {},
   "outputs": [
    {
     "name": "stdout",
     "output_type": "stream",
     "text": [
      "confusion matrix:  [[[24112   780]\n",
      "  [  818  4977]]\n",
      "\n",
      " [[23663   735]\n",
      "  [ 1007  5282]]\n",
      "\n",
      " [[27016   484]\n",
      "  [ 1093  2094]]\n",
      "\n",
      " [[27255   322]\n",
      "  [  531  2579]]\n",
      "\n",
      " [[27303   218]\n",
      "  [  273  2893]]\n",
      "\n",
      " [[28327   177]\n",
      "  [  312  1871]]\n",
      "\n",
      " [[28455   138]\n",
      "  [  290  1804]]\n",
      "\n",
      " [[27479   610]\n",
      "  [ 1209  1389]]\n",
      "\n",
      " [[27699   487]\n",
      "  [ 1178  1323]]\n",
      "\n",
      " [[28116   308]\n",
      "  [  976  1287]]]\n"
     ]
    }
   ],
   "source": [
    "LR_model = OneVsRestClassifier(LogisticRegression(solver='sag'), n_jobs=1)\n",
    "LR_model.fit(X_train_tfidf, y_train)\n",
    "LR_predictions = LR_model.predict(X_test_tfidf)\n",
    "print(\"confusion matrix: \", multilabel_confusion_matrix(y_test, LR_predictions))"
   ]
  },
  {
   "cell_type": "code",
   "execution_count": 50,
   "id": "daba0af1-a2f0-4111-b476-d00b359fc9f7",
   "metadata": {},
   "outputs": [
    {
     "name": "stdout",
     "output_type": "stream",
     "text": [
      "              precision    recall  f1-score   support\n",
      "\n",
      "  menstruasi       0.86      0.86      0.86      5795\n",
      "   kehamilan       0.88      0.84      0.86      6289\n",
      "        obat       0.81      0.66      0.73      3187\n",
      "asam-lambung       0.89      0.83      0.86      3110\n",
      "        bayi       0.93      0.91      0.92      3166\n",
      "sakit-kepala       0.91      0.86      0.88      2183\n",
      "    benjolan       0.93      0.86      0.89      2094\n",
      "       kulit       0.69      0.53      0.60      2598\n",
      "      alergi       0.73      0.53      0.61      2501\n",
      " kontrasepsi       0.81      0.57      0.67      2263\n",
      "\n",
      "   micro avg       0.86      0.77      0.81     33186\n",
      "   macro avg       0.84      0.74      0.79     33186\n",
      "weighted avg       0.85      0.77      0.80     33186\n",
      " samples avg       0.78      0.79      0.77     33186\n",
      "\n"
     ]
    },
    {
     "name": "stderr",
     "output_type": "stream",
     "text": [
      "C:\\Users\\Tugas Akhir\\anaconda3\\envs\\MLenv\\lib\\site-packages\\sklearn\\metrics\\_classification.py:1327: UndefinedMetricWarning: Precision and F-score are ill-defined and being set to 0.0 in samples with no predicted labels. Use `zero_division` parameter to control this behavior.\n",
      "  _warn_prf(average, modifier, msg_start, len(result))\n"
     ]
    }
   ],
   "source": [
    "print(classification_report(y_test, LR_predictions, target_names=labels))"
   ]
  },
  {
   "cell_type": "code",
   "execution_count": 51,
   "id": "a9d8e11c-612b-4de3-b764-35beb4c485b7",
   "metadata": {},
   "outputs": [
    {
     "name": "stdout",
     "output_type": "stream",
     "text": [
      "Subset Accuracy: 0.7011112197347411\n",
      "Hamming Loss: 0.03892853651383322\n"
     ]
    }
   ],
   "source": [
    "print(\"Subset Accuracy: \" + str(accuracy_score(y_test, LR_predictions)))\n",
    "print(\"Hamming Loss: \" + str(hamming_loss(y_test, LR_predictions)))"
   ]
  },
  {
   "cell_type": "markdown",
   "id": "830e3ec4-3671-45f6-8837-e62bf97f36e5",
   "metadata": {
    "tags": []
   },
   "source": [
    "## MLkNN"
   ]
  },
  {
   "cell_type": "code",
   "execution_count": 52,
   "id": "e086d303-2c85-4afe-89dd-3c7ffb5c4fc2",
   "metadata": {
    "tags": []
   },
   "outputs": [
    {
     "ename": "ValueError",
     "evalue": "\nAll the 30 fits failed.\nIt is very likely that your model is misconfigured.\nYou can try to debug the error by setting error_score='raise'.\n\nBelow are more details about the failures:\n--------------------------------------------------------------------------------\n30 fits failed with the following error:\nTraceback (most recent call last):\n  File \"C:\\Users\\Tugas Akhir\\anaconda3\\envs\\MLenv\\lib\\site-packages\\sklearn\\model_selection\\_validation.py\", line 686, in _fit_and_score\n    estimator.fit(X_train, y_train, **fit_params)\n  File \"C:\\Users\\Tugas Akhir\\anaconda3\\envs\\MLenv\\lib\\site-packages\\skmultilearn\\adapt\\mlknn.py\", line 218, in fit\n    self._cond_prob_true, self._cond_prob_false = self._compute_cond(X, self._label_cache)\n  File \"C:\\Users\\Tugas Akhir\\anaconda3\\envs\\MLenv\\lib\\site-packages\\skmultilearn\\adapt\\mlknn.py\", line 165, in _compute_cond\n    self.knn_ = NearestNeighbors(self.k).fit(X)\nTypeError: __init__() takes 1 positional argument but 2 were given\n",
     "output_type": "error",
     "traceback": [
      "\u001b[1;31m---------------------------------------------------------------------------\u001b[0m",
      "\u001b[1;31mValueError\u001b[0m                                Traceback (most recent call last)",
      "Input \u001b[1;32mIn [52]\u001b[0m, in \u001b[0;36m<cell line: 8>\u001b[1;34m()\u001b[0m\n\u001b[0;32m      5\u001b[0m score \u001b[38;5;241m=\u001b[39m \u001b[38;5;124m'\u001b[39m\u001b[38;5;124mf1_macro\u001b[39m\u001b[38;5;124m'\u001b[39m\n\u001b[0;32m      7\u001b[0m clf \u001b[38;5;241m=\u001b[39m GridSearchCV(MLkNN(), parameters, scoring\u001b[38;5;241m=\u001b[39mscore)\n\u001b[1;32m----> 8\u001b[0m \u001b[43mclf\u001b[49m\u001b[38;5;241;43m.\u001b[39;49m\u001b[43mfit\u001b[49m\u001b[43m(\u001b[49m\u001b[43mX_train_tfidf\u001b[49m\u001b[43m,\u001b[49m\u001b[43m \u001b[49m\u001b[43my_train\u001b[49m\u001b[43m)\u001b[49m\n\u001b[0;32m     10\u001b[0m \u001b[38;5;28mprint\u001b[39m(clf\u001b[38;5;241m.\u001b[39mbest_params_, clf\u001b[38;5;241m.\u001b[39mbest_score_)\n",
      "File \u001b[1;32m~\\anaconda3\\envs\\MLenv\\lib\\site-packages\\sklearn\\model_selection\\_search.py:875\u001b[0m, in \u001b[0;36mBaseSearchCV.fit\u001b[1;34m(self, X, y, groups, **fit_params)\u001b[0m\n\u001b[0;32m    869\u001b[0m     results \u001b[38;5;241m=\u001b[39m \u001b[38;5;28mself\u001b[39m\u001b[38;5;241m.\u001b[39m_format_results(\n\u001b[0;32m    870\u001b[0m         all_candidate_params, n_splits, all_out, all_more_results\n\u001b[0;32m    871\u001b[0m     )\n\u001b[0;32m    873\u001b[0m     \u001b[38;5;28;01mreturn\u001b[39;00m results\n\u001b[1;32m--> 875\u001b[0m \u001b[38;5;28;43mself\u001b[39;49m\u001b[38;5;241;43m.\u001b[39;49m\u001b[43m_run_search\u001b[49m\u001b[43m(\u001b[49m\u001b[43mevaluate_candidates\u001b[49m\u001b[43m)\u001b[49m\n\u001b[0;32m    877\u001b[0m \u001b[38;5;66;03m# multimetric is determined here because in the case of a callable\u001b[39;00m\n\u001b[0;32m    878\u001b[0m \u001b[38;5;66;03m# self.scoring the return type is only known after calling\u001b[39;00m\n\u001b[0;32m    879\u001b[0m first_test_score \u001b[38;5;241m=\u001b[39m all_out[\u001b[38;5;241m0\u001b[39m][\u001b[38;5;124m\"\u001b[39m\u001b[38;5;124mtest_scores\u001b[39m\u001b[38;5;124m\"\u001b[39m]\n",
      "File \u001b[1;32m~\\anaconda3\\envs\\MLenv\\lib\\site-packages\\sklearn\\model_selection\\_search.py:1375\u001b[0m, in \u001b[0;36mGridSearchCV._run_search\u001b[1;34m(self, evaluate_candidates)\u001b[0m\n\u001b[0;32m   1373\u001b[0m \u001b[38;5;28;01mdef\u001b[39;00m \u001b[38;5;21m_run_search\u001b[39m(\u001b[38;5;28mself\u001b[39m, evaluate_candidates):\n\u001b[0;32m   1374\u001b[0m     \u001b[38;5;124;03m\"\"\"Search all candidates in param_grid\"\"\"\u001b[39;00m\n\u001b[1;32m-> 1375\u001b[0m     \u001b[43mevaluate_candidates\u001b[49m\u001b[43m(\u001b[49m\u001b[43mParameterGrid\u001b[49m\u001b[43m(\u001b[49m\u001b[38;5;28;43mself\u001b[39;49m\u001b[38;5;241;43m.\u001b[39;49m\u001b[43mparam_grid\u001b[49m\u001b[43m)\u001b[49m\u001b[43m)\u001b[49m\n",
      "File \u001b[1;32m~\\anaconda3\\envs\\MLenv\\lib\\site-packages\\sklearn\\model_selection\\_search.py:852\u001b[0m, in \u001b[0;36mBaseSearchCV.fit.<locals>.evaluate_candidates\u001b[1;34m(candidate_params, cv, more_results)\u001b[0m\n\u001b[0;32m    845\u001b[0m \u001b[38;5;28;01melif\u001b[39;00m \u001b[38;5;28mlen\u001b[39m(out) \u001b[38;5;241m!=\u001b[39m n_candidates \u001b[38;5;241m*\u001b[39m n_splits:\n\u001b[0;32m    846\u001b[0m     \u001b[38;5;28;01mraise\u001b[39;00m \u001b[38;5;167;01mValueError\u001b[39;00m(\n\u001b[0;32m    847\u001b[0m         \u001b[38;5;124m\"\u001b[39m\u001b[38;5;124mcv.split and cv.get_n_splits returned \u001b[39m\u001b[38;5;124m\"\u001b[39m\n\u001b[0;32m    848\u001b[0m         \u001b[38;5;124m\"\u001b[39m\u001b[38;5;124minconsistent results. Expected \u001b[39m\u001b[38;5;132;01m{}\u001b[39;00m\u001b[38;5;124m \u001b[39m\u001b[38;5;124m\"\u001b[39m\n\u001b[0;32m    849\u001b[0m         \u001b[38;5;124m\"\u001b[39m\u001b[38;5;124msplits, got \u001b[39m\u001b[38;5;132;01m{}\u001b[39;00m\u001b[38;5;124m\"\u001b[39m\u001b[38;5;241m.\u001b[39mformat(n_splits, \u001b[38;5;28mlen\u001b[39m(out) \u001b[38;5;241m/\u001b[39m\u001b[38;5;241m/\u001b[39m n_candidates)\n\u001b[0;32m    850\u001b[0m     )\n\u001b[1;32m--> 852\u001b[0m \u001b[43m_warn_or_raise_about_fit_failures\u001b[49m\u001b[43m(\u001b[49m\u001b[43mout\u001b[49m\u001b[43m,\u001b[49m\u001b[43m \u001b[49m\u001b[38;5;28;43mself\u001b[39;49m\u001b[38;5;241;43m.\u001b[39;49m\u001b[43merror_score\u001b[49m\u001b[43m)\u001b[49m\n\u001b[0;32m    854\u001b[0m \u001b[38;5;66;03m# For callable self.scoring, the return type is only know after\u001b[39;00m\n\u001b[0;32m    855\u001b[0m \u001b[38;5;66;03m# calling. If the return type is a dictionary, the error scores\u001b[39;00m\n\u001b[0;32m    856\u001b[0m \u001b[38;5;66;03m# can now be inserted with the correct key. The type checking\u001b[39;00m\n\u001b[0;32m    857\u001b[0m \u001b[38;5;66;03m# of out will be done in `_insert_error_scores`.\u001b[39;00m\n\u001b[0;32m    858\u001b[0m \u001b[38;5;28;01mif\u001b[39;00m callable(\u001b[38;5;28mself\u001b[39m\u001b[38;5;241m.\u001b[39mscoring):\n",
      "File \u001b[1;32m~\\anaconda3\\envs\\MLenv\\lib\\site-packages\\sklearn\\model_selection\\_validation.py:367\u001b[0m, in \u001b[0;36m_warn_or_raise_about_fit_failures\u001b[1;34m(results, error_score)\u001b[0m\n\u001b[0;32m    360\u001b[0m \u001b[38;5;28;01mif\u001b[39;00m num_failed_fits \u001b[38;5;241m==\u001b[39m num_fits:\n\u001b[0;32m    361\u001b[0m     all_fits_failed_message \u001b[38;5;241m=\u001b[39m (\n\u001b[0;32m    362\u001b[0m         \u001b[38;5;124mf\u001b[39m\u001b[38;5;124m\"\u001b[39m\u001b[38;5;130;01m\\n\u001b[39;00m\u001b[38;5;124mAll the \u001b[39m\u001b[38;5;132;01m{\u001b[39;00mnum_fits\u001b[38;5;132;01m}\u001b[39;00m\u001b[38;5;124m fits failed.\u001b[39m\u001b[38;5;130;01m\\n\u001b[39;00m\u001b[38;5;124m\"\u001b[39m\n\u001b[0;32m    363\u001b[0m         \u001b[38;5;124m\"\u001b[39m\u001b[38;5;124mIt is very likely that your model is misconfigured.\u001b[39m\u001b[38;5;130;01m\\n\u001b[39;00m\u001b[38;5;124m\"\u001b[39m\n\u001b[0;32m    364\u001b[0m         \u001b[38;5;124m\"\u001b[39m\u001b[38;5;124mYou can try to debug the error by setting error_score=\u001b[39m\u001b[38;5;124m'\u001b[39m\u001b[38;5;124mraise\u001b[39m\u001b[38;5;124m'\u001b[39m\u001b[38;5;124m.\u001b[39m\u001b[38;5;130;01m\\n\u001b[39;00m\u001b[38;5;130;01m\\n\u001b[39;00m\u001b[38;5;124m\"\u001b[39m\n\u001b[0;32m    365\u001b[0m         \u001b[38;5;124mf\u001b[39m\u001b[38;5;124m\"\u001b[39m\u001b[38;5;124mBelow are more details about the failures:\u001b[39m\u001b[38;5;130;01m\\n\u001b[39;00m\u001b[38;5;132;01m{\u001b[39;00mfit_errors_summary\u001b[38;5;132;01m}\u001b[39;00m\u001b[38;5;124m\"\u001b[39m\n\u001b[0;32m    366\u001b[0m     )\n\u001b[1;32m--> 367\u001b[0m     \u001b[38;5;28;01mraise\u001b[39;00m \u001b[38;5;167;01mValueError\u001b[39;00m(all_fits_failed_message)\n\u001b[0;32m    369\u001b[0m \u001b[38;5;28;01melse\u001b[39;00m:\n\u001b[0;32m    370\u001b[0m     some_fits_failed_message \u001b[38;5;241m=\u001b[39m (\n\u001b[0;32m    371\u001b[0m         \u001b[38;5;124mf\u001b[39m\u001b[38;5;124m\"\u001b[39m\u001b[38;5;130;01m\\n\u001b[39;00m\u001b[38;5;132;01m{\u001b[39;00mnum_failed_fits\u001b[38;5;132;01m}\u001b[39;00m\u001b[38;5;124m fits failed out of a total of \u001b[39m\u001b[38;5;132;01m{\u001b[39;00mnum_fits\u001b[38;5;132;01m}\u001b[39;00m\u001b[38;5;124m.\u001b[39m\u001b[38;5;130;01m\\n\u001b[39;00m\u001b[38;5;124m\"\u001b[39m\n\u001b[0;32m    372\u001b[0m         \u001b[38;5;124m\"\u001b[39m\u001b[38;5;124mThe score on these train-test partitions for these parameters\u001b[39m\u001b[38;5;124m\"\u001b[39m\n\u001b[1;32m   (...)\u001b[0m\n\u001b[0;32m    376\u001b[0m         \u001b[38;5;124mf\u001b[39m\u001b[38;5;124m\"\u001b[39m\u001b[38;5;124mBelow are more details about the failures:\u001b[39m\u001b[38;5;130;01m\\n\u001b[39;00m\u001b[38;5;132;01m{\u001b[39;00mfit_errors_summary\u001b[38;5;132;01m}\u001b[39;00m\u001b[38;5;124m\"\u001b[39m\n\u001b[0;32m    377\u001b[0m     )\n",
      "\u001b[1;31mValueError\u001b[0m: \nAll the 30 fits failed.\nIt is very likely that your model is misconfigured.\nYou can try to debug the error by setting error_score='raise'.\n\nBelow are more details about the failures:\n--------------------------------------------------------------------------------\n30 fits failed with the following error:\nTraceback (most recent call last):\n  File \"C:\\Users\\Tugas Akhir\\anaconda3\\envs\\MLenv\\lib\\site-packages\\sklearn\\model_selection\\_validation.py\", line 686, in _fit_and_score\n    estimator.fit(X_train, y_train, **fit_params)\n  File \"C:\\Users\\Tugas Akhir\\anaconda3\\envs\\MLenv\\lib\\site-packages\\skmultilearn\\adapt\\mlknn.py\", line 218, in fit\n    self._cond_prob_true, self._cond_prob_false = self._compute_cond(X, self._label_cache)\n  File \"C:\\Users\\Tugas Akhir\\anaconda3\\envs\\MLenv\\lib\\site-packages\\skmultilearn\\adapt\\mlknn.py\", line 165, in _compute_cond\n    self.knn_ = NearestNeighbors(self.k).fit(X)\nTypeError: __init__() takes 1 positional argument but 2 were given\n"
     ]
    }
   ],
   "source": [
    "from skmultilearn.adapt import MLkNN\n",
    "from sklearn.model_selection import GridSearchCV\n",
    "\n",
    "parameters = {'k': range(1,3), 's': [0.5, 0.7, 1.0]}\n",
    "score = 'f1_macro'\n",
    "\n",
    "clf = GridSearchCV(MLkNN(), parameters, scoring=score)\n",
    "clf.fit(X_train_tfidf, y_train)\n",
    "\n",
    "print(clf.best_params_, clf.best_score_)"
   ]
  },
  {
   "cell_type": "code",
   "execution_count": null,
   "id": "abf6b2a3-a549-40b7-bbc5-6494bf366541",
   "metadata": {},
   "outputs": [],
   "source": [
    "from sklearn.neighbors import KNeighborsClassifier\n",
    "\n",
    "knnClf = KNeighborsClassifier()\n",
    "knnClf.fit(X_train_tfidf, y_train)\n",
    "knn_predictions = knnClf.predict(X_test_tfidf)\n",
    "print(\"confusion matrix: \", multilabel_confusion_matrix(y_test, knn_predictions))"
   ]
  },
  {
   "cell_type": "code",
   "execution_count": null,
   "id": "8437b501-9184-4dc0-9a92-808391aa7e21",
   "metadata": {},
   "outputs": [],
   "source": [
    "print(classification_report(y_test, knn_predictions, target_names=labels))"
   ]
  },
  {
   "cell_type": "code",
   "execution_count": null,
   "id": "4a8786cd-c1e4-4a66-9843-ba3b7fe6c17b",
   "metadata": {},
   "outputs": [],
   "source": [
    "print(\"Subset Accuracy: \" + str(accuracy_score(y_test, knn_predictions)))\n",
    "print(\"Hamming Loss: \" + str(hamming_loss(y_test, knn_predictions)))"
   ]
  },
  {
   "cell_type": "markdown",
   "id": "b5422add-951b-4e64-aaa3-82de82d9ffcb",
   "metadata": {
    "tags": []
   },
   "source": [
    "## Decision Tree"
   ]
  },
  {
   "cell_type": "code",
   "execution_count": 53,
   "id": "604588d2-abb8-45ea-9493-5dd85e5011dc",
   "metadata": {},
   "outputs": [
    {
     "name": "stdout",
     "output_type": "stream",
     "text": [
      "confusion matrix:  [[[23763  1129]\n",
      "  [ 1044  4751]]\n",
      "\n",
      " [[23218  1180]\n",
      "  [ 1166  5123]]\n",
      "\n",
      " [[26411  1089]\n",
      "  [ 1153  2034]]\n",
      "\n",
      " [[26878   699]\n",
      "  [  602  2508]]\n",
      "\n",
      " [[27195   326]\n",
      "  [  293  2873]]\n",
      "\n",
      " [[28178   326]\n",
      "  [  362  1821]]\n",
      "\n",
      " [[28256   337]\n",
      "  [  345  1749]]\n",
      "\n",
      " [[27006  1083]\n",
      "  [ 1180  1418]]\n",
      "\n",
      " [[27024  1162]\n",
      "  [ 1196  1305]]\n",
      "\n",
      " [[27541   883]\n",
      "  [  908  1355]]]\n"
     ]
    }
   ],
   "source": [
    "from sklearn.tree import DecisionTreeClassifier\n",
    "\n",
    "dtClassifier = DecisionTreeClassifier()\n",
    "dtClassifier.fit(X_train_tfidf, y_train)\n",
    "dt_predictions = dtClassifier.predict(X_test_tfidf)\n",
    "print(\"confusion matrix: \", multilabel_confusion_matrix(y_test, dt_predictions))"
   ]
  },
  {
   "cell_type": "code",
   "execution_count": 54,
   "id": "11f28176-2982-4d5f-b358-8cf3b79e20b8",
   "metadata": {},
   "outputs": [
    {
     "name": "stdout",
     "output_type": "stream",
     "text": [
      "              precision    recall  f1-score   support\n",
      "\n",
      "  menstruasi       0.81      0.82      0.81      5795\n",
      "   kehamilan       0.81      0.81      0.81      6289\n",
      "        obat       0.65      0.64      0.64      3187\n",
      "asam-lambung       0.78      0.81      0.79      3110\n",
      "        bayi       0.90      0.91      0.90      3166\n",
      "sakit-kepala       0.85      0.83      0.84      2183\n",
      "    benjolan       0.84      0.84      0.84      2094\n",
      "       kulit       0.57      0.55      0.56      2598\n",
      "      alergi       0.53      0.52      0.53      2501\n",
      " kontrasepsi       0.61      0.60      0.60      2263\n",
      "\n",
      "   micro avg       0.75      0.75      0.75     33186\n",
      "   macro avg       0.73      0.73      0.73     33186\n",
      "weighted avg       0.75      0.75      0.75     33186\n",
      " samples avg       0.77      0.77      0.76     33186\n",
      "\n"
     ]
    },
    {
     "name": "stderr",
     "output_type": "stream",
     "text": [
      "C:\\Users\\Tugas Akhir\\anaconda3\\envs\\MLenv\\lib\\site-packages\\sklearn\\metrics\\_classification.py:1327: UndefinedMetricWarning: Precision and F-score are ill-defined and being set to 0.0 in samples with no predicted labels. Use `zero_division` parameter to control this behavior.\n",
      "  _warn_prf(average, modifier, msg_start, len(result))\n"
     ]
    }
   ],
   "source": [
    "print(classification_report(y_test, dt_predictions, target_names=labels))"
   ]
  },
  {
   "cell_type": "code",
   "execution_count": 55,
   "id": "115b65e4-8d23-493f-82b3-c1aa2c149439",
   "metadata": {},
   "outputs": [
    {
     "name": "stdout",
     "output_type": "stream",
     "text": [
      "Subset Accuracy: 0.6829602111643367\n",
      "Hamming Loss: 0.05364812461302832\n"
     ]
    }
   ],
   "source": [
    "print(\"Subset Accuracy: \" + str(accuracy_score(y_test, dt_predictions)))\n",
    "print(\"Hamming Loss: \" + str(hamming_loss(y_test, dt_predictions)))"
   ]
  },
  {
   "cell_type": "markdown",
   "id": "f79244e0-a3fa-4ea0-bddc-0268a449571e",
   "metadata": {},
   "source": [
    "## Random Forest"
   ]
  },
  {
   "cell_type": "code",
   "execution_count": null,
   "id": "c41ae0f4-6537-4b30-80a3-0614f33e732b",
   "metadata": {},
   "outputs": [],
   "source": []
  },
  {
   "cell_type": "markdown",
   "id": "1a8a6e7c-81d0-407c-9e6f-20fc838fed2d",
   "metadata": {},
   "source": [
    "# DL Classification"
   ]
  },
  {
   "cell_type": "code",
   "execution_count": 44,
   "id": "98eb0b6e-1ee2-4859-9120-dc2e42e9dafa",
   "metadata": {},
   "outputs": [],
   "source": [
    "epochs1 = 10\n",
    "epochs2 = 50\n",
    "\n",
    "val_split1 = 0.1\n",
    "val_split2 = 0.33\n",
    "\n",
    "batch_size1 = 32\n",
    "batch_size2 = 64"
   ]
  },
  {
   "cell_type": "code",
   "execution_count": 45,
   "id": "a549a7f8-4940-4576-bee2-b7c35baa0651",
   "metadata": {},
   "outputs": [
    {
     "data": {
      "text/plain": [
       "34897"
      ]
     },
     "execution_count": 45,
     "metadata": {},
     "output_type": "execute_result"
    }
   ],
   "source": [
    "input_dim = len(word_index) + 1\n",
    "output_dim = 300\n",
    "input_dim"
   ]
  },
  {
   "cell_type": "code",
   "execution_count": 46,
   "id": "80dc96a4-825d-45cf-b6c7-f9ae542789ff",
   "metadata": {},
   "outputs": [],
   "source": [
    "def hamming_score(y_true, y_pred):\n",
    "    acc_list = []\n",
    "    for i in range(y_true.shape[0]):\n",
    "        set_true = set( np.where(y_true[i])[0] )\n",
    "        set_pred = set( np.where(y_pred[i])[0] )\n",
    "        tmp_a = None\n",
    "        if len(set_true) == 0 and len(set_pred) == 0:\n",
    "            tmp_a = 1\n",
    "        else:\n",
    "            tmp_a = len(set_true.intersection(set_pred))/\\\n",
    "                    float( len(set_true.union(set_pred)) )\n",
    "        acc_list.append(tmp_a)\n",
    "    \n",
    "    return np.mean(acc_list)"
   ]
  },
  {
   "cell_type": "code",
   "execution_count": 61,
   "id": "62a6b82e-3703-4649-8698-5440dfa88951",
   "metadata": {},
   "outputs": [
    {
     "name": "stdout",
     "output_type": "stream",
     "text": [
      "Out of vocab: \n",
      "0\n"
     ]
    }
   ],
   "source": [
    "embedding_matrix = np.zeros((len(word_index) + 1, ft.vector_size))\n",
    "oov = 0\n",
    "oov_list = []\n",
    "\n",
    "'''\n",
    "For FastText\n",
    "'''\n",
    "for word, i in word_index.items():\n",
    "    if ft.wv[word] is not None:\n",
    "        embedding_matrix[i] = ft.wv[word]\n",
    "    else:\n",
    "        oov += 1\n",
    "\n",
    "print(\"Out of vocab: \")\n",
    "print(oov)"
   ]
  },
  {
   "cell_type": "markdown",
   "id": "53fce0c2-b19b-48ed-bacf-a868b523c9b1",
   "metadata": {},
   "source": [
    "## BiLSTM-CNN"
   ]
  },
  {
   "cell_type": "code",
   "execution_count": 72,
   "id": "6c847f42-6fc4-43ef-935a-ab6120dbf3ce",
   "metadata": {},
   "outputs": [
    {
     "name": "stdout",
     "output_type": "stream",
     "text": [
      "Model: \"model\"\n",
      "__________________________________________________________________________________________________\n",
      " Layer (type)                   Output Shape         Param #     Connected to                     \n",
      "==================================================================================================\n",
      " input_1 (InputLayer)           [(None, 300)]        0           []                               \n",
      "                                                                                                  \n",
      " embedding (Embedding)          (None, 300, 300)     10469100    ['input_1[0][0]']                \n",
      "                                                                                                  \n",
      " conv1d (Conv1D)                (None, 298, 100)     90100       ['embedding[0][0]']              \n",
      "                                                                                                  \n",
      " input_2 (InputLayer)           [(None, 300)]        0           []                               \n",
      "                                                                                                  \n",
      " max_pooling1d (MaxPooling1D)   (None, 149, 100)     0           ['conv1d[0][0]']                 \n",
      "                                                                                                  \n",
      " embedding_1 (Embedding)        (None, 300, 300)     10469100    ['input_2[0][0]']                \n",
      "                                                                                                  \n",
      " flatten (Flatten)              (None, 14900)        0           ['max_pooling1d[0][0]']          \n",
      "                                                                                                  \n",
      " bidirectional (Bidirectional)  (None, 128)          186880      ['embedding_1[0][0]']            \n",
      "                                                                                                  \n",
      " dropout (Dropout)              (None, 14900)        0           ['flatten[0][0]']                \n",
      "                                                                                                  \n",
      " dropout_1 (Dropout)            (None, 128)          0           ['bidirectional[0][0]']          \n",
      "                                                                                                  \n",
      " dense (Dense)                  (None, 10)           149010      ['dropout[0][0]']                \n",
      "                                                                                                  \n",
      " dense_1 (Dense)                (None, 10)           1290        ['dropout_1[0][0]']              \n",
      "                                                                                                  \n",
      " concatenate (Concatenate)      (None, 20)           0           ['dense[0][0]',                  \n",
      "                                                                  'dense_1[0][0]']                \n",
      "                                                                                                  \n",
      " dense_2 (Dense)                (None, 10)           210         ['concatenate[0][0]']            \n",
      "                                                                                                  \n",
      "==================================================================================================\n",
      "Total params: 21,365,690\n",
      "Trainable params: 427,490\n",
      "Non-trainable params: 20,938,200\n",
      "__________________________________________________________________________________________________\n"
     ]
    }
   ],
   "source": [
    "tf.keras.backend.clear_session()\n",
    "\n",
    "input1 = Input(shape=(max_length,))\n",
    "embedding1 = Embedding(input_dim, output_dim, input_length=max_length, input_shape=(max_length, ), weights=[embedding_matrix], trainable=False)(input1)\n",
    "conv1 = Conv1D(100, 3, activation='relu')(embedding1)\n",
    "pool1 = MaxPooling1D(2, 2)(conv1)\n",
    "flat1 = Flatten()(pool1)\n",
    "drop1 = Dropout(0.5)(flat1)\n",
    "out1 = Dense(10, activation='sigmoid')(drop1)\n",
    "\n",
    "input2 = Input(shape=(max_length,))\n",
    "embedding2 = Embedding(input_dim, output_dim, input_length=max_length, input_shape=(max_length, ), weights=[embedding_matrix], trainable=False)(input2)\n",
    "gru2 = Bidirectional(LSTM(64))(embedding2)\n",
    "drop2 = Dropout(0.5)(gru2)\n",
    "out2 = Dense(10, activation='sigmoid')(drop2)\n",
    "\n",
    "merged = concatenate([out1, out2])\n",
    "\n",
    "outputs = Dense(10, activation='sigmoid')(merged)\n",
    "BiLSTMCNN = Model(inputs=[input1, input2], outputs=outputs)\n",
    "\n",
    "BiLSTMCNN.compile(loss='binary_crossentropy', optimizer='adam', metrics=['accuracy'])\n",
    "BiLSTMCNN.summary()"
   ]
  },
  {
   "cell_type": "code",
   "execution_count": 73,
   "id": "495fc346-56dd-4163-bbc8-f63e1db8f0b1",
   "metadata": {
    "collapsed": true,
    "jupyter": {
     "outputs_hidden": true
    },
    "tags": []
   },
   "outputs": [
    {
     "name": "stdout",
     "output_type": "stream",
     "text": [
      "Epoch 1/50\n",
      "933/933 [==============================] - ETA: 0s - loss: 0.3109 - accuracy: 0.3770\n",
      "Epoch 1: val_accuracy improved from -inf to 0.08644, saving model to BestModels\\bilstmcnn_fixtypo.h5\n",
      "933/933 [==============================] - 306s 325ms/step - loss: 0.3109 - accuracy: 0.3770 - val_loss: 0.3098 - val_accuracy: 0.0864\n",
      "Epoch 2/50\n",
      "933/933 [==============================] - ETA: 0s - loss: 0.1689 - accuracy: 0.7560\n",
      "Epoch 2: val_accuracy improved from 0.08644 to 0.57746, saving model to BestModels\\bilstmcnn_fixtypo.h5\n",
      "933/933 [==============================] - 317s 339ms/step - loss: 0.1689 - accuracy: 0.7560 - val_loss: 0.1896 - val_accuracy: 0.5775\n",
      "Epoch 3/50\n",
      "933/933 [==============================] - ETA: 0s - loss: 0.1227 - accuracy: 0.7915\n",
      "Epoch 3: val_accuracy improved from 0.57746 to 0.71444, saving model to BestModels\\bilstmcnn_fixtypo.h5\n",
      "933/933 [==============================] - 334s 358ms/step - loss: 0.1227 - accuracy: 0.7915 - val_loss: 0.1725 - val_accuracy: 0.7144\n",
      "Epoch 4/50\n",
      "933/933 [==============================] - ETA: 0s - loss: 0.1048 - accuracy: 0.7998\n",
      "Epoch 4: val_accuracy improved from 0.71444 to 0.75170, saving model to BestModels\\bilstmcnn_fixtypo.h5\n",
      "933/933 [==============================] - 349s 374ms/step - loss: 0.1048 - accuracy: 0.7998 - val_loss: 0.1343 - val_accuracy: 0.7517\n",
      "Epoch 5/50\n",
      "933/933 [==============================] - ETA: 0s - loss: 0.0956 - accuracy: 0.8059\n",
      "Epoch 5: val_accuracy improved from 0.75170 to 0.75260, saving model to BestModels\\bilstmcnn_fixtypo.h5\n",
      "933/933 [==============================] - 355s 381ms/step - loss: 0.0956 - accuracy: 0.8059 - val_loss: 0.1265 - val_accuracy: 0.7526\n",
      "Epoch 6/50\n",
      "933/933 [==============================] - ETA: 0s - loss: 0.0914 - accuracy: 0.8091\n",
      "Epoch 6: val_accuracy improved from 0.75260 to 0.76558, saving model to BestModels\\bilstmcnn_fixtypo.h5\n",
      "933/933 [==============================] - 336s 360ms/step - loss: 0.0914 - accuracy: 0.8091 - val_loss: 0.1229 - val_accuracy: 0.7656\n",
      "Epoch 7/50\n",
      "933/933 [==============================] - ETA: 0s - loss: 0.0862 - accuracy: 0.8149\n",
      "Epoch 7: val_accuracy improved from 0.76558 to 0.77583, saving model to BestModels\\bilstmcnn_fixtypo.h5\n",
      "933/933 [==============================] - 338s 362ms/step - loss: 0.0862 - accuracy: 0.8149 - val_loss: 0.1195 - val_accuracy: 0.7758\n",
      "Epoch 8/50\n",
      "933/933 [==============================] - ETA: 0s - loss: 0.0828 - accuracy: 0.8187\n",
      "Epoch 8: val_accuracy did not improve from 0.77583\n",
      "933/933 [==============================] - 341s 365ms/step - loss: 0.0828 - accuracy: 0.8187 - val_loss: 0.1175 - val_accuracy: 0.7724\n",
      "Epoch 9/50\n",
      "933/933 [==============================] - ETA: 0s - loss: 0.0809 - accuracy: 0.8217\n",
      "Epoch 9: val_accuracy improved from 0.77583 to 0.79122, saving model to BestModels\\bilstmcnn_fixtypo.h5\n",
      "933/933 [==============================] - 341s 366ms/step - loss: 0.0809 - accuracy: 0.8217 - val_loss: 0.1090 - val_accuracy: 0.7912\n",
      "Epoch 10/50\n",
      "933/933 [==============================] - ETA: 0s - loss: 0.0776 - accuracy: 0.8259\n",
      "Epoch 10: val_accuracy did not improve from 0.79122\n",
      "933/933 [==============================] - 338s 362ms/step - loss: 0.0776 - accuracy: 0.8259 - val_loss: 0.1146 - val_accuracy: 0.7835\n",
      "Epoch 11/50\n",
      "933/933 [==============================] - ETA: 0s - loss: 0.0762 - accuracy: 0.8287\n",
      "Epoch 11: val_accuracy did not improve from 0.79122\n",
      "933/933 [==============================] - 344s 369ms/step - loss: 0.0762 - accuracy: 0.8287 - val_loss: 0.1192 - val_accuracy: 0.7805\n",
      "Epoch 12/50\n",
      "933/933 [==============================] - ETA: 0s - loss: 0.0747 - accuracy: 0.8298\n",
      "Epoch 12: val_accuracy did not improve from 0.79122\n",
      "933/933 [==============================] - 353s 378ms/step - loss: 0.0747 - accuracy: 0.8298 - val_loss: 0.1244 - val_accuracy: 0.7577\n",
      "Epoch 13/50\n",
      "933/933 [==============================] - ETA: 0s - loss: 0.0725 - accuracy: 0.8335\n",
      "Epoch 13: val_accuracy did not improve from 0.79122\n",
      "933/933 [==============================] - 349s 375ms/step - loss: 0.0725 - accuracy: 0.8335 - val_loss: 0.1095 - val_accuracy: 0.7908\n",
      "Epoch 14/50\n",
      "933/933 [==============================] - ETA: 0s - loss: 0.0716 - accuracy: 0.8356\n",
      "Epoch 14: val_accuracy improved from 0.79122 to 0.79243, saving model to BestModels\\bilstmcnn_fixtypo.h5\n",
      "933/933 [==============================] - 352s 377ms/step - loss: 0.0716 - accuracy: 0.8356 - val_loss: 0.1122 - val_accuracy: 0.7924\n",
      "Epoch 15/50\n",
      "933/933 [==============================] - ETA: 0s - loss: 0.0694 - accuracy: 0.8383\n",
      "Epoch 15: val_accuracy improved from 0.79243 to 0.79695, saving model to BestModels\\bilstmcnn_fixtypo.h5\n",
      "933/933 [==============================] - 351s 376ms/step - loss: 0.0694 - accuracy: 0.8383 - val_loss: 0.1134 - val_accuracy: 0.7970\n",
      "Epoch 16/50\n",
      "933/933 [==============================] - ETA: 0s - loss: 0.0674 - accuracy: 0.8416\n",
      "Epoch 16: val_accuracy did not improve from 0.79695\n",
      "933/933 [==============================] - 352s 377ms/step - loss: 0.0674 - accuracy: 0.8416 - val_loss: 0.1083 - val_accuracy: 0.7942\n",
      "Epoch 17/50\n",
      "933/933 [==============================] - ETA: 0s - loss: 0.0663 - accuracy: 0.8438\n",
      "Epoch 17: val_accuracy improved from 0.79695 to 0.80585, saving model to BestModels\\bilstmcnn_fixtypo.h5\n",
      "933/933 [==============================] - 365s 391ms/step - loss: 0.0663 - accuracy: 0.8438 - val_loss: 0.1071 - val_accuracy: 0.8059\n",
      "Epoch 18/50\n",
      "933/933 [==============================] - ETA: 0s - loss: 0.0649 - accuracy: 0.8456\n",
      "Epoch 18: val_accuracy did not improve from 0.80585\n",
      "933/933 [==============================] - 371s 398ms/step - loss: 0.0649 - accuracy: 0.8456 - val_loss: 0.1135 - val_accuracy: 0.7951\n",
      "Epoch 19/50\n",
      "933/933 [==============================] - ETA: 0s - loss: 0.0643 - accuracy: 0.8445\n",
      "Epoch 19: val_accuracy did not improve from 0.80585\n",
      "933/933 [==============================] - 371s 398ms/step - loss: 0.0643 - accuracy: 0.8445 - val_loss: 0.1105 - val_accuracy: 0.8009\n",
      "Epoch 20/50\n",
      "933/933 [==============================] - ETA: 0s - loss: 0.0627 - accuracy: 0.8488\n",
      "Epoch 20: val_accuracy did not improve from 0.80585\n",
      "933/933 [==============================] - 375s 402ms/step - loss: 0.0627 - accuracy: 0.8488 - val_loss: 0.1156 - val_accuracy: 0.7896\n",
      "Epoch 21/50\n",
      "933/933 [==============================] - ETA: 0s - loss: 0.0613 - accuracy: 0.8515\n",
      "Epoch 21: val_accuracy did not improve from 0.80585\n",
      "933/933 [==============================] - 376s 403ms/step - loss: 0.0613 - accuracy: 0.8515 - val_loss: 0.1104 - val_accuracy: 0.8040\n",
      "Epoch 22/50\n",
      "933/933 [==============================] - ETA: 0s - loss: 0.0604 - accuracy: 0.8535\n",
      "Epoch 22: val_accuracy improved from 0.80585 to 0.81128, saving model to BestModels\\bilstmcnn_fixtypo.h5\n",
      "933/933 [==============================] - 391s 420ms/step - loss: 0.0604 - accuracy: 0.8535 - val_loss: 0.1071 - val_accuracy: 0.8113\n",
      "Epoch 23/50\n",
      "933/933 [==============================] - ETA: 0s - loss: 0.0597 - accuracy: 0.8535\n",
      "Epoch 23: val_accuracy did not improve from 0.81128\n",
      "933/933 [==============================] - 386s 414ms/step - loss: 0.0597 - accuracy: 0.8535 - val_loss: 0.1137 - val_accuracy: 0.7954\n",
      "Epoch 24/50\n",
      "933/933 [==============================] - ETA: 0s - loss: 0.0580 - accuracy: 0.8559\n",
      "Epoch 24: val_accuracy improved from 0.81128 to 0.82079, saving model to BestModels\\bilstmcnn_fixtypo.h5\n",
      "933/933 [==============================] - 384s 412ms/step - loss: 0.0580 - accuracy: 0.8559 - val_loss: 0.1000 - val_accuracy: 0.8208\n",
      "Epoch 25/50\n",
      "933/933 [==============================] - ETA: 0s - loss: 0.0572 - accuracy: 0.8571\n",
      "Epoch 25: val_accuracy did not improve from 0.82079\n",
      "933/933 [==============================] - 381s 408ms/step - loss: 0.0572 - accuracy: 0.8571 - val_loss: 0.1047 - val_accuracy: 0.8176\n",
      "Epoch 26/50\n",
      "933/933 [==============================] - ETA: 0s - loss: 0.0562 - accuracy: 0.8566\n",
      "Epoch 26: val_accuracy did not improve from 0.82079\n",
      "933/933 [==============================] - 393s 421ms/step - loss: 0.0562 - accuracy: 0.8566 - val_loss: 0.1113 - val_accuracy: 0.8033\n",
      "Epoch 27/50\n",
      "933/933 [==============================] - ETA: 0s - loss: 0.0559 - accuracy: 0.8570\n",
      "Epoch 27: val_accuracy did not improve from 0.82079\n",
      "933/933 [==============================] - 391s 419ms/step - loss: 0.0559 - accuracy: 0.8570 - val_loss: 0.1225 - val_accuracy: 0.7868\n",
      "Epoch 28/50\n",
      "933/933 [==============================] - ETA: 0s - loss: 0.0545 - accuracy: 0.8598\n",
      "Epoch 28: val_accuracy did not improve from 0.82079\n",
      "933/933 [==============================] - 365s 391ms/step - loss: 0.0545 - accuracy: 0.8598 - val_loss: 0.1085 - val_accuracy: 0.8072\n",
      "Epoch 29/50\n",
      "933/933 [==============================] - ETA: 0s - loss: 0.0538 - accuracy: 0.8603\n",
      "Epoch 29: val_accuracy improved from 0.82079 to 0.82305, saving model to BestModels\\bilstmcnn_fixtypo.h5\n",
      "933/933 [==============================] - 359s 385ms/step - loss: 0.0538 - accuracy: 0.8603 - val_loss: 0.1038 - val_accuracy: 0.8231\n",
      "Epoch 30/50\n",
      "933/933 [==============================] - ETA: 0s - loss: 0.0527 - accuracy: 0.8641\n",
      "Epoch 30: val_accuracy did not improve from 0.82305\n",
      "933/933 [==============================] - 316s 339ms/step - loss: 0.0527 - accuracy: 0.8641 - val_loss: 0.1148 - val_accuracy: 0.8040\n",
      "Epoch 31/50\n",
      "933/933 [==============================] - ETA: 0s - loss: 0.0517 - accuracy: 0.8646\n",
      "Epoch 31: val_accuracy did not improve from 0.82305\n",
      "933/933 [==============================] - 312s 335ms/step - loss: 0.0517 - accuracy: 0.8646 - val_loss: 0.1141 - val_accuracy: 0.8028\n",
      "Epoch 32/50\n",
      "933/933 [==============================] - ETA: 0s - loss: 0.0515 - accuracy: 0.8637\n",
      "Epoch 32: val_accuracy did not improve from 0.82305\n",
      "933/933 [==============================] - 318s 341ms/step - loss: 0.0515 - accuracy: 0.8637 - val_loss: 0.1116 - val_accuracy: 0.8126\n",
      "Epoch 33/50\n",
      "933/933 [==============================] - ETA: 0s - loss: 0.0501 - accuracy: 0.8669\n",
      "Epoch 33: val_accuracy improved from 0.82305 to 0.83240, saving model to BestModels\\bilstmcnn_fixtypo.h5\n",
      "933/933 [==============================] - 319s 342ms/step - loss: 0.0501 - accuracy: 0.8669 - val_loss: 0.0983 - val_accuracy: 0.8324\n",
      "Epoch 34/50\n",
      "933/933 [==============================] - ETA: 0s - loss: 0.0495 - accuracy: 0.8666\n",
      "Epoch 34: val_accuracy did not improve from 0.83240\n",
      "933/933 [==============================] - 330s 354ms/step - loss: 0.0495 - accuracy: 0.8666 - val_loss: 0.1151 - val_accuracy: 0.8060\n",
      "Epoch 35/50\n",
      "933/933 [==============================] - ETA: 0s - loss: 0.0486 - accuracy: 0.8691\n",
      "Epoch 35: val_accuracy did not improve from 0.83240\n",
      "933/933 [==============================] - 326s 349ms/step - loss: 0.0486 - accuracy: 0.8691 - val_loss: 0.1103 - val_accuracy: 0.8095\n",
      "Epoch 36/50\n",
      "933/933 [==============================] - ETA: 0s - loss: 0.0485 - accuracy: 0.8676\n",
      "Epoch 36: val_accuracy did not improve from 0.83240\n",
      "933/933 [==============================] - 328s 352ms/step - loss: 0.0485 - accuracy: 0.8676 - val_loss: 0.1155 - val_accuracy: 0.8043\n",
      "Epoch 37/50\n",
      "933/933 [==============================] - ETA: 0s - loss: 0.0473 - accuracy: 0.8705\n",
      "Epoch 37: val_accuracy did not improve from 0.83240\n",
      "933/933 [==============================] - 331s 354ms/step - loss: 0.0473 - accuracy: 0.8705 - val_loss: 0.1136 - val_accuracy: 0.8066\n",
      "Epoch 38/50\n",
      "933/933 [==============================] - ETA: 0s - loss: 0.0477 - accuracy: 0.8712\n",
      "Epoch 38: val_accuracy did not improve from 0.83240\n",
      "933/933 [==============================] - 328s 351ms/step - loss: 0.0477 - accuracy: 0.8712 - val_loss: 0.1154 - val_accuracy: 0.8116\n",
      "Epoch 39/50\n",
      "933/933 [==============================] - ETA: 0s - loss: 0.0470 - accuracy: 0.8687\n",
      "Epoch 39: val_accuracy did not improve from 0.83240\n",
      "933/933 [==============================] - 321s 344ms/step - loss: 0.0470 - accuracy: 0.8687 - val_loss: 0.1174 - val_accuracy: 0.8006\n",
      "Epoch 40/50\n",
      "933/933 [==============================] - ETA: 0s - loss: 0.0458 - accuracy: 0.8730\n",
      "Epoch 40: val_accuracy did not improve from 0.83240\n",
      "933/933 [==============================] - 318s 341ms/step - loss: 0.0458 - accuracy: 0.8730 - val_loss: 0.1306 - val_accuracy: 0.7865\n",
      "Epoch 41/50\n",
      "933/933 [==============================] - ETA: 0s - loss: 0.0446 - accuracy: 0.8731\n",
      "Epoch 41: val_accuracy did not improve from 0.83240\n",
      "933/933 [==============================] - 317s 340ms/step - loss: 0.0446 - accuracy: 0.8731 - val_loss: 0.1233 - val_accuracy: 0.7997\n",
      "Epoch 42/50\n",
      "933/933 [==============================] - ETA: 0s - loss: 0.0444 - accuracy: 0.8759\n",
      "Epoch 42: val_accuracy did not improve from 0.83240\n",
      "933/933 [==============================] - 324s 347ms/step - loss: 0.0444 - accuracy: 0.8759 - val_loss: 0.1180 - val_accuracy: 0.8129\n",
      "Epoch 43/50\n",
      "933/933 [==============================] - ETA: 0s - loss: 0.0435 - accuracy: 0.8770\n",
      "Epoch 43: val_accuracy did not improve from 0.83240\n",
      "933/933 [==============================] - 324s 347ms/step - loss: 0.0435 - accuracy: 0.8770 - val_loss: 0.1227 - val_accuracy: 0.8069\n",
      "Epoch 44/50\n",
      "933/933 [==============================] - ETA: 0s - loss: 0.0432 - accuracy: 0.8761\n",
      "Epoch 44: val_accuracy did not improve from 0.83240\n",
      "933/933 [==============================] - 325s 349ms/step - loss: 0.0432 - accuracy: 0.8761 - val_loss: 0.1096 - val_accuracy: 0.8234\n",
      "Epoch 45/50\n",
      "933/933 [==============================] - ETA: 0s - loss: 0.0427 - accuracy: 0.8775\n",
      "Epoch 45: val_accuracy did not improve from 0.83240\n",
      "933/933 [==============================] - 331s 354ms/step - loss: 0.0427 - accuracy: 0.8775 - val_loss: 0.1130 - val_accuracy: 0.8157\n",
      "Epoch 46/50\n",
      "933/933 [==============================] - ETA: 0s - loss: 0.0426 - accuracy: 0.8768\n",
      "Epoch 46: val_accuracy did not improve from 0.83240\n",
      "933/933 [==============================] - 325s 348ms/step - loss: 0.0426 - accuracy: 0.8768 - val_loss: 0.1412 - val_accuracy: 0.7795\n",
      "Epoch 47/50\n",
      "933/933 [==============================] - ETA: 0s - loss: 0.0420 - accuracy: 0.8773\n",
      "Epoch 47: val_accuracy did not improve from 0.83240\n",
      "933/933 [==============================] - 325s 349ms/step - loss: 0.0420 - accuracy: 0.8773 - val_loss: 0.1201 - val_accuracy: 0.8170\n",
      "Epoch 48/50\n",
      "933/933 [==============================] - ETA: 0s - loss: 0.0410 - accuracy: 0.8793\n",
      "Epoch 48: val_accuracy did not improve from 0.83240\n",
      "933/933 [==============================] - 325s 349ms/step - loss: 0.0410 - accuracy: 0.8793 - val_loss: 0.1195 - val_accuracy: 0.8089\n",
      "Epoch 49/50\n",
      "933/933 [==============================] - ETA: 0s - loss: 0.0408 - accuracy: 0.8795\n",
      "Epoch 49: val_accuracy did not improve from 0.83240\n",
      "933/933 [==============================] - 320s 344ms/step - loss: 0.0408 - accuracy: 0.8795 - val_loss: 0.1268 - val_accuracy: 0.8046\n",
      "Epoch 50/50\n",
      "933/933 [==============================] - ETA: 0s - loss: 0.0401 - accuracy: 0.8816\n",
      "Epoch 50: val_accuracy did not improve from 0.83240\n",
      "933/933 [==============================] - 329s 353ms/step - loss: 0.0401 - accuracy: 0.8816 - val_loss: 0.1232 - val_accuracy: 0.8056\n"
     ]
    },
    {
     "name": "stderr",
     "output_type": "stream",
     "text": [
      "WARNING:absl:Found untraced functions such as _jit_compiled_convolution_op, lstm_cell_1_layer_call_fn, lstm_cell_1_layer_call_and_return_conditional_losses, lstm_cell_2_layer_call_fn, lstm_cell_2_layer_call_and_return_conditional_losses while saving (showing 5 of 5). These functions will not be directly callable after loading.\n"
     ]
    },
    {
     "name": "stdout",
     "output_type": "stream",
     "text": [
      "INFO:tensorflow:Assets written to: BiLSTMCNN_fixtypo\\assets\n"
     ]
    },
    {
     "name": "stderr",
     "output_type": "stream",
     "text": [
      "INFO:tensorflow:Assets written to: BiLSTMCNN_fixtypo\\assets\n"
     ]
    }
   ],
   "source": [
    "mc = ModelCheckpoint('BestModels/bilstmcnn_fixtypo.h5', monitor='val_accuracy', mode='max', verbose=1, save_best_only=True)\n",
    "\n",
    "BiLSTMCNN_fit = BiLSTMCNN.fit([X_train, X_train], y_train, batch_size=batch_size2, epochs=epochs2, validation_split=val_split1, callbacks=[mc])\n",
    "BiLSTMCNN.save('BiLSTMCNN_fixtypo')"
   ]
  },
  {
   "cell_type": "code",
   "execution_count": 74,
   "id": "21a8b3ab-bf5d-4105-ab8c-03e9de08dadc",
   "metadata": {},
   "outputs": [
    {
     "name": "stdout",
     "output_type": "stream",
     "text": [
      "1036/1036 [==============================] - 576s 555ms/step - loss: 0.0433 - accuracy: 0.8790\n",
      "Train Loss: 0.04333309829235077\n",
      "Train Accuracy: 0.879044771194458\n",
      "444/444 [==============================] - 269s 605ms/step - loss: 0.0844 - accuracy: 0.8236\n",
      "Test Loss: 0.08439330756664276\n",
      "Test Accuracy: 0.823618471622467\n"
     ]
    }
   ],
   "source": [
    "BiLSTMCNN_best = load_model('BestModels/bilstmcnn_fixtypo.h5')\n",
    "BiLSTMCNN_train_score = BiLSTMCNN_best.evaluate([X_train, X_train], y_train, batch_size=batch_size2, verbose=1)\n",
    "print('Train Loss:', BiLSTMCNN_train_score[0])\n",
    "print('Train Accuracy:', BiLSTMCNN_train_score[1])\n",
    "\n",
    "BiLSTMCNN_test_score = BiLSTMCNN_best.evaluate([X_test, X_test], y_test, batch_size=batch_size2, verbose=1)\n",
    "print('Test Loss:', BiLSTMCNN_test_score[0])\n",
    "print('Test Accuracy:', BiLSTMCNN_test_score[1])"
   ]
  },
  {
   "cell_type": "code",
   "execution_count": 75,
   "id": "88fdc109-e2c6-486d-9ba3-30cb8f5429f1",
   "metadata": {},
   "outputs": [
    {
     "data": {
      "image/png": "[encoded data removed]",
      "text/plain": [
       "<Figure size 432x288 with 1 Axes>"
      ]
     },
     "metadata": {
      "needs_background": "light"
     },
     "output_type": "display_data"
    },
    {
     "data": {
      "image/png": "[encoded data removed]",
      "text/plain": [
       "<Figure size 432x288 with 1 Axes>"
      ]
     },
     "metadata": {
      "needs_background": "light"
     },
     "output_type": "display_data"
    }
   ],
   "source": [
    "BiLSTMCNN_history_dict = BiLSTMCNN_fit.history\n",
    "plt.plot(BiLSTMCNN_history_dict['accuracy'])\n",
    "plt.plot(BiLSTMCNN_history_dict['val_accuracy'])\n",
    "\n",
    "plt.title('BiLSTM-CNN Classification Accuracy')\n",
    "plt.ylabel('accuracy')\n",
    "plt.xlabel('epoch')\n",
    "plt.legend(['train','validation'], loc='upper left')\n",
    "plt.show()\n",
    "\n",
    "plt.plot(BiLSTMCNN_history_dict['loss'])\n",
    "plt.plot(BiLSTMCNN_history_dict['val_loss'])\n",
    "\n",
    "plt.title('BiLSTM-CNN Classification Loss')\n",
    "plt.ylabel('loss')\n",
    "plt.xlabel('epoch')\n",
    "plt.legend(['train','validation'], loc='upper left')\n",
    "plt.show()"
   ]
  },
  {
   "cell_type": "code",
   "execution_count": 76,
   "id": "dc20d6f3-1a68-4b53-b7ae-3929ac4bf036",
   "metadata": {},
   "outputs": [
    {
     "name": "stdout",
     "output_type": "stream",
     "text": [
      "444/444 [==============================] - 229s 514ms/step\n",
      "0.7839493136219641\n"
     ]
    }
   ],
   "source": [
    "BiLSTMCNN_y_pred = BiLSTMCNN_best.predict([X_test, X_test], batch_size=batch_size2, verbose=1)\n",
    "# lebih dari 0.5 dihitung sebagai 1\n",
    "BiLSTMCNN_predictions = (BiLSTMCNN_y_pred > 0.5).astype(int)\n",
    "\n",
    "# Subset accuracy: % of samples that have ALL the labels classified correctly\n",
    "print(accuracy_score(y_test.tolist(), BiLSTMCNN_predictions))"
   ]
  },
  {
   "cell_type": "code",
   "execution_count": 79,
   "id": "e87a3901-19c5-4a12-9b52-5cd57a543f95",
   "metadata": {},
   "outputs": [
    {
     "data": {
      "text/plain": [
       "0.029176341"
      ]
     },
     "execution_count": 79,
     "metadata": {},
     "output_type": "execute_result"
    }
   ],
   "source": [
    "hamming_loss = HammingLoss(mode='multilabel')\n",
    "hamming_loss.update_state(y_test.tolist(), BiLSTMCNN_predictions)\n",
    "hamming_loss.result().numpy()"
   ]
  },
  {
   "cell_type": "code",
   "execution_count": 81,
   "id": "24782dd1-b05f-41ad-b2ec-c80a497d7130",
   "metadata": {},
   "outputs": [
    {
     "name": "stderr",
     "output_type": "stream",
     "text": [
      "C:\\Users\\Tugas Akhir\\anaconda3\\envs\\MLenv\\lib\\site-packages\\sklearn\\metrics\\_classification.py:1327: UndefinedMetricWarning: Precision and F-score are ill-defined and being set to 0.0 in samples with no predicted labels. Use `zero_division` parameter to control this behavior.\n",
      "  _warn_prf(average, modifier, msg_start, len(result))\n"
     ]
    },
    {
     "data": {
      "text/html": [
       "<div>\n",
       "<style scoped>\n",
       "    .dataframe tbody tr th:only-of-type {\n",
       "        vertical-align: middle;\n",
       "    }\n",
       "\n",
       "    .dataframe tbody tr th {\n",
       "        vertical-align: top;\n",
       "    }\n",
       "\n",
       "    .dataframe thead th {\n",
       "        text-align: right;\n",
       "    }\n",
       "</style>\n",
       "<table border=\"1\" class=\"dataframe\">\n",
       "  <thead>\n",
       "    <tr style=\"text-align: right;\">\n",
       "      <th></th>\n",
       "      <th>precision</th>\n",
       "      <th>recall</th>\n",
       "      <th>f1-score</th>\n",
       "      <th>support</th>\n",
       "    </tr>\n",
       "  </thead>\n",
       "  <tbody>\n",
       "    <tr>\n",
       "      <th>menstruasi</th>\n",
       "      <td>0.882782</td>\n",
       "      <td>0.925634</td>\n",
       "      <td>0.903700</td>\n",
       "      <td>4182.0</td>\n",
       "    </tr>\n",
       "    <tr>\n",
       "      <th>kehamilan</th>\n",
       "      <td>0.869743</td>\n",
       "      <td>0.851344</td>\n",
       "      <td>0.860445</td>\n",
       "      <td>3498.0</td>\n",
       "    </tr>\n",
       "    <tr>\n",
       "      <th>obat</th>\n",
       "      <td>0.836270</td>\n",
       "      <td>0.804265</td>\n",
       "      <td>0.819955</td>\n",
       "      <td>3423.0</td>\n",
       "    </tr>\n",
       "    <tr>\n",
       "      <th>asam-lambung</th>\n",
       "      <td>0.910317</td>\n",
       "      <td>0.864830</td>\n",
       "      <td>0.886991</td>\n",
       "      <td>3122.0</td>\n",
       "    </tr>\n",
       "    <tr>\n",
       "      <th>bayi</th>\n",
       "      <td>0.940954</td>\n",
       "      <td>0.967532</td>\n",
       "      <td>0.954058</td>\n",
       "      <td>3080.0</td>\n",
       "    </tr>\n",
       "    <tr>\n",
       "      <th>sakit-kepala</th>\n",
       "      <td>0.928525</td>\n",
       "      <td>0.950247</td>\n",
       "      <td>0.939261</td>\n",
       "      <td>3035.0</td>\n",
       "    </tr>\n",
       "    <tr>\n",
       "      <th>benjolan</th>\n",
       "      <td>0.935107</td>\n",
       "      <td>0.953358</td>\n",
       "      <td>0.944144</td>\n",
       "      <td>3023.0</td>\n",
       "    </tr>\n",
       "    <tr>\n",
       "      <th>kulit</th>\n",
       "      <td>0.775844</td>\n",
       "      <td>0.733706</td>\n",
       "      <td>0.754187</td>\n",
       "      <td>3038.0</td>\n",
       "    </tr>\n",
       "    <tr>\n",
       "      <th>alergi</th>\n",
       "      <td>0.771366</td>\n",
       "      <td>0.694508</td>\n",
       "      <td>0.730922</td>\n",
       "      <td>3041.0</td>\n",
       "    </tr>\n",
       "    <tr>\n",
       "      <th>kontrasepsi</th>\n",
       "      <td>0.933192</td>\n",
       "      <td>0.867565</td>\n",
       "      <td>0.899183</td>\n",
       "      <td>3043.0</td>\n",
       "    </tr>\n",
       "    <tr>\n",
       "      <th>micro avg</th>\n",
       "      <td>0.879700</td>\n",
       "      <td>0.862829</td>\n",
       "      <td>0.871183</td>\n",
       "      <td>32485.0</td>\n",
       "    </tr>\n",
       "    <tr>\n",
       "      <th>macro avg</th>\n",
       "      <td>0.878410</td>\n",
       "      <td>0.861299</td>\n",
       "      <td>0.869285</td>\n",
       "      <td>32485.0</td>\n",
       "    </tr>\n",
       "    <tr>\n",
       "      <th>weighted avg</th>\n",
       "      <td>0.878073</td>\n",
       "      <td>0.862829</td>\n",
       "      <td>0.869893</td>\n",
       "      <td>32485.0</td>\n",
       "    </tr>\n",
       "    <tr>\n",
       "      <th>samples avg</th>\n",
       "      <td>0.879819</td>\n",
       "      <td>0.880576</td>\n",
       "      <td>0.869531</td>\n",
       "      <td>32485.0</td>\n",
       "    </tr>\n",
       "  </tbody>\n",
       "</table>\n",
       "</div>"
      ],
      "text/plain": [
       "              precision    recall  f1-score  support\n",
       "menstruasi     0.882782  0.925634  0.903700   4182.0\n",
       "kehamilan      0.869743  0.851344  0.860445   3498.0\n",
       "obat           0.836270  0.804265  0.819955   3423.0\n",
       "asam-lambung   0.910317  0.864830  0.886991   3122.0\n",
       "bayi           0.940954  0.967532  0.954058   3080.0\n",
       "sakit-kepala   0.928525  0.950247  0.939261   3035.0\n",
       "benjolan       0.935107  0.953358  0.944144   3023.0\n",
       "kulit          0.775844  0.733706  0.754187   3038.0\n",
       "alergi         0.771366  0.694508  0.730922   3041.0\n",
       "kontrasepsi    0.933192  0.867565  0.899183   3043.0\n",
       "micro avg      0.879700  0.862829  0.871183  32485.0\n",
       "macro avg      0.878410  0.861299  0.869285  32485.0\n",
       "weighted avg   0.878073  0.862829  0.869893  32485.0\n",
       "samples avg    0.879819  0.880576  0.869531  32485.0"
      ]
     },
     "execution_count": 81,
     "metadata": {},
     "output_type": "execute_result"
    }
   ],
   "source": [
    "report_df = pd.DataFrame(\n",
    "    classification_report(y_test.tolist(), BiLSTMCNN_predictions, target_names=categories, output_dict=True)\n",
    ").transpose()\n",
    "\n",
    "report_df"
   ]
  },
  {
   "cell_type": "code",
   "execution_count": 77,
   "id": "dfc0008e-5d25-4b13-91c0-28d7fdc92065",
   "metadata": {},
   "outputs": [
    {
     "data": {
      "text/plain": [
       "array([[[23714,   514],\n",
       "        [  311,  3871]],\n",
       "\n",
       "       [[24466,   446],\n",
       "        [  520,  2978]],\n",
       "\n",
       "       [[24448,   539],\n",
       "        [  670,  2753]],\n",
       "\n",
       "       [[25022,   266],\n",
       "        [  422,  2700]],\n",
       "\n",
       "       [[25143,   187],\n",
       "        [  100,  2980]],\n",
       "\n",
       "       [[25153,   222],\n",
       "        [  151,  2884]],\n",
       "\n",
       "       [[25187,   200],\n",
       "        [  141,  2882]],\n",
       "\n",
       "       [[24728,   644],\n",
       "        [  809,  2229]],\n",
       "\n",
       "       [[24743,   626],\n",
       "        [  929,  2112]],\n",
       "\n",
       "       [[25178,   189],\n",
       "        [  403,  2640]]], dtype=int64)"
      ]
     },
     "execution_count": 77,
     "metadata": {},
     "output_type": "execute_result"
    }
   ],
   "source": [
    "BiLSTMCNN_cf_matrix = multilabel_confusion_matrix(y_test, BiLSTMCNN_predictions)\n",
    "# TN  TP\n",
    "# FN  FP\n",
    "BiLSTMCNN_cf_matrix"
   ]
  },
  {
   "cell_type": "code",
   "execution_count": 80,
   "id": "c5b529f0-35dc-4643-9034-03dfffef1334",
   "metadata": {},
   "outputs": [
    {
     "data": {
      "image/png": "[encoded data removed]",
      "text/plain": [
       "<Figure size 864x504 with 10 Axes>"
      ]
     },
     "metadata": {
      "needs_background": "light"
     },
     "output_type": "display_data"
    },
    {
     "data": {
      "text/plain": [
       "<Figure size 432x288 with 0 Axes>"
      ]
     },
     "metadata": {},
     "output_type": "display_data"
    }
   ],
   "source": [
    "f, axes = plt.subplots(2, 5, figsize=(12,7))\n",
    "\n",
    "for ax, cfm, label in zip(axes.flatten(), BiLSTMCNN_cf_matrix, categories):\n",
    "    cf_df = pd.DataFrame(cfm, index=[\"0\", \"1\"], columns=[\"0\", \"1\"])\n",
    "    heatmap = sns.heatmap(cf_df, annot=True, fmt=\"d\", cbar=False, ax=ax, cmap='binary', square=True, linewidths=0.5)\n",
    "    heatmap.yaxis.set_ticklabels(heatmap.yaxis.get_ticklabels(), ha='right')\n",
    "    heatmap.xaxis.set_ticklabels(heatmap.xaxis.get_ticklabels(), ha='right')\n",
    "    ax.set_ylabel('True label')\n",
    "    ax.set_xlabel('Predicted label')\n",
    "    ax.set_title(f'Class {label}')\n",
    "\n",
    "f.tight_layout()\n",
    "plt.show()\n",
    "plt.savefig('ConfusionMatrix/BiLSTMCNN_fixtypo.png', bbox_inches=\"tight\")"
   ]
  },
  {
   "cell_type": "markdown",
   "id": "746af1eb-d8c2-43e4-923e-dc8fe547ac09",
   "metadata": {},
   "source": [
    "## BiGRU-CNN"
   ]
  },
  {
   "cell_type": "code",
   "execution_count": 85,
   "id": "7a299d75-5838-41b3-a21c-d6cde8ae3e8a",
   "metadata": {},
   "outputs": [
    {
     "name": "stdout",
     "output_type": "stream",
     "text": [
      "Model: \"model\"\n",
      "__________________________________________________________________________________________________\n",
      " Layer (type)                   Output Shape         Param #     Connected to                     \n",
      "==================================================================================================\n",
      " input_1 (InputLayer)           [(None, 300)]        0           []                               \n",
      "                                                                                                  \n",
      " embedding (Embedding)          (None, 300, 300)     10469100    ['input_1[0][0]']                \n",
      "                                                                                                  \n",
      " conv1d (Conv1D)                (None, 298, 100)     90100       ['embedding[0][0]']              \n",
      "                                                                                                  \n",
      " input_2 (InputLayer)           [(None, 300)]        0           []                               \n",
      "                                                                                                  \n",
      " max_pooling1d (MaxPooling1D)   (None, 149, 100)     0           ['conv1d[0][0]']                 \n",
      "                                                                                                  \n",
      " embedding_1 (Embedding)        (None, 300, 300)     10469100    ['input_2[0][0]']                \n",
      "                                                                                                  \n",
      " flatten (Flatten)              (None, 14900)        0           ['max_pooling1d[0][0]']          \n",
      "                                                                                                  \n",
      " bidirectional (Bidirectional)  (None, 128)          140544      ['embedding_1[0][0]']            \n",
      "                                                                                                  \n",
      " dropout (Dropout)              (None, 14900)        0           ['flatten[0][0]']                \n",
      "                                                                                                  \n",
      " dropout_1 (Dropout)            (None, 128)          0           ['bidirectional[0][0]']          \n",
      "                                                                                                  \n",
      " dense (Dense)                  (None, 10)           149010      ['dropout[0][0]']                \n",
      "                                                                                                  \n",
      " dense_1 (Dense)                (None, 10)           1290        ['dropout_1[0][0]']              \n",
      "                                                                                                  \n",
      " concatenate (Concatenate)      (None, 20)           0           ['dense[0][0]',                  \n",
      "                                                                  'dense_1[0][0]']                \n",
      "                                                                                                  \n",
      " dense_2 (Dense)                (None, 10)           210         ['concatenate[0][0]']            \n",
      "                                                                                                  \n",
      "==================================================================================================\n",
      "Total params: 21,319,354\n",
      "Trainable params: 381,154\n",
      "Non-trainable params: 20,938,200\n",
      "__________________________________________________________________________________________________\n"
     ]
    }
   ],
   "source": [
    "tf.keras.backend.clear_session()\n",
    "\n",
    "input1 = Input(shape=(max_length,))\n",
    "embedding1 = Embedding(input_dim, output_dim, input_length=max_length, input_shape=(max_length, ), weights=[embedding_matrix], trainable=False)(input1)\n",
    "conv1 = Conv1D(100, 3, activation='relu')(embedding1)\n",
    "pool1 = MaxPooling1D(2, 2)(conv1)\n",
    "flat1 = Flatten()(pool1)\n",
    "drop1 = Dropout(0.5)(flat1)\n",
    "out1 = Dense(10, activation='sigmoid')(drop1)\n",
    "\n",
    "input2 = Input(shape=(max_length,))\n",
    "embedding2 = Embedding(input_dim, output_dim, input_length=max_length, input_shape=(max_length, ), weights=[embedding_matrix], trainable=False)(input2)\n",
    "gru2 = Bidirectional(GRU(64))(embedding2)\n",
    "drop2 = Dropout(0.5)(gru2)\n",
    "out2 = Dense(10, activation='sigmoid')(drop2)\n",
    "\n",
    "merged = concatenate([out1, out2])\n",
    "\n",
    "outputs = Dense(10, activation='sigmoid')(merged)\n",
    "BiGRUCNN = Model(inputs=[input1, input2], outputs=outputs)\n",
    "\n",
    "BiGRUCNN.compile(loss='binary_crossentropy', optimizer='adam', metrics=['accuracy'])\n",
    "BiGRUCNN.summary()"
   ]
  },
  {
   "cell_type": "code",
   "execution_count": 87,
   "id": "7bfd153e-8f03-4389-a4da-67a739b63f13",
   "metadata": {},
   "outputs": [
    {
     "name": "stdout",
     "output_type": "stream",
     "text": [
      "Epoch 1/50\n",
      "933/933 [==============================] - ETA: 0s - loss: 0.3068 - accuracy: 0.4187\n",
      "Epoch 1: val_accuracy improved from -inf to 0.11631, saving model to BestModels\\bigrucnn_fixtypo.h5\n",
      "933/933 [==============================] - 338s 363ms/step - loss: 0.3068 - accuracy: 0.4187 - val_loss: 0.2913 - val_accuracy: 0.1163\n",
      "Epoch 2/50\n",
      "933/933 [==============================] - ETA: 0s - loss: 0.1746 - accuracy: 0.7483\n",
      "Epoch 2: val_accuracy improved from 0.11631 to 0.61110, saving model to BestModels\\bigrucnn_fixtypo.h5\n",
      "933/933 [==============================] - 341s 365ms/step - loss: 0.1746 - accuracy: 0.7483 - val_loss: 0.2063 - val_accuracy: 0.6111\n",
      "Epoch 3/50\n",
      "933/933 [==============================] - ETA: 0s - loss: 0.1237 - accuracy: 0.7970\n",
      "Epoch 3: val_accuracy improved from 0.61110 to 0.72319, saving model to BestModels\\bigrucnn_fixtypo.h5\n",
      "933/933 [==============================] - 341s 366ms/step - loss: 0.1237 - accuracy: 0.7970 - val_loss: 0.1617 - val_accuracy: 0.7232\n",
      "Epoch 4/50\n",
      "933/933 [==============================] - ETA: 0s - loss: 0.1044 - accuracy: 0.7994\n",
      "Epoch 4: val_accuracy improved from 0.72319 to 0.74913, saving model to BestModels\\bigrucnn_fixtypo.h5\n",
      "933/933 [==============================] - 336s 360ms/step - loss: 0.1044 - accuracy: 0.7994 - val_loss: 0.1444 - val_accuracy: 0.7491\n",
      "Epoch 5/50\n",
      "933/933 [==============================] - ETA: 0s - loss: 0.0962 - accuracy: 0.8051\n",
      "Epoch 5: val_accuracy improved from 0.74913 to 0.75532, saving model to BestModels\\bigrucnn_fixtypo.h5\n",
      "933/933 [==============================] - 336s 360ms/step - loss: 0.0962 - accuracy: 0.8051 - val_loss: 0.1376 - val_accuracy: 0.7553\n",
      "Epoch 6/50\n",
      "933/933 [==============================] - ETA: 0s - loss: 0.0908 - accuracy: 0.8104\n",
      "Epoch 6: val_accuracy improved from 0.75532 to 0.78488, saving model to BestModels\\bigrucnn_fixtypo.h5\n",
      "933/933 [==============================] - 343s 368ms/step - loss: 0.0908 - accuracy: 0.8104 - val_loss: 0.1231 - val_accuracy: 0.7849\n",
      "Epoch 7/50\n",
      "933/933 [==============================] - ETA: 0s - loss: 0.0866 - accuracy: 0.8149\n",
      "Epoch 7: val_accuracy improved from 0.78488 to 0.78700, saving model to BestModels\\bigrucnn_fixtypo.h5\n",
      "933/933 [==============================] - 344s 369ms/step - loss: 0.0866 - accuracy: 0.8149 - val_loss: 0.1180 - val_accuracy: 0.7870\n",
      "Epoch 8/50\n",
      "933/933 [==============================] - ETA: 0s - loss: 0.0837 - accuracy: 0.8178\n",
      "Epoch 8: val_accuracy did not improve from 0.78700\n",
      "933/933 [==============================] - 348s 373ms/step - loss: 0.0837 - accuracy: 0.8178 - val_loss: 0.1305 - val_accuracy: 0.7612\n",
      "Epoch 9/50\n",
      "933/933 [==============================] - ETA: 0s - loss: 0.0805 - accuracy: 0.8222\n",
      "Epoch 9: val_accuracy did not improve from 0.78700\n",
      "933/933 [==============================] - 347s 372ms/step - loss: 0.0805 - accuracy: 0.8222 - val_loss: 0.1192 - val_accuracy: 0.7710\n",
      "Epoch 10/50\n",
      "933/933 [==============================] - ETA: 0s - loss: 0.0775 - accuracy: 0.8271\n",
      "Epoch 10: val_accuracy did not improve from 0.78700\n",
      "933/933 [==============================] - 348s 373ms/step - loss: 0.0775 - accuracy: 0.8271 - val_loss: 0.1281 - val_accuracy: 0.7512\n",
      "Epoch 11/50\n",
      "933/933 [==============================] - ETA: 0s - loss: 0.0754 - accuracy: 0.8301\n",
      "Epoch 11: val_accuracy did not improve from 0.78700\n",
      "933/933 [==============================] - 349s 375ms/step - loss: 0.0754 - accuracy: 0.8301 - val_loss: 0.1168 - val_accuracy: 0.7757\n",
      "Epoch 12/50\n",
      "933/933 [==============================] - ETA: 0s - loss: 0.0732 - accuracy: 0.8334\n",
      "Epoch 12: val_accuracy improved from 0.78700 to 0.79318, saving model to BestModels\\bigrucnn_fixtypo.h5\n",
      "933/933 [==============================] - 352s 378ms/step - loss: 0.0732 - accuracy: 0.8334 - val_loss: 0.1090 - val_accuracy: 0.7932\n",
      "Epoch 13/50\n",
      "933/933 [==============================] - ETA: 0s - loss: 0.0711 - accuracy: 0.8376\n",
      "Epoch 13: val_accuracy did not improve from 0.79318\n",
      "933/933 [==============================] - 358s 383ms/step - loss: 0.0711 - accuracy: 0.8376 - val_loss: 0.1136 - val_accuracy: 0.7909\n",
      "Epoch 14/50\n",
      "933/933 [==============================] - ETA: 0s - loss: 0.0692 - accuracy: 0.8391\n",
      "Epoch 14: val_accuracy did not improve from 0.79318\n",
      "933/933 [==============================] - 360s 386ms/step - loss: 0.0692 - accuracy: 0.8391 - val_loss: 0.1265 - val_accuracy: 0.7579\n",
      "Epoch 15/50\n",
      "933/933 [==============================] - ETA: 0s - loss: 0.0678 - accuracy: 0.8403\n",
      "Epoch 15: val_accuracy did not improve from 0.79318\n",
      "933/933 [==============================] - 361s 387ms/step - loss: 0.0678 - accuracy: 0.8403 - val_loss: 0.1159 - val_accuracy: 0.7871\n",
      "Epoch 16/50\n",
      "933/933 [==============================] - ETA: 0s - loss: 0.0661 - accuracy: 0.8425\n",
      "Epoch 16: val_accuracy improved from 0.79318 to 0.80284, saving model to BestModels\\bigrucnn_fixtypo.h5\n",
      "933/933 [==============================] - 363s 389ms/step - loss: 0.0661 - accuracy: 0.8425 - val_loss: 0.1031 - val_accuracy: 0.8028\n",
      "Epoch 17/50\n",
      "933/933 [==============================] - ETA: 0s - loss: 0.0642 - accuracy: 0.8470\n",
      "Epoch 17: val_accuracy did not improve from 0.80284\n",
      "933/933 [==============================] - 365s 391ms/step - loss: 0.0642 - accuracy: 0.8470 - val_loss: 0.1080 - val_accuracy: 0.7992\n",
      "Epoch 18/50\n",
      "933/933 [==============================] - ETA: 0s - loss: 0.0626 - accuracy: 0.8483\n",
      "Epoch 18: val_accuracy did not improve from 0.80284\n",
      "933/933 [==============================] - 366s 393ms/step - loss: 0.0626 - accuracy: 0.8483 - val_loss: 0.1165 - val_accuracy: 0.7840\n",
      "Epoch 19/50\n",
      "933/933 [==============================] - ETA: 0s - loss: 0.0611 - accuracy: 0.8513\n",
      "Epoch 19: val_accuracy did not improve from 0.80284\n",
      "933/933 [==============================] - 367s 393ms/step - loss: 0.0611 - accuracy: 0.8513 - val_loss: 0.1091 - val_accuracy: 0.7982\n",
      "Epoch 20/50\n",
      "933/933 [==============================] - ETA: 0s - loss: 0.0592 - accuracy: 0.8539\n",
      "Epoch 20: val_accuracy did not improve from 0.80284\n",
      "933/933 [==============================] - 369s 396ms/step - loss: 0.0592 - accuracy: 0.8539 - val_loss: 0.1176 - val_accuracy: 0.7775\n",
      "Epoch 21/50\n",
      "933/933 [==============================] - ETA: 0s - loss: 0.0584 - accuracy: 0.8536\n",
      "Epoch 21: val_accuracy did not improve from 0.80284\n",
      "933/933 [==============================] - 370s 397ms/step - loss: 0.0584 - accuracy: 0.8536 - val_loss: 0.1200 - val_accuracy: 0.7879\n",
      "Epoch 22/50\n",
      "933/933 [==============================] - ETA: 0s - loss: 0.0571 - accuracy: 0.8564\n",
      "Epoch 22: val_accuracy did not improve from 0.80284\n",
      "933/933 [==============================] - 371s 397ms/step - loss: 0.0571 - accuracy: 0.8564 - val_loss: 0.1073 - val_accuracy: 0.8003\n",
      "Epoch 23/50\n",
      "933/933 [==============================] - ETA: 0s - loss: 0.0555 - accuracy: 0.8581\n",
      "Epoch 23: val_accuracy did not improve from 0.80284\n",
      "933/933 [==============================] - 369s 396ms/step - loss: 0.0555 - accuracy: 0.8581 - val_loss: 0.1131 - val_accuracy: 0.7909\n",
      "Epoch 24/50\n",
      "933/933 [==============================] - ETA: 0s - loss: 0.0545 - accuracy: 0.8595\n",
      "Epoch 24: val_accuracy did not improve from 0.80284\n",
      "933/933 [==============================] - 370s 397ms/step - loss: 0.0545 - accuracy: 0.8595 - val_loss: 0.1060 - val_accuracy: 0.8016\n",
      "Epoch 25/50\n",
      "933/933 [==============================] - ETA: 0s - loss: 0.0533 - accuracy: 0.8608\n",
      "Epoch 25: val_accuracy did not improve from 0.80284\n",
      "933/933 [==============================] - 372s 399ms/step - loss: 0.0533 - accuracy: 0.8608 - val_loss: 0.1106 - val_accuracy: 0.7991\n",
      "Epoch 26/50\n",
      "933/933 [==============================] - ETA: 0s - loss: 0.0524 - accuracy: 0.8614\n",
      "Epoch 26: val_accuracy improved from 0.80284 to 0.80781, saving model to BestModels\\bigrucnn_fixtypo.h5\n",
      "933/933 [==============================] - 373s 400ms/step - loss: 0.0524 - accuracy: 0.8614 - val_loss: 0.1110 - val_accuracy: 0.8078\n",
      "Epoch 27/50\n",
      "933/933 [==============================] - ETA: 0s - loss: 0.0512 - accuracy: 0.8631\n",
      "Epoch 27: val_accuracy improved from 0.80781 to 0.80827, saving model to BestModels\\bigrucnn_fixtypo.h5\n",
      "933/933 [==============================] - 376s 403ms/step - loss: 0.0512 - accuracy: 0.8631 - val_loss: 0.1087 - val_accuracy: 0.8083\n",
      "Epoch 28/50\n",
      "933/933 [==============================] - ETA: 0s - loss: 0.0503 - accuracy: 0.8652\n",
      "Epoch 28: val_accuracy did not improve from 0.80827\n",
      "933/933 [==============================] - 377s 404ms/step - loss: 0.0503 - accuracy: 0.8652 - val_loss: 0.1103 - val_accuracy: 0.8036\n",
      "Epoch 29/50\n",
      "933/933 [==============================] - ETA: 0s - loss: 0.0497 - accuracy: 0.8659\n",
      "Epoch 29: val_accuracy did not improve from 0.80827\n",
      "933/933 [==============================] - 380s 407ms/step - loss: 0.0497 - accuracy: 0.8659 - val_loss: 0.1242 - val_accuracy: 0.7855\n",
      "Epoch 30/50\n",
      "933/933 [==============================] - ETA: 0s - loss: 0.0481 - accuracy: 0.8702\n",
      "Epoch 30: val_accuracy did not improve from 0.80827\n",
      "933/933 [==============================] - 380s 408ms/step - loss: 0.0481 - accuracy: 0.8702 - val_loss: 0.1163 - val_accuracy: 0.8051\n",
      "Epoch 31/50\n",
      "933/933 [==============================] - ETA: 0s - loss: 0.0474 - accuracy: 0.8687\n",
      "Epoch 31: val_accuracy did not improve from 0.80827\n",
      "933/933 [==============================] - 377s 405ms/step - loss: 0.0474 - accuracy: 0.8687 - val_loss: 0.1103 - val_accuracy: 0.8065\n",
      "Epoch 32/50\n",
      "933/933 [==============================] - ETA: 0s - loss: 0.0465 - accuracy: 0.8715\n",
      "Epoch 32: val_accuracy did not improve from 0.80827\n",
      "933/933 [==============================] - 378s 405ms/step - loss: 0.0465 - accuracy: 0.8715 - val_loss: 0.1227 - val_accuracy: 0.7959\n",
      "Epoch 33/50\n",
      "933/933 [==============================] - ETA: 0s - loss: 0.0459 - accuracy: 0.8714\n",
      "Epoch 33: val_accuracy did not improve from 0.80827\n",
      "933/933 [==============================] - 379s 406ms/step - loss: 0.0459 - accuracy: 0.8714 - val_loss: 0.1229 - val_accuracy: 0.8030\n",
      "Epoch 34/50\n",
      "933/933 [==============================] - ETA: 0s - loss: 0.0449 - accuracy: 0.8715\n",
      "Epoch 34: val_accuracy improved from 0.80827 to 0.82380, saving model to BestModels\\bigrucnn_fixtypo.h5\n",
      "933/933 [==============================] - 381s 409ms/step - loss: 0.0449 - accuracy: 0.8715 - val_loss: 0.1048 - val_accuracy: 0.8238\n",
      "Epoch 35/50\n",
      "933/933 [==============================] - ETA: 0s - loss: 0.0441 - accuracy: 0.8734\n",
      "Epoch 35: val_accuracy did not improve from 0.82380\n",
      "933/933 [==============================] - 382s 410ms/step - loss: 0.0441 - accuracy: 0.8734 - val_loss: 0.1080 - val_accuracy: 0.8078\n",
      "Epoch 36/50\n",
      "933/933 [==============================] - ETA: 0s - loss: 0.0437 - accuracy: 0.8738\n",
      "Epoch 36: val_accuracy did not improve from 0.82380\n",
      "933/933 [==============================] - 383s 410ms/step - loss: 0.0437 - accuracy: 0.8738 - val_loss: 0.1126 - val_accuracy: 0.8062\n",
      "Epoch 37/50\n",
      "933/933 [==============================] - ETA: 0s - loss: 0.0427 - accuracy: 0.8747\n",
      "Epoch 37: val_accuracy did not improve from 0.82380\n",
      "933/933 [==============================] - 384s 412ms/step - loss: 0.0427 - accuracy: 0.8747 - val_loss: 0.1337 - val_accuracy: 0.7859\n",
      "Epoch 38/50\n",
      "933/933 [==============================] - ETA: 0s - loss: 0.0418 - accuracy: 0.8768\n",
      "Epoch 38: val_accuracy did not improve from 0.82380\n",
      "933/933 [==============================] - 386s 413ms/step - loss: 0.0418 - accuracy: 0.8768 - val_loss: 0.1272 - val_accuracy: 0.7976\n",
      "Epoch 39/50\n",
      "933/933 [==============================] - ETA: 0s - loss: 0.0415 - accuracy: 0.8768\n",
      "Epoch 39: val_accuracy did not improve from 0.82380\n",
      "933/933 [==============================] - 385s 413ms/step - loss: 0.0415 - accuracy: 0.8768 - val_loss: 0.1355 - val_accuracy: 0.7847\n",
      "Epoch 40/50\n",
      "933/933 [==============================] - ETA: 0s - loss: 0.0409 - accuracy: 0.8766\n",
      "Epoch 40: val_accuracy did not improve from 0.82380\n",
      "933/933 [==============================] - 384s 412ms/step - loss: 0.0409 - accuracy: 0.8766 - val_loss: 0.1279 - val_accuracy: 0.7963\n",
      "Epoch 41/50\n",
      "933/933 [==============================] - ETA: 0s - loss: 0.0400 - accuracy: 0.8791\n",
      "Epoch 41: val_accuracy did not improve from 0.82380\n",
      "933/933 [==============================] - 385s 413ms/step - loss: 0.0400 - accuracy: 0.8791 - val_loss: 0.1294 - val_accuracy: 0.7885\n",
      "Epoch 42/50\n",
      "933/933 [==============================] - ETA: 0s - loss: 0.0395 - accuracy: 0.8792\n",
      "Epoch 42: val_accuracy did not improve from 0.82380\n",
      "933/933 [==============================] - 386s 413ms/step - loss: 0.0395 - accuracy: 0.8792 - val_loss: 0.1185 - val_accuracy: 0.8043\n",
      "Epoch 43/50\n",
      "933/933 [==============================] - ETA: 0s - loss: 0.0390 - accuracy: 0.8788\n",
      "Epoch 43: val_accuracy did not improve from 0.82380\n",
      "933/933 [==============================] - 387s 415ms/step - loss: 0.0390 - accuracy: 0.8788 - val_loss: 0.1267 - val_accuracy: 0.8087\n",
      "Epoch 44/50\n",
      "933/933 [==============================] - ETA: 0s - loss: 0.0391 - accuracy: 0.8789\n",
      "Epoch 44: val_accuracy did not improve from 0.82380\n",
      "933/933 [==============================] - 389s 417ms/step - loss: 0.0391 - accuracy: 0.8789 - val_loss: 0.1490 - val_accuracy: 0.7734\n",
      "Epoch 45/50\n",
      "933/933 [==============================] - ETA: 0s - loss: 0.0380 - accuracy: 0.8810\n",
      "Epoch 45: val_accuracy did not improve from 0.82380\n",
      "933/933 [==============================] - 392s 420ms/step - loss: 0.0380 - accuracy: 0.8810 - val_loss: 0.1347 - val_accuracy: 0.7942\n",
      "Epoch 46/50\n",
      "933/933 [==============================] - ETA: 0s - loss: 0.0378 - accuracy: 0.8810\n",
      "Epoch 46: val_accuracy did not improve from 0.82380\n",
      "933/933 [==============================] - 390s 419ms/step - loss: 0.0378 - accuracy: 0.8810 - val_loss: 0.1377 - val_accuracy: 0.7858\n",
      "Epoch 47/50\n",
      "933/933 [==============================] - ETA: 0s - loss: 0.0377 - accuracy: 0.8807\n",
      "Epoch 47: val_accuracy did not improve from 0.82380\n",
      "933/933 [==============================] - 392s 420ms/step - loss: 0.0377 - accuracy: 0.8807 - val_loss: 0.1307 - val_accuracy: 0.7985\n",
      "Epoch 48/50\n",
      "933/933 [==============================] - ETA: 0s - loss: 0.0367 - accuracy: 0.8821\n",
      "Epoch 48: val_accuracy did not improve from 0.82380\n",
      "933/933 [==============================] - 393s 421ms/step - loss: 0.0367 - accuracy: 0.8821 - val_loss: 0.1354 - val_accuracy: 0.7903\n",
      "Epoch 49/50\n",
      "933/933 [==============================] - ETA: 0s - loss: 0.0356 - accuracy: 0.8834\n",
      "Epoch 49: val_accuracy did not improve from 0.82380\n",
      "933/933 [==============================] - 394s 422ms/step - loss: 0.0356 - accuracy: 0.8834 - val_loss: 0.1354 - val_accuracy: 0.7950\n",
      "Epoch 50/50\n",
      "933/933 [==============================] - ETA: 0s - loss: 0.0360 - accuracy: 0.8831\n",
      "Epoch 50: val_accuracy did not improve from 0.82380\n",
      "933/933 [==============================] - 393s 421ms/step - loss: 0.0360 - accuracy: 0.8831 - val_loss: 0.1324 - val_accuracy: 0.7947\n"
     ]
    },
    {
     "name": "stderr",
     "output_type": "stream",
     "text": [
      "WARNING:absl:Found untraced functions such as _jit_compiled_convolution_op, gru_cell_1_layer_call_fn, gru_cell_1_layer_call_and_return_conditional_losses, gru_cell_2_layer_call_fn, gru_cell_2_layer_call_and_return_conditional_losses while saving (showing 5 of 5). These functions will not be directly callable after loading.\n"
     ]
    },
    {
     "name": "stdout",
     "output_type": "stream",
     "text": [
      "INFO:tensorflow:Assets written to: BiGRUCNN_fixtypo\\assets\n"
     ]
    },
    {
     "name": "stderr",
     "output_type": "stream",
     "text": [
      "INFO:tensorflow:Assets written to: BiGRUCNN_fixtypo\\assets\n"
     ]
    }
   ],
   "source": [
    "mc = ModelCheckpoint('BestModels/bigrucnn_fixtypo.h5', monitor='val_accuracy', mode='max', verbose=1, save_best_only=True)\n",
    "\n",
    "BiGRUCNN_fit = BiGRUCNN.fit([X_train, X_train], y_train, batch_size=batch_size2, epochs=epochs2, validation_split=val_split1, callbacks=[mc])\n",
    "BiGRUCNN.save('BiGRUCNN_fixtypo')"
   ]
  },
  {
   "cell_type": "code",
   "execution_count": 88,
   "id": "6a2af4b9-fc5a-4d06-9672-1c44aff31568",
   "metadata": {},
   "outputs": [
    {
     "name": "stdout",
     "output_type": "stream",
     "text": [
      "1036/1036 [==============================] - 536s 517ms/step - loss: 0.0387 - accuracy: 0.8738\n",
      "Train Loss: 0.03870989382266998\n",
      "Train Accuracy: 0.8738101124763489\n",
      "444/444 [==============================] - 229s 517ms/step - loss: 0.0863 - accuracy: 0.8100\n",
      "Test Loss: 0.08630208671092987\n",
      "Test Accuracy: 0.809996485710144\n"
     ]
    }
   ],
   "source": [
    "BiGRUCNN_best = load_model('BestModels/bigrucnn_fixtypo.h5')\n",
    "BiGRUCNN_train_score = BiGRUCNN_best.evaluate([X_train, X_train], y_train, batch_size=batch_size2, verbose=1)\n",
    "print('Train Loss:', BiGRUCNN_train_score[0])\n",
    "print('Train Accuracy:', BiGRUCNN_train_score[1])\n",
    "\n",
    "BiGRUCNN_test_score = BiGRUCNN_best.evaluate([X_test, X_test], y_test, batch_size=batch_size2, verbose=1)\n",
    "print('Test Loss:', BiGRUCNN_test_score[0])\n",
    "print('Test Accuracy:', BiGRUCNN_test_score[1])"
   ]
  },
  {
   "cell_type": "code",
   "execution_count": 89,
   "id": "b4b8d58a-f4ca-47d1-8e85-1d2f34b3342d",
   "metadata": {},
   "outputs": [
    {
     "data": {
      "image/png": "[encoded data removed]",
      "text/plain": [
       "<Figure size 432x288 with 1 Axes>"
      ]
     },
     "metadata": {
      "needs_background": "light"
     },
     "output_type": "display_data"
    },
    {
     "data": {
      "image/png": "[encoded data removed]",
      "text/plain": [
       "<Figure size 432x288 with 1 Axes>"
      ]
     },
     "metadata": {
      "needs_background": "light"
     },
     "output_type": "display_data"
    }
   ],
   "source": [
    "BiGRUCNN_history_dict = BiGRUCNN_fit.history\n",
    "plt.plot(BiGRUCNN_history_dict['accuracy'])\n",
    "plt.plot(BiGRUCNN_history_dict['val_accuracy'])\n",
    "\n",
    "plt.title('BiGRU-CNN Classification Accuracy')\n",
    "plt.ylabel('accuracy')\n",
    "plt.xlabel('epoch')\n",
    "plt.legend(['train','validation'], loc='upper left')\n",
    "plt.show()\n",
    "\n",
    "plt.plot(BiGRUCNN_history_dict['loss'])\n",
    "plt.plot(BiGRUCNN_history_dict['val_loss'])\n",
    "\n",
    "plt.title('BiGRU-CNN Classification Loss')\n",
    "plt.ylabel('loss')\n",
    "plt.xlabel('epoch')\n",
    "plt.legend(['train','validation'], loc='upper left')\n",
    "plt.show()"
   ]
  },
  {
   "cell_type": "code",
   "execution_count": 91,
   "id": "953e6865-2760-4f06-895c-6cb02ae682a7",
   "metadata": {},
   "outputs": [
    {
     "name": "stdout",
     "output_type": "stream",
     "text": [
      "444/444 [==============================] - 231s 521ms/step\n",
      "0.791129883843717\n"
     ]
    }
   ],
   "source": [
    "BiGRUCNN_y_pred = BiGRUCNN_best.predict([X_test, X_test], batch_size=batch_size2, verbose=1)\n",
    "# lebih dari 0.5 dihitung sebagai 1\n",
    "BiGRUCNN_predictions = (BiGRUCNN_y_pred > 0.5).astype(int)\n",
    "\n",
    "# Subset accuracy: % of samples that have ALL the labels classified correctly\n",
    "print(accuracy_score(y_test.tolist(), BiGRUCNN_predictions))"
   ]
  },
  {
   "cell_type": "code",
   "execution_count": 92,
   "id": "5cbdbc2b-6133-4a9b-9131-b7d618f11a73",
   "metadata": {},
   "outputs": [
    {
     "data": {
      "text/plain": [
       "0.028665954"
      ]
     },
     "execution_count": 92,
     "metadata": {},
     "output_type": "execute_result"
    }
   ],
   "source": [
    "hamming_loss = HammingLoss(mode='multilabel')\n",
    "hamming_loss.update_state(y_test.tolist(), BiGRUCNN_predictions)\n",
    "hamming_loss.result().numpy()"
   ]
  },
  {
   "cell_type": "code",
   "execution_count": 93,
   "id": "059f4719-a204-4060-8dfb-3476d1195e2f",
   "metadata": {},
   "outputs": [
    {
     "name": "stderr",
     "output_type": "stream",
     "text": [
      "C:\\Users\\Tugas Akhir\\anaconda3\\envs\\MLenv\\lib\\site-packages\\sklearn\\metrics\\_classification.py:1327: UndefinedMetricWarning: Precision and F-score are ill-defined and being set to 0.0 in samples with no predicted labels. Use `zero_division` parameter to control this behavior.\n",
      "  _warn_prf(average, modifier, msg_start, len(result))\n"
     ]
    },
    {
     "data": {
      "text/html": [
       "<div>\n",
       "<style scoped>\n",
       "    .dataframe tbody tr th:only-of-type {\n",
       "        vertical-align: middle;\n",
       "    }\n",
       "\n",
       "    .dataframe tbody tr th {\n",
       "        vertical-align: top;\n",
       "    }\n",
       "\n",
       "    .dataframe thead th {\n",
       "        text-align: right;\n",
       "    }\n",
       "</style>\n",
       "<table border=\"1\" class=\"dataframe\">\n",
       "  <thead>\n",
       "    <tr style=\"text-align: right;\">\n",
       "      <th></th>\n",
       "      <th>precision</th>\n",
       "      <th>recall</th>\n",
       "      <th>f1-score</th>\n",
       "      <th>support</th>\n",
       "    </tr>\n",
       "  </thead>\n",
       "  <tbody>\n",
       "    <tr>\n",
       "      <th>menstruasi</th>\n",
       "      <td>0.906451</td>\n",
       "      <td>0.910569</td>\n",
       "      <td>0.908505</td>\n",
       "      <td>4182.0</td>\n",
       "    </tr>\n",
       "    <tr>\n",
       "      <th>kehamilan</th>\n",
       "      <td>0.852722</td>\n",
       "      <td>0.882218</td>\n",
       "      <td>0.867219</td>\n",
       "      <td>3498.0</td>\n",
       "    </tr>\n",
       "    <tr>\n",
       "      <th>obat</th>\n",
       "      <td>0.840346</td>\n",
       "      <td>0.822670</td>\n",
       "      <td>0.831414</td>\n",
       "      <td>3423.0</td>\n",
       "    </tr>\n",
       "    <tr>\n",
       "      <th>asam-lambung</th>\n",
       "      <td>0.919394</td>\n",
       "      <td>0.854901</td>\n",
       "      <td>0.885975</td>\n",
       "      <td>3122.0</td>\n",
       "    </tr>\n",
       "    <tr>\n",
       "      <th>bayi</th>\n",
       "      <td>0.934539</td>\n",
       "      <td>0.973377</td>\n",
       "      <td>0.953562</td>\n",
       "      <td>3080.0</td>\n",
       "    </tr>\n",
       "    <tr>\n",
       "      <th>sakit-kepala</th>\n",
       "      <td>0.920877</td>\n",
       "      <td>0.954860</td>\n",
       "      <td>0.937561</td>\n",
       "      <td>3035.0</td>\n",
       "    </tr>\n",
       "    <tr>\n",
       "      <th>benjolan</th>\n",
       "      <td>0.935881</td>\n",
       "      <td>0.956004</td>\n",
       "      <td>0.945835</td>\n",
       "      <td>3023.0</td>\n",
       "    </tr>\n",
       "    <tr>\n",
       "      <th>kulit</th>\n",
       "      <td>0.764310</td>\n",
       "      <td>0.747202</td>\n",
       "      <td>0.755659</td>\n",
       "      <td>3038.0</td>\n",
       "    </tr>\n",
       "    <tr>\n",
       "      <th>alergi</th>\n",
       "      <td>0.775335</td>\n",
       "      <td>0.684314</td>\n",
       "      <td>0.726987</td>\n",
       "      <td>3041.0</td>\n",
       "    </tr>\n",
       "    <tr>\n",
       "      <th>kontrasepsi</th>\n",
       "      <td>0.917227</td>\n",
       "      <td>0.895826</td>\n",
       "      <td>0.906401</td>\n",
       "      <td>3043.0</td>\n",
       "    </tr>\n",
       "    <tr>\n",
       "      <th>micro avg</th>\n",
       "      <td>0.878636</td>\n",
       "      <td>0.869386</td>\n",
       "      <td>0.873987</td>\n",
       "      <td>32485.0</td>\n",
       "    </tr>\n",
       "    <tr>\n",
       "      <th>macro avg</th>\n",
       "      <td>0.876708</td>\n",
       "      <td>0.868194</td>\n",
       "      <td>0.871912</td>\n",
       "      <td>32485.0</td>\n",
       "    </tr>\n",
       "    <tr>\n",
       "      <th>weighted avg</th>\n",
       "      <td>0.877136</td>\n",
       "      <td>0.869386</td>\n",
       "      <td>0.872748</td>\n",
       "      <td>32485.0</td>\n",
       "    </tr>\n",
       "    <tr>\n",
       "      <th>samples avg</th>\n",
       "      <td>0.879849</td>\n",
       "      <td>0.883985</td>\n",
       "      <td>0.871891</td>\n",
       "      <td>32485.0</td>\n",
       "    </tr>\n",
       "  </tbody>\n",
       "</table>\n",
       "</div>"
      ],
      "text/plain": [
       "              precision    recall  f1-score  support\n",
       "menstruasi     0.906451  0.910569  0.908505   4182.0\n",
       "kehamilan      0.852722  0.882218  0.867219   3498.0\n",
       "obat           0.840346  0.822670  0.831414   3423.0\n",
       "asam-lambung   0.919394  0.854901  0.885975   3122.0\n",
       "bayi           0.934539  0.973377  0.953562   3080.0\n",
       "sakit-kepala   0.920877  0.954860  0.937561   3035.0\n",
       "benjolan       0.935881  0.956004  0.945835   3023.0\n",
       "kulit          0.764310  0.747202  0.755659   3038.0\n",
       "alergi         0.775335  0.684314  0.726987   3041.0\n",
       "kontrasepsi    0.917227  0.895826  0.906401   3043.0\n",
       "micro avg      0.878636  0.869386  0.873987  32485.0\n",
       "macro avg      0.876708  0.868194  0.871912  32485.0\n",
       "weighted avg   0.877136  0.869386  0.872748  32485.0\n",
       "samples avg    0.879849  0.883985  0.871891  32485.0"
      ]
     },
     "execution_count": 93,
     "metadata": {},
     "output_type": "execute_result"
    }
   ],
   "source": [
    "report_df = pd.DataFrame(\n",
    "    classification_report(y_test.tolist(), BiGRUCNN_predictions, target_names=categories, output_dict=True)\n",
    ").transpose()\n",
    "\n",
    "report_df"
   ]
  },
  {
   "cell_type": "code",
   "execution_count": 94,
   "id": "b2ac5b48-4d7e-4221-9e36-844f5d5f1e5b",
   "metadata": {},
   "outputs": [
    {
     "data": {
      "text/plain": [
       "array([[[23835,   393],\n",
       "        [  374,  3808]],\n",
       "\n",
       "       [[24379,   533],\n",
       "        [  412,  3086]],\n",
       "\n",
       "       [[24452,   535],\n",
       "        [  607,  2816]],\n",
       "\n",
       "       [[25054,   234],\n",
       "        [  453,  2669]],\n",
       "\n",
       "       [[25120,   210],\n",
       "        [   82,  2998]],\n",
       "\n",
       "       [[25126,   249],\n",
       "        [  137,  2898]],\n",
       "\n",
       "       [[25189,   198],\n",
       "        [  133,  2890]],\n",
       "\n",
       "       [[24672,   700],\n",
       "        [  768,  2270]],\n",
       "\n",
       "       [[24766,   603],\n",
       "        [  960,  2081]],\n",
       "\n",
       "       [[25121,   246],\n",
       "        [  317,  2726]]], dtype=int64)"
      ]
     },
     "execution_count": 94,
     "metadata": {},
     "output_type": "execute_result"
    }
   ],
   "source": [
    "BiGRUCNN_cf_matrix = multilabel_confusion_matrix(y_test, BiGRUCNN_predictions)\n",
    "# TN  TP\n",
    "# FN  FP\n",
    "BiGRUCNN_cf_matrix"
   ]
  },
  {
   "cell_type": "code",
   "execution_count": 95,
   "id": "9a386c37-ae7b-4119-9abb-3174e327f97a",
   "metadata": {},
   "outputs": [
    {
     "data": {
      "image/png": "[encoded data removed]",
      "text/plain": [
       "<Figure size 864x504 with 10 Axes>"
      ]
     },
     "metadata": {
      "needs_background": "light"
     },
     "output_type": "display_data"
    },
    {
     "data": {
      "text/plain": [
       "<Figure size 432x288 with 0 Axes>"
      ]
     },
     "metadata": {},
     "output_type": "display_data"
    }
   ],
   "source": [
    "f, axes = plt.subplots(2, 5, figsize=(12,7))\n",
    "\n",
    "for ax, cfm, label in zip(axes.flatten(), BiGRUCNN_cf_matrix, categories):\n",
    "    cf_df = pd.DataFrame(cfm, index=[\"0\", \"1\"], columns=[\"0\", \"1\"])\n",
    "    heatmap = sns.heatmap(cf_df, annot=True, fmt=\"d\", cbar=False, ax=ax, cmap='binary', square=True, linewidths=0.5)\n",
    "    heatmap.yaxis.set_ticklabels(heatmap.yaxis.get_ticklabels(), ha='right')\n",
    "    heatmap.xaxis.set_ticklabels(heatmap.xaxis.get_ticklabels(), ha='right')\n",
    "    ax.set_ylabel('True label')\n",
    "    ax.set_xlabel('Predicted label')\n",
    "    ax.set_title(f'Class {label}')\n",
    "\n",
    "f.tight_layout()\n",
    "plt.show()\n",
    "plt.savefig('ConfusionMatrix/BiGRUCNN_fixtypo.png', bbox_inches=\"tight\")"
   ]
  },
  {
   "cell_type": "markdown",
   "id": "6b3af75d-4cba-41b1-a602-16eec4de1c46",
   "metadata": {},
   "source": [
    "## LSTM-CNN"
   ]
  },
  {
   "cell_type": "code",
   "execution_count": 98,
   "id": "2aaa3be2-d449-4edd-a2ff-e7afcbc8c1b0",
   "metadata": {},
   "outputs": [
    {
     "name": "stdout",
     "output_type": "stream",
     "text": [
      "Model: \"model\"\n",
      "__________________________________________________________________________________________________\n",
      " Layer (type)                   Output Shape         Param #     Connected to                     \n",
      "==================================================================================================\n",
      " input_1 (InputLayer)           [(None, 300)]        0           []                               \n",
      "                                                                                                  \n",
      " embedding (Embedding)          (None, 300, 300)     10469100    ['input_1[0][0]']                \n",
      "                                                                                                  \n",
      " conv1d (Conv1D)                (None, 298, 100)     90100       ['embedding[0][0]']              \n",
      "                                                                                                  \n",
      " input_2 (InputLayer)           [(None, 300)]        0           []                               \n",
      "                                                                                                  \n",
      " max_pooling1d (MaxPooling1D)   (None, 149, 100)     0           ['conv1d[0][0]']                 \n",
      "                                                                                                  \n",
      " embedding_1 (Embedding)        (None, 300, 300)     10469100    ['input_2[0][0]']                \n",
      "                                                                                                  \n",
      " flatten (Flatten)              (None, 14900)        0           ['max_pooling1d[0][0]']          \n",
      "                                                                                                  \n",
      " lstm (LSTM)                    (None, 64)           93440       ['embedding_1[0][0]']            \n",
      "                                                                                                  \n",
      " dropout (Dropout)              (None, 14900)        0           ['flatten[0][0]']                \n",
      "                                                                                                  \n",
      " dropout_1 (Dropout)            (None, 64)           0           ['lstm[0][0]']                   \n",
      "                                                                                                  \n",
      " dense (Dense)                  (None, 10)           149010      ['dropout[0][0]']                \n",
      "                                                                                                  \n",
      " dense_1 (Dense)                (None, 10)           650         ['dropout_1[0][0]']              \n",
      "                                                                                                  \n",
      " concatenate (Concatenate)      (None, 20)           0           ['dense[0][0]',                  \n",
      "                                                                  'dense_1[0][0]']                \n",
      "                                                                                                  \n",
      " dense_2 (Dense)                (None, 10)           210         ['concatenate[0][0]']            \n",
      "                                                                                                  \n",
      "==================================================================================================\n",
      "Total params: 21,271,610\n",
      "Trainable params: 333,410\n",
      "Non-trainable params: 20,938,200\n",
      "__________________________________________________________________________________________________\n"
     ]
    }
   ],
   "source": [
    "tf.keras.backend.clear_session()\n",
    "\n",
    "input1 = Input(shape=(max_length,))\n",
    "embedding1 = Embedding(input_dim, output_dim, input_length=max_length, input_shape=(max_length, ), weights=[embedding_matrix], trainable=False)(input1)\n",
    "conv1 = Conv1D(100, 3, activation='relu')(embedding1)\n",
    "pool1 = MaxPooling1D(2, 2)(conv1)\n",
    "flat1 = Flatten()(pool1)\n",
    "drop1 = Dropout(0.5)(flat1)\n",
    "out1 = Dense(10, activation='sigmoid')(drop1)\n",
    "\n",
    "input2 = Input(shape=(max_length,))\n",
    "embedding2 = Embedding(input_dim, output_dim, input_length=max_length, input_shape=(max_length, ), weights=[embedding_matrix], trainable=False)(input2)\n",
    "lstm2 = LSTM(64)(embedding2)\n",
    "drop2 = Dropout(0.5)(lstm2)\n",
    "out2 = Dense(10, activation='sigmoid')(drop2)\n",
    "\n",
    "merged = concatenate([out1, out2])\n",
    "\n",
    "outputs = Dense(10, activation='sigmoid')(merged)\n",
    "LSTMCNN = Model(inputs=[input1, input2], outputs=outputs)\n",
    "\n",
    "LSTMCNN.compile(loss='binary_crossentropy', optimizer='adam', metrics=['accuracy'])\n",
    "LSTMCNN.summary()"
   ]
  },
  {
   "cell_type": "code",
   "execution_count": 99,
   "id": "416a2c13-3d2a-4aad-9fc7-32a2b2f499ba",
   "metadata": {},
   "outputs": [
    {
     "name": "stdout",
     "output_type": "stream",
     "text": [
      "Epoch 1/50\n",
      "933/933 [==============================] - ETA: 0s - loss: 0.3205 - accuracy: 0.4599\n",
      "Epoch 1: val_accuracy improved from -inf to 0.09594, saving model to BestModels\\lstmcnn_fixtypo.h5\n",
      "933/933 [==============================] - 532s 569ms/step - loss: 0.3205 - accuracy: 0.4599 - val_loss: 0.3069 - val_accuracy: 0.0959\n",
      "Epoch 2/50\n",
      "933/933 [==============================] - ETA: 0s - loss: 0.1710 - accuracy: 0.7702\n",
      "Epoch 2: val_accuracy improved from 0.09594 to 0.53688, saving model to BestModels\\lstmcnn_fixtypo.h5\n",
      "933/933 [==============================] - 525s 563ms/step - loss: 0.1710 - accuracy: 0.7702 - val_loss: 0.2117 - val_accuracy: 0.5369\n",
      "Epoch 3/50\n",
      "933/933 [==============================] - ETA: 0s - loss: 0.1314 - accuracy: 0.7938\n",
      "Epoch 3: val_accuracy improved from 0.53688 to 0.54473, saving model to BestModels\\lstmcnn_fixtypo.h5\n",
      "933/933 [==============================] - 523s 561ms/step - loss: 0.1314 - accuracy: 0.7938 - val_loss: 0.1858 - val_accuracy: 0.5447\n",
      "Epoch 4/50\n",
      "933/933 [==============================] - ETA: 0s - loss: 0.1152 - accuracy: 0.7938\n",
      "Epoch 4: val_accuracy improved from 0.54473 to 0.57354, saving model to BestModels\\lstmcnn_fixtypo.h5\n",
      "933/933 [==============================] - 518s 555ms/step - loss: 0.1152 - accuracy: 0.7938 - val_loss: 0.1614 - val_accuracy: 0.5735\n",
      "Epoch 5/50\n",
      "933/933 [==============================] - ETA: 0s - loss: 0.1064 - accuracy: 0.7972\n",
      "Epoch 5: val_accuracy did not improve from 0.57354\n",
      "933/933 [==============================] - 519s 556ms/step - loss: 0.1064 - accuracy: 0.7972 - val_loss: 0.1572 - val_accuracy: 0.5704\n",
      "Epoch 6/50\n",
      "933/933 [==============================] - ETA: 0s - loss: 0.1012 - accuracy: 0.8009\n",
      "Epoch 6: val_accuracy improved from 0.57354 to 0.58501, saving model to BestModels\\lstmcnn_fixtypo.h5\n",
      "933/933 [==============================] - 519s 556ms/step - loss: 0.1012 - accuracy: 0.8009 - val_loss: 0.1474 - val_accuracy: 0.5850\n",
      "Epoch 7/50\n",
      "933/933 [==============================] - ETA: 0s - loss: 0.0967 - accuracy: 0.8056\n",
      "Epoch 7: val_accuracy improved from 0.58501 to 0.61940, saving model to BestModels\\lstmcnn_fixtypo.h5\n",
      "933/933 [==============================] - 519s 557ms/step - loss: 0.0967 - accuracy: 0.8056 - val_loss: 0.1438 - val_accuracy: 0.6194\n",
      "Epoch 8/50\n",
      "933/933 [==============================] - ETA: 0s - loss: 0.0928 - accuracy: 0.8116\n",
      "Epoch 8: val_accuracy improved from 0.61940 to 0.70931, saving model to BestModels\\lstmcnn_fixtypo.h5\n",
      "933/933 [==============================] - 518s 556ms/step - loss: 0.0928 - accuracy: 0.8116 - val_loss: 0.1340 - val_accuracy: 0.7093\n",
      "Epoch 9/50\n",
      "933/933 [==============================] - ETA: 0s - loss: 0.0896 - accuracy: 0.8157\n",
      "Epoch 9: val_accuracy improved from 0.70931 to 0.75124, saving model to BestModels\\lstmcnn_fixtypo.h5\n",
      "933/933 [==============================] - 519s 556ms/step - loss: 0.0896 - accuracy: 0.8157 - val_loss: 0.1304 - val_accuracy: 0.7512\n",
      "Epoch 10/50\n",
      "933/933 [==============================] - ETA: 0s - loss: 0.0873 - accuracy: 0.8174\n",
      "Epoch 10: val_accuracy did not improve from 0.75124\n",
      "933/933 [==============================] - 519s 556ms/step - loss: 0.0873 - accuracy: 0.8174 - val_loss: 0.1306 - val_accuracy: 0.7464\n",
      "Epoch 11/50\n",
      "933/933 [==============================] - ETA: 0s - loss: 0.0848 - accuracy: 0.8197\n",
      "Epoch 11: val_accuracy improved from 0.75124 to 0.77025, saving model to BestModels\\lstmcnn_fixtypo.h5\n",
      "933/933 [==============================] - 519s 556ms/step - loss: 0.0848 - accuracy: 0.8197 - val_loss: 0.1295 - val_accuracy: 0.7703\n",
      "Epoch 12/50\n",
      "933/933 [==============================] - ETA: 0s - loss: 0.0831 - accuracy: 0.8242\n",
      "Epoch 12: val_accuracy improved from 0.77025 to 0.77614, saving model to BestModels\\lstmcnn_fixtypo.h5\n",
      "933/933 [==============================] - 521s 558ms/step - loss: 0.0831 - accuracy: 0.8242 - val_loss: 0.1244 - val_accuracy: 0.7761\n",
      "Epoch 13/50\n",
      "933/933 [==============================] - ETA: 0s - loss: 0.0811 - accuracy: 0.8263\n",
      "Epoch 13: val_accuracy improved from 0.77614 to 0.79544, saving model to BestModels\\lstmcnn_fixtypo.h5\n",
      "933/933 [==============================] - 521s 558ms/step - loss: 0.0811 - accuracy: 0.8263 - val_loss: 0.1149 - val_accuracy: 0.7954\n",
      "Epoch 14/50\n",
      "933/933 [==============================] - ETA: 0s - loss: 0.0792 - accuracy: 0.8295\n",
      "Epoch 14: val_accuracy did not improve from 0.79544\n",
      "933/933 [==============================] - 525s 563ms/step - loss: 0.0792 - accuracy: 0.8295 - val_loss: 0.1144 - val_accuracy: 0.7939\n",
      "Epoch 15/50\n",
      "933/933 [==============================] - ETA: 0s - loss: 0.0778 - accuracy: 0.8306\n",
      "Epoch 15: val_accuracy did not improve from 0.79544\n",
      "933/933 [==============================] - 529s 567ms/step - loss: 0.0778 - accuracy: 0.8306 - val_loss: 0.1184 - val_accuracy: 0.7862\n",
      "Epoch 16/50\n",
      "933/933 [==============================] - ETA: 0s - loss: 0.0771 - accuracy: 0.8323\n",
      "Epoch 16: val_accuracy did not improve from 0.79544\n",
      "933/933 [==============================] - 530s 569ms/step - loss: 0.0771 - accuracy: 0.8323 - val_loss: 0.1222 - val_accuracy: 0.7775\n",
      "Epoch 17/50\n",
      "933/933 [==============================] - ETA: 0s - loss: 0.0760 - accuracy: 0.8335\n",
      "Epoch 17: val_accuracy did not improve from 0.79544\n",
      "933/933 [==============================] - 531s 569ms/step - loss: 0.0760 - accuracy: 0.8335 - val_loss: 0.1204 - val_accuracy: 0.7810\n",
      "Epoch 18/50\n",
      "933/933 [==============================] - ETA: 0s - loss: 0.0743 - accuracy: 0.8373\n",
      "Epoch 18: val_accuracy improved from 0.79544 to 0.79906, saving model to BestModels\\lstmcnn_fixtypo.h5\n",
      "933/933 [==============================] - 536s 575ms/step - loss: 0.0743 - accuracy: 0.8373 - val_loss: 0.1137 - val_accuracy: 0.7991\n",
      "Epoch 19/50\n",
      "933/933 [==============================] - ETA: 0s - loss: 0.0737 - accuracy: 0.8374\n",
      "Epoch 19: val_accuracy improved from 0.79906 to 0.80087, saving model to BestModels\\lstmcnn_fixtypo.h5\n",
      "933/933 [==============================] - 529s 567ms/step - loss: 0.0737 - accuracy: 0.8374 - val_loss: 0.1140 - val_accuracy: 0.8009\n",
      "Epoch 20/50\n",
      "933/933 [==============================] - ETA: 0s - loss: 0.0726 - accuracy: 0.8373\n",
      "Epoch 20: val_accuracy did not improve from 0.80087\n",
      "933/933 [==============================] - 531s 569ms/step - loss: 0.0726 - accuracy: 0.8373 - val_loss: 0.1163 - val_accuracy: 0.7950\n",
      "Epoch 21/50\n",
      "933/933 [==============================] - ETA: 0s - loss: 0.0718 - accuracy: 0.8380\n",
      "Epoch 21: val_accuracy improved from 0.80087 to 0.80253, saving model to BestModels\\lstmcnn_fixtypo.h5\n",
      "933/933 [==============================] - 535s 574ms/step - loss: 0.0718 - accuracy: 0.8380 - val_loss: 0.1110 - val_accuracy: 0.8025\n",
      "Epoch 22/50\n",
      "933/933 [==============================] - ETA: 0s - loss: 0.0709 - accuracy: 0.8420\n",
      "Epoch 22: val_accuracy did not improve from 0.80253\n",
      "933/933 [==============================] - 537s 575ms/step - loss: 0.0709 - accuracy: 0.8420 - val_loss: 0.1185 - val_accuracy: 0.7912\n",
      "Epoch 23/50\n",
      "933/933 [==============================] - ETA: 0s - loss: 0.0700 - accuracy: 0.8418\n",
      "Epoch 23: val_accuracy did not improve from 0.80253\n",
      "933/933 [==============================] - 537s 576ms/step - loss: 0.0700 - accuracy: 0.8418 - val_loss: 0.1137 - val_accuracy: 0.7991\n",
      "Epoch 24/50\n",
      "933/933 [==============================] - ETA: 0s - loss: 0.0691 - accuracy: 0.8431\n",
      "Epoch 24: val_accuracy improved from 0.80253 to 0.80812, saving model to BestModels\\lstmcnn_fixtypo.h5\n",
      "933/933 [==============================] - 534s 573ms/step - loss: 0.0691 - accuracy: 0.8431 - val_loss: 0.1109 - val_accuracy: 0.8081\n",
      "Epoch 25/50\n",
      "933/933 [==============================] - ETA: 0s - loss: 0.0683 - accuracy: 0.8447\n",
      "Epoch 25: val_accuracy did not improve from 0.80812\n",
      "933/933 [==============================] - 534s 573ms/step - loss: 0.0683 - accuracy: 0.8447 - val_loss: 0.1156 - val_accuracy: 0.7942\n",
      "Epoch 26/50\n",
      "933/933 [==============================] - ETA: 0s - loss: 0.0676 - accuracy: 0.8474\n",
      "Epoch 26: val_accuracy did not improve from 0.80812\n",
      "933/933 [==============================] - 535s 574ms/step - loss: 0.0676 - accuracy: 0.8474 - val_loss: 0.1148 - val_accuracy: 0.8006\n",
      "Epoch 27/50\n",
      "933/933 [==============================] - ETA: 0s - loss: 0.0668 - accuracy: 0.8483\n",
      "Epoch 27: val_accuracy improved from 0.80812 to 0.82033, saving model to BestModels\\lstmcnn_fixtypo.h5\n",
      "933/933 [==============================] - 541s 580ms/step - loss: 0.0668 - accuracy: 0.8483 - val_loss: 0.1040 - val_accuracy: 0.8203\n",
      "Epoch 28/50\n",
      "933/933 [==============================] - ETA: 0s - loss: 0.0666 - accuracy: 0.8470\n",
      "Epoch 28: val_accuracy did not improve from 0.82033\n",
      "933/933 [==============================] - 541s 580ms/step - loss: 0.0666 - accuracy: 0.8470 - val_loss: 0.1090 - val_accuracy: 0.8143\n",
      "Epoch 29/50\n",
      "933/933 [==============================] - ETA: 0s - loss: 0.0653 - accuracy: 0.8494\n",
      "Epoch 29: val_accuracy did not improve from 0.82033\n",
      "933/933 [==============================] - 535s 574ms/step - loss: 0.0653 - accuracy: 0.8494 - val_loss: 0.1110 - val_accuracy: 0.8007\n",
      "Epoch 30/50\n",
      "933/933 [==============================] - ETA: 0s - loss: 0.0651 - accuracy: 0.8492\n",
      "Epoch 30: val_accuracy did not improve from 0.82033\n",
      "933/933 [==============================] - 534s 573ms/step - loss: 0.0651 - accuracy: 0.8492 - val_loss: 0.1125 - val_accuracy: 0.8016\n",
      "Epoch 31/50\n",
      "933/933 [==============================] - ETA: 0s - loss: 0.0643 - accuracy: 0.8509\n",
      "Epoch 31: val_accuracy did not improve from 0.82033\n",
      "933/933 [==============================] - 534s 573ms/step - loss: 0.0643 - accuracy: 0.8509 - val_loss: 0.1096 - val_accuracy: 0.8104\n",
      "Epoch 32/50\n",
      "933/933 [==============================] - ETA: 0s - loss: 0.0635 - accuracy: 0.8526\n",
      "Epoch 32: val_accuracy did not improve from 0.82033\n",
      "933/933 [==============================] - 536s 575ms/step - loss: 0.0635 - accuracy: 0.8526 - val_loss: 0.1111 - val_accuracy: 0.8086\n",
      "Epoch 33/50\n",
      "933/933 [==============================] - ETA: 0s - loss: 0.0634 - accuracy: 0.8531\n",
      "Epoch 33: val_accuracy did not improve from 0.82033\n",
      "933/933 [==============================] - 535s 573ms/step - loss: 0.0634 - accuracy: 0.8531 - val_loss: 0.1224 - val_accuracy: 0.7926\n",
      "Epoch 34/50\n",
      "933/933 [==============================] - ETA: 0s - loss: 0.0631 - accuracy: 0.8529\n",
      "Epoch 34: val_accuracy did not improve from 0.82033\n",
      "933/933 [==============================] - 534s 573ms/step - loss: 0.0631 - accuracy: 0.8529 - val_loss: 0.1078 - val_accuracy: 0.8098\n",
      "Epoch 35/50\n",
      "933/933 [==============================] - ETA: 0s - loss: 0.0624 - accuracy: 0.8540\n",
      "Epoch 35: val_accuracy did not improve from 0.82033\n",
      "933/933 [==============================] - 534s 573ms/step - loss: 0.0624 - accuracy: 0.8540 - val_loss: 0.1111 - val_accuracy: 0.7988\n",
      "Epoch 36/50\n",
      "933/933 [==============================] - ETA: 0s - loss: 0.0620 - accuracy: 0.8549\n",
      "Epoch 36: val_accuracy did not improve from 0.82033\n",
      "933/933 [==============================] - 536s 574ms/step - loss: 0.0620 - accuracy: 0.8549 - val_loss: 0.1140 - val_accuracy: 0.8001\n",
      "Epoch 37/50\n",
      "933/933 [==============================] - ETA: 0s - loss: 0.0612 - accuracy: 0.8549\n",
      "Epoch 37: val_accuracy did not improve from 0.82033\n",
      "933/933 [==============================] - 534s 573ms/step - loss: 0.0612 - accuracy: 0.8549 - val_loss: 0.1181 - val_accuracy: 0.7914\n",
      "Epoch 38/50\n",
      "933/933 [==============================] - ETA: 0s - loss: 0.0611 - accuracy: 0.8554\n",
      "Epoch 38: val_accuracy did not improve from 0.82033\n",
      "933/933 [==============================] - 531s 569ms/step - loss: 0.0611 - accuracy: 0.8554 - val_loss: 0.1221 - val_accuracy: 0.7859\n",
      "Epoch 39/50\n",
      "933/933 [==============================] - ETA: 0s - loss: 0.0604 - accuracy: 0.8545\n",
      "Epoch 39: val_accuracy did not improve from 0.82033\n",
      "933/933 [==============================] - 528s 566ms/step - loss: 0.0604 - accuracy: 0.8545 - val_loss: 0.1150 - val_accuracy: 0.7977\n",
      "Epoch 40/50\n",
      "933/933 [==============================] - ETA: 0s - loss: 0.0596 - accuracy: 0.8576\n",
      "Epoch 40: val_accuracy did not improve from 0.82033\n",
      "933/933 [==============================] - 527s 565ms/step - loss: 0.0596 - accuracy: 0.8576 - val_loss: 0.1065 - val_accuracy: 0.8178\n",
      "Epoch 41/50\n",
      "933/933 [==============================] - ETA: 0s - loss: 0.0595 - accuracy: 0.8577\n",
      "Epoch 41: val_accuracy did not improve from 0.82033\n",
      "933/933 [==============================] - 529s 567ms/step - loss: 0.0595 - accuracy: 0.8577 - val_loss: 0.1167 - val_accuracy: 0.7985\n",
      "Epoch 42/50\n",
      "933/933 [==============================] - ETA: 0s - loss: 0.0592 - accuracy: 0.8586\n",
      "Epoch 42: val_accuracy did not improve from 0.82033\n",
      "933/933 [==============================] - 533s 571ms/step - loss: 0.0592 - accuracy: 0.8586 - val_loss: 0.1179 - val_accuracy: 0.7917\n",
      "Epoch 43/50\n",
      "933/933 [==============================] - ETA: 0s - loss: 0.0586 - accuracy: 0.8581\n",
      "Epoch 43: val_accuracy did not improve from 0.82033\n",
      "933/933 [==============================] - 533s 571ms/step - loss: 0.0586 - accuracy: 0.8581 - val_loss: 0.1083 - val_accuracy: 0.8116\n",
      "Epoch 44/50\n",
      "933/933 [==============================] - ETA: 0s - loss: 0.0585 - accuracy: 0.8588\n",
      "Epoch 44: val_accuracy did not improve from 0.82033\n",
      "933/933 [==============================] - 533s 571ms/step - loss: 0.0585 - accuracy: 0.8588 - val_loss: 0.1084 - val_accuracy: 0.8148\n",
      "Epoch 45/50\n",
      "933/933 [==============================] - ETA: 0s - loss: 0.0580 - accuracy: 0.8602\n",
      "Epoch 45: val_accuracy did not improve from 0.82033\n",
      "933/933 [==============================] - 533s 571ms/step - loss: 0.0580 - accuracy: 0.8602 - val_loss: 0.1214 - val_accuracy: 0.7908\n",
      "Epoch 46/50\n",
      "933/933 [==============================] - ETA: 0s - loss: 0.0576 - accuracy: 0.8607\n",
      "Epoch 46: val_accuracy did not improve from 0.82033\n",
      "933/933 [==============================] - 531s 570ms/step - loss: 0.0576 - accuracy: 0.8607 - val_loss: 0.1218 - val_accuracy: 0.7903\n",
      "Epoch 47/50\n",
      "933/933 [==============================] - ETA: 0s - loss: 0.0571 - accuracy: 0.8617\n",
      "Epoch 47: val_accuracy did not improve from 0.82033\n",
      "933/933 [==============================] - 531s 569ms/step - loss: 0.0571 - accuracy: 0.8617 - val_loss: 0.1091 - val_accuracy: 0.8135\n",
      "Epoch 48/50\n",
      "933/933 [==============================] - ETA: 0s - loss: 0.0572 - accuracy: 0.8628\n",
      "Epoch 48: val_accuracy did not improve from 0.82033\n",
      "933/933 [==============================] - 531s 569ms/step - loss: 0.0572 - accuracy: 0.8628 - val_loss: 0.1163 - val_accuracy: 0.8046\n",
      "Epoch 49/50\n",
      "933/933 [==============================] - ETA: 0s - loss: 0.0570 - accuracy: 0.8626\n",
      "Epoch 49: val_accuracy did not improve from 0.82033\n",
      "933/933 [==============================] - 532s 570ms/step - loss: 0.0570 - accuracy: 0.8626 - val_loss: 0.1196 - val_accuracy: 0.7906\n",
      "Epoch 50/50\n",
      "933/933 [==============================] - ETA: 0s - loss: 0.0561 - accuracy: 0.8632\n",
      "Epoch 50: val_accuracy did not improve from 0.82033\n",
      "933/933 [==============================] - 528s 566ms/step - loss: 0.0561 - accuracy: 0.8632 - val_loss: 0.1135 - val_accuracy: 0.8042\n"
     ]
    },
    {
     "name": "stderr",
     "output_type": "stream",
     "text": [
      "WARNING:absl:Found untraced functions such as _jit_compiled_convolution_op, lstm_cell_layer_call_fn, lstm_cell_layer_call_and_return_conditional_losses while saving (showing 3 of 3). These functions will not be directly callable after loading.\n"
     ]
    },
    {
     "name": "stdout",
     "output_type": "stream",
     "text": [
      "INFO:tensorflow:Assets written to: LSTMCNN_fixtypo\\assets\n"
     ]
    },
    {
     "name": "stderr",
     "output_type": "stream",
     "text": [
      "INFO:tensorflow:Assets written to: LSTMCNN_fixtypo\\assets\n"
     ]
    }
   ],
   "source": [
    "mc = ModelCheckpoint('BestModels/lstmcnn_fixtypo.h5', monitor='val_accuracy', mode='max', verbose=1, save_best_only=True)\n",
    "\n",
    "LSTMCNN_fit = LSTMCNN.fit([X_train, X_train], y_train, batch_size=batch_size2, epochs=epochs2, validation_split=val_split1, callbacks=[mc])\n",
    "LSTMCNN.save('LSTMCNN_fixtypo')"
   ]
  },
  {
   "cell_type": "code",
   "execution_count": 100,
   "id": "dcc57905-1d92-412c-89bb-9a701b75bd6c",
   "metadata": {},
   "outputs": [
    {
     "name": "stdout",
     "output_type": "stream",
     "text": [
      "1036/1036 [==============================] - 531s 512ms/step - loss: 0.0584 - accuracy: 0.8616\n",
      "Train Loss: 0.058382946997880936\n",
      "Train Accuracy: 0.8616361618041992\n",
      "444/444 [==============================] - 226s 510ms/step - loss: 0.0869 - accuracy: 0.8169\n",
      "Test Loss: 0.0868949219584465\n",
      "Test Accuracy: 0.8169306516647339\n"
     ]
    }
   ],
   "source": [
    "LSTMCNN_best = load_model('BestModels/lstmcnn_fixtypo.h5')\n",
    "LSTMCNN_train_score = LSTMCNN_best.evaluate([X_train, X_train], y_train, batch_size=batch_size2, verbose=1)\n",
    "print('Train Loss:', LSTMCNN_train_score[0])\n",
    "print('Train Accuracy:', LSTMCNN_train_score[1])\n",
    "\n",
    "LSTMCNN_test_score = LSTMCNN_best.evaluate([X_test, X_test], y_test, batch_size=batch_size2, verbose=1)\n",
    "print('Test Loss:', LSTMCNN_test_score[0])\n",
    "print('Test Accuracy:', LSTMCNN_test_score[1])"
   ]
  },
  {
   "cell_type": "code",
   "execution_count": 101,
   "id": "333ad5c4-d48c-41f5-8bdc-e601e25a1948",
   "metadata": {},
   "outputs": [
    {
     "data": {
      "image/png": "[encoded data removed]",
      "text/plain": [
       "<Figure size 432x288 with 1 Axes>"
      ]
     },
     "metadata": {
      "needs_background": "light"
     },
     "output_type": "display_data"
    },
    {
     "data": {
      "image/png": "[encoded data removed]",
      "text/plain": [
       "<Figure size 432x288 with 1 Axes>"
      ]
     },
     "metadata": {
      "needs_background": "light"
     },
     "output_type": "display_data"
    }
   ],
   "source": [
    "LSTMCNN_history_dict = LSTMCNN_fit.history\n",
    "plt.plot(LSTMCNN_history_dict['accuracy'])\n",
    "plt.plot(LSTMCNN_history_dict['val_accuracy'])\n",
    "\n",
    "plt.title('LSTM-CNN Classification Accuracy')\n",
    "plt.ylabel('accuracy')\n",
    "plt.xlabel('epoch')\n",
    "plt.legend(['train','validation'], loc='upper left')\n",
    "plt.show()\n",
    "\n",
    "plt.plot(LSTMCNN_history_dict['loss'])\n",
    "plt.plot(LSTMCNN_history_dict['val_loss'])\n",
    "\n",
    "plt.title('LSTM-CNN Classification Loss')\n",
    "plt.ylabel('loss')\n",
    "plt.xlabel('epoch')\n",
    "plt.legend(['train','validation'], loc='upper left')\n",
    "plt.show()"
   ]
  },
  {
   "cell_type": "code",
   "execution_count": 102,
   "id": "9ebe59dd-995b-424e-bcf0-1a6ce6531a2c",
   "metadata": {},
   "outputs": [
    {
     "name": "stdout",
     "output_type": "stream",
     "text": [
      "444/444 [==============================] - 225s 507ms/step\n",
      "0.7667722632875748\n"
     ]
    }
   ],
   "source": [
    "LSTMCNN_y_pred = LSTMCNN_best.predict([X_test, X_test], batch_size=batch_size2, verbose=1)\n",
    "# lebih dari 0.5 dihitung sebagai 1\n",
    "LSTMCNN_predictions = (LSTMCNN_y_pred > 0.5).astype(int)\n",
    "\n",
    "# Subset accuracy: % of samples that have ALL the labels classified correctly\n",
    "print(accuracy_score(y_test.tolist(), LSTMCNN_predictions))"
   ]
  },
  {
   "cell_type": "code",
   "execution_count": 103,
   "id": "b26b8e6e-fc4a-4a26-a1d3-16e5a5972c66",
   "metadata": {},
   "outputs": [
    {
     "data": {
      "text/plain": [
       "0.031136915"
      ]
     },
     "execution_count": 103,
     "metadata": {},
     "output_type": "execute_result"
    }
   ],
   "source": [
    "hamming_loss = HammingLoss(mode='multilabel')\n",
    "hamming_loss.update_state(y_test.tolist(), LSTMCNN_predictions)\n",
    "hamming_loss.result().numpy()"
   ]
  },
  {
   "cell_type": "code",
   "execution_count": 104,
   "id": "f18d9cd0-b49f-4198-bbf6-fb92726a99dd",
   "metadata": {},
   "outputs": [
    {
     "name": "stderr",
     "output_type": "stream",
     "text": [
      "C:\\Users\\Tugas Akhir\\anaconda3\\envs\\MLenv\\lib\\site-packages\\sklearn\\metrics\\_classification.py:1327: UndefinedMetricWarning: Precision and F-score are ill-defined and being set to 0.0 in samples with no predicted labels. Use `zero_division` parameter to control this behavior.\n",
      "  _warn_prf(average, modifier, msg_start, len(result))\n"
     ]
    },
    {
     "data": {
      "text/html": [
       "<div>\n",
       "<style scoped>\n",
       "    .dataframe tbody tr th:only-of-type {\n",
       "        vertical-align: middle;\n",
       "    }\n",
       "\n",
       "    .dataframe tbody tr th {\n",
       "        vertical-align: top;\n",
       "    }\n",
       "\n",
       "    .dataframe thead th {\n",
       "        text-align: right;\n",
       "    }\n",
       "</style>\n",
       "<table border=\"1\" class=\"dataframe\">\n",
       "  <thead>\n",
       "    <tr style=\"text-align: right;\">\n",
       "      <th></th>\n",
       "      <th>precision</th>\n",
       "      <th>recall</th>\n",
       "      <th>f1-score</th>\n",
       "      <th>support</th>\n",
       "    </tr>\n",
       "  </thead>\n",
       "  <tbody>\n",
       "    <tr>\n",
       "      <th>menstruasi</th>\n",
       "      <td>0.884848</td>\n",
       "      <td>0.907700</td>\n",
       "      <td>0.896128</td>\n",
       "      <td>4182.0</td>\n",
       "    </tr>\n",
       "    <tr>\n",
       "      <th>kehamilan</th>\n",
       "      <td>0.853387</td>\n",
       "      <td>0.853631</td>\n",
       "      <td>0.853509</td>\n",
       "      <td>3498.0</td>\n",
       "    </tr>\n",
       "    <tr>\n",
       "      <th>obat</th>\n",
       "      <td>0.838387</td>\n",
       "      <td>0.783523</td>\n",
       "      <td>0.810027</td>\n",
       "      <td>3423.0</td>\n",
       "    </tr>\n",
       "    <tr>\n",
       "      <th>asam-lambung</th>\n",
       "      <td>0.920820</td>\n",
       "      <td>0.834401</td>\n",
       "      <td>0.875483</td>\n",
       "      <td>3122.0</td>\n",
       "    </tr>\n",
       "    <tr>\n",
       "      <th>bayi</th>\n",
       "      <td>0.944603</td>\n",
       "      <td>0.968831</td>\n",
       "      <td>0.956564</td>\n",
       "      <td>3080.0</td>\n",
       "    </tr>\n",
       "    <tr>\n",
       "      <th>sakit-kepala</th>\n",
       "      <td>0.918188</td>\n",
       "      <td>0.928171</td>\n",
       "      <td>0.923153</td>\n",
       "      <td>3035.0</td>\n",
       "    </tr>\n",
       "    <tr>\n",
       "      <th>benjolan</th>\n",
       "      <td>0.943309</td>\n",
       "      <td>0.946742</td>\n",
       "      <td>0.945022</td>\n",
       "      <td>3023.0</td>\n",
       "    </tr>\n",
       "    <tr>\n",
       "      <th>kulit</th>\n",
       "      <td>0.749333</td>\n",
       "      <td>0.739961</td>\n",
       "      <td>0.744617</td>\n",
       "      <td>3038.0</td>\n",
       "    </tr>\n",
       "    <tr>\n",
       "      <th>alergi</th>\n",
       "      <td>0.788043</td>\n",
       "      <td>0.619862</td>\n",
       "      <td>0.693908</td>\n",
       "      <td>3041.0</td>\n",
       "    </tr>\n",
       "    <tr>\n",
       "      <th>kontrasepsi</th>\n",
       "      <td>0.903631</td>\n",
       "      <td>0.875123</td>\n",
       "      <td>0.889149</td>\n",
       "      <td>3043.0</td>\n",
       "    </tr>\n",
       "    <tr>\n",
       "      <th>micro avg</th>\n",
       "      <td>0.876214</td>\n",
       "      <td>0.847406</td>\n",
       "      <td>0.861569</td>\n",
       "      <td>32485.0</td>\n",
       "    </tr>\n",
       "    <tr>\n",
       "      <th>macro avg</th>\n",
       "      <td>0.874455</td>\n",
       "      <td>0.845794</td>\n",
       "      <td>0.858756</td>\n",
       "      <td>32485.0</td>\n",
       "    </tr>\n",
       "    <tr>\n",
       "      <th>weighted avg</th>\n",
       "      <td>0.874266</td>\n",
       "      <td>0.847406</td>\n",
       "      <td>0.859534</td>\n",
       "      <td>32485.0</td>\n",
       "    </tr>\n",
       "    <tr>\n",
       "      <th>samples avg</th>\n",
       "      <td>0.868597</td>\n",
       "      <td>0.866778</td>\n",
       "      <td>0.856522</td>\n",
       "      <td>32485.0</td>\n",
       "    </tr>\n",
       "  </tbody>\n",
       "</table>\n",
       "</div>"
      ],
      "text/plain": [
       "              precision    recall  f1-score  support\n",
       "menstruasi     0.884848  0.907700  0.896128   4182.0\n",
       "kehamilan      0.853387  0.853631  0.853509   3498.0\n",
       "obat           0.838387  0.783523  0.810027   3423.0\n",
       "asam-lambung   0.920820  0.834401  0.875483   3122.0\n",
       "bayi           0.944603  0.968831  0.956564   3080.0\n",
       "sakit-kepala   0.918188  0.928171  0.923153   3035.0\n",
       "benjolan       0.943309  0.946742  0.945022   3023.0\n",
       "kulit          0.749333  0.739961  0.744617   3038.0\n",
       "alergi         0.788043  0.619862  0.693908   3041.0\n",
       "kontrasepsi    0.903631  0.875123  0.889149   3043.0\n",
       "micro avg      0.876214  0.847406  0.861569  32485.0\n",
       "macro avg      0.874455  0.845794  0.858756  32485.0\n",
       "weighted avg   0.874266  0.847406  0.859534  32485.0\n",
       "samples avg    0.868597  0.866778  0.856522  32485.0"
      ]
     },
     "execution_count": 104,
     "metadata": {},
     "output_type": "execute_result"
    }
   ],
   "source": [
    "report_df = pd.DataFrame(\n",
    "    classification_report(y_test.tolist(), LSTMCNN_predictions, target_names=categories, output_dict=True)\n",
    ").transpose()\n",
    "\n",
    "report_df"
   ]
  },
  {
   "cell_type": "code",
   "execution_count": 105,
   "id": "7bffd587-e070-4cc4-9c11-a8c01bd857cd",
   "metadata": {},
   "outputs": [
    {
     "data": {
      "text/plain": [
       "array([[[23734,   494],\n",
       "        [  386,  3796]],\n",
       "\n",
       "       [[24399,   513],\n",
       "        [  512,  2986]],\n",
       "\n",
       "       [[24470,   517],\n",
       "        [  741,  2682]],\n",
       "\n",
       "       [[25064,   224],\n",
       "        [  517,  2605]],\n",
       "\n",
       "       [[25155,   175],\n",
       "        [   96,  2984]],\n",
       "\n",
       "       [[25124,   251],\n",
       "        [  218,  2817]],\n",
       "\n",
       "       [[25215,   172],\n",
       "        [  161,  2862]],\n",
       "\n",
       "       [[24620,   752],\n",
       "        [  790,  2248]],\n",
       "\n",
       "       [[24862,   507],\n",
       "        [ 1156,  1885]],\n",
       "\n",
       "       [[25083,   284],\n",
       "        [  380,  2663]]], dtype=int64)"
      ]
     },
     "execution_count": 105,
     "metadata": {},
     "output_type": "execute_result"
    }
   ],
   "source": [
    "LSTMCNN_cf_matrix = multilabel_confusion_matrix(y_test, LSTMCNN_predictions)\n",
    "# TN  TP\n",
    "# FN  FP\n",
    "LSTMCNN_cf_matrix"
   ]
  },
  {
   "cell_type": "code",
   "execution_count": 106,
   "id": "8c346535-0765-4ab4-9aa1-3243becb81d6",
   "metadata": {},
   "outputs": [
    {
     "data": {
      "image/png": "[encoded data removed]",
      "text/plain": [
       "<Figure size 864x504 with 10 Axes>"
      ]
     },
     "metadata": {
      "needs_background": "light"
     },
     "output_type": "display_data"
    },
    {
     "data": {
      "text/plain": [
       "<Figure size 432x288 with 0 Axes>"
      ]
     },
     "metadata": {},
     "output_type": "display_data"
    }
   ],
   "source": [
    "f, axes = plt.subplots(2, 5, figsize=(12,7))\n",
    "\n",
    "for ax, cfm, label in zip(axes.flatten(), LSTMCNN_cf_matrix, categories):\n",
    "    cf_df = pd.DataFrame(cfm, index=[\"0\", \"1\"], columns=[\"0\", \"1\"])\n",
    "    heatmap = sns.heatmap(cf_df, annot=True, fmt=\"d\", cbar=False, ax=ax, cmap='binary', square=True, linewidths=0.5)\n",
    "    heatmap.yaxis.set_ticklabels(heatmap.yaxis.get_ticklabels(), ha='right')\n",
    "    heatmap.xaxis.set_ticklabels(heatmap.xaxis.get_ticklabels(), ha='right')\n",
    "    ax.set_ylabel('True label')\n",
    "    ax.set_xlabel('Predicted label')\n",
    "    ax.set_title(f'Class {label}')\n",
    "\n",
    "f.tight_layout()\n",
    "plt.show()\n",
    "plt.savefig('ConfusionMatrix/LSTMCNN_fixtypo.png', bbox_inches=\"tight\")"
   ]
  },
  {
   "cell_type": "code",
   "execution_count": null,
   "id": "f6004d0c-00ed-4098-a136-a3e8c53822a7",
   "metadata": {},
   "outputs": [],
   "source": []
  }
 ],
 "metadata": {
  "kernelspec": {
   "display_name": "Python 3 (ipykernel)",
   "language": "python",
   "name": "python3"
  },
  "language_info": {
   "codemirror_mode": {
    "name": "ipython",
    "version": 3
   },
   "file_extension": ".py",
   "mimetype": "text/x-python",
   "name": "python",
   "nbconvert_exporter": "python",
   "pygments_lexer": "ipython3",
   "version": "3.8.13"
  }
 },
 "nbformat": 4,
 "nbformat_minor": 5
}
